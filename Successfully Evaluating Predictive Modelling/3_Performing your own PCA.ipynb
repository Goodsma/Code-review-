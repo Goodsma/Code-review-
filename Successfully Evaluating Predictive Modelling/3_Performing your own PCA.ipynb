{
 "cells": [
  {
   "cell_type": "markdown",
   "id": "424cfb4e-1b39-4fec-b06f-97c604d1ecdf",
   "metadata": {},
   "source": [
    "# Performing your own PCA"
   ]
  },
  {
   "cell_type": "markdown",
   "id": "bc9aefd1-a8ad-4502-8b28-f5e99b3f5e9b",
   "metadata": {},
   "source": [
    "The goal is to load a new dataset on the type of absenteesim, and see what variables are good explanatory factors. To this purpose, we will calculate the principle components, see how much variance they capture, and what variables are important in each component."
   ]
  },
  {
   "cell_type": "markdown",
   "id": "554974ee-238a-48db-ba64-55a22c8ff451",
   "metadata": {},
   "source": [
    "# The dataset"
   ]
  },
  {
   "cell_type": "markdown",
   "id": "7744f76b-ee45-46cd-ad43-aa41e26617ff",
   "metadata": {},
   "source": [
    "First, let's load the data"
   ]
  },
  {
   "cell_type": "code",
   "execution_count": 2,
   "id": "3bf93a82-488d-4e47-96dd-cd3896510f2e",
   "metadata": {},
   "outputs": [
    {
     "name": "stdout",
     "output_type": "stream",
     "text": [
      "       Reason for absence  Month of absence  Day of the week     Seasons  \\\n",
      "count          740.000000        740.000000       740.000000  740.000000   \n",
      "mean            19.216216          6.324324         3.914865    2.544595   \n",
      "std              8.433406          3.436287         1.421675    1.111831   \n",
      "min              0.000000          0.000000         2.000000    1.000000   \n",
      "25%             13.000000          3.000000         3.000000    2.000000   \n",
      "50%             23.000000          6.000000         4.000000    3.000000   \n",
      "75%             26.000000          9.000000         5.000000    4.000000   \n",
      "max             28.000000         12.000000         6.000000    4.000000   \n",
      "\n",
      "       Transportation expense  Distance from Residence to Work  Service time  \\\n",
      "count              740.000000                       740.000000    740.000000   \n",
      "mean               221.329730                        29.631081     12.554054   \n",
      "std                 66.952223                        14.836788      4.384873   \n",
      "min                118.000000                         5.000000      1.000000   \n",
      "25%                179.000000                        16.000000      9.000000   \n",
      "50%                225.000000                        26.000000     13.000000   \n",
      "75%                260.000000                        50.000000     16.000000   \n",
      "max                388.000000                        52.000000     29.000000   \n",
      "\n",
      "              Age  Work load Average/day   Hit target  Disciplinary failure  \\\n",
      "count  740.000000              740.000000  740.000000            740.000000   \n",
      "mean    36.450000              271.490235   94.587838              0.054054   \n",
      "std      6.478772               39.058116    3.779313              0.226277   \n",
      "min     27.000000              205.917000   81.000000              0.000000   \n",
      "25%     31.000000              244.387000   93.000000              0.000000   \n",
      "50%     37.000000              264.249000   95.000000              0.000000   \n",
      "75%     40.000000              294.217000   97.000000              0.000000   \n",
      "max     58.000000              378.884000  100.000000              1.000000   \n",
      "\n",
      "        Education         Son  Social drinker  Social smoker         Pet  \\\n",
      "count  740.000000  740.000000      740.000000     740.000000  740.000000   \n",
      "mean     1.291892    1.018919        0.567568       0.072973    0.745946   \n",
      "std      0.673238    1.098489        0.495749       0.260268    1.318258   \n",
      "min      1.000000    0.000000        0.000000       0.000000    0.000000   \n",
      "25%      1.000000    0.000000        0.000000       0.000000    0.000000   \n",
      "50%      1.000000    1.000000        1.000000       0.000000    0.000000   \n",
      "75%      1.000000    2.000000        1.000000       0.000000    1.000000   \n",
      "max      4.000000    4.000000        1.000000       1.000000    8.000000   \n",
      "\n",
      "           Weight      Height  Body mass index  Absenteeism time in hours  \n",
      "count  740.000000  740.000000       740.000000                 740.000000  \n",
      "mean    79.035135  172.114865        26.677027                   6.924324  \n",
      "std     12.883211    6.034995         4.285452                  13.330998  \n",
      "min     56.000000  163.000000        19.000000                   0.000000  \n",
      "25%     69.000000  169.000000        24.000000                   2.000000  \n",
      "50%     83.000000  170.000000        25.000000                   3.000000  \n",
      "75%     89.000000  172.000000        31.000000                   8.000000  \n",
      "max    108.000000  196.000000        38.000000                 120.000000  \n"
     ]
    }
   ],
   "source": [
    "%matplotlib inline\n",
    "\n",
    "import matplotlib.pyplot as plt\n",
    "import pandas as pd\n",
    "import numpy as np\n",
    "from sklearn import datasets\n",
    "from sklearn.decomposition import PCA\n",
    "from sklearn.preprocessing import normalize\n",
    "from pandas.plotting import scatter_matrix\n",
    "import matplotlib.cm as cm\n",
    "from random import randint\n",
    "\n",
    "data = pd.read_csv('absent.csv',sep=';',index_col=0)\n",
    "\n",
    "print(data.describe())"
   ]
  },
  {
   "cell_type": "markdown",
   "id": "55b50c43-f16e-425f-9b63-5ba581845104",
   "metadata": {},
   "source": [
    "# Applying PCA"
   ]
  },
  {
   "cell_type": "markdown",
   "id": "0611dd97-18ca-4a18-abf7-69b399f05f2c",
   "metadata": {},
   "source": [
    "We are lucky to have all numeric variables. Now,let's apply PCA:"
   ]
  },
  {
   "cell_type": "code",
   "execution_count": 5,
   "id": "c9ea7954-5bf8-42fc-8f12-a6574c0a75a9",
   "metadata": {},
   "outputs": [
    {
     "data": {
      "image/png": "[encoded data removed]",
      "text/plain": [
       "<Figure size 432x288 with 1 Axes>"
      ]
     },
     "metadata": {
      "needs_background": "light"
     },
     "output_type": "display_data"
    }
   ],
   "source": [
    "pca = PCA()\n",
    "pca.fit(data)\n",
    "\n",
    "# Scree plot\n",
    "plt.plot(range(1,len(pca.components_)+1),pca.explained_variance_ratio_,'-o')\n",
    "plt.xlabel('components')\n",
    "plt.ylabel('% explained variance')\n",
    "plt.title('Scree plot')\n",
    "plt.show()"
   ]
  },
  {
   "cell_type": "markdown",
   "id": "26e9be25-e6c1-4425-a20f-19d5a7d0f967",
   "metadata": {},
   "source": [
    "Now, find all principle components for which the explained variance is above a certain threshold. Store them as the array of weights that they are, not as an index. Also, return the explained variance of the component in a separate array."
   ]
  },
  {
   "cell_type": "code",
   "execution_count": 6,
   "id": "9e14a128-d979-476d-956e-cf9b081ff9ee",
   "metadata": {},
   "outputs": [],
   "source": [
    "def retain_explanatory_components(pca, threshold):\n",
    "    components = []\n",
    "    importance = []\n",
    "    \n",
    "    # Loop over the principle components\n",
    "    for comp in range(0, len(pca.components_)):\n",
    "                # For every component, chec whether the explained version exceeds the given threshold\n",
    "            if pca.explained_variance_ratio_[comp] >threshold:\n",
    "                \n",
    "                # if so, add the components to the lists\n",
    "                importance.append(pca.explained_variance_ratio_[comp])\n",
    "                components.append(pca.components_[comp])\n",
    "    \n",
    "    return components, importance"
   ]
  },
  {
   "cell_type": "code",
   "execution_count": 18,
   "id": "646c58ee-81d4-430f-89a0-342710b9a85f",
   "metadata": {},
   "outputs": [
    {
     "data": {
      "text/plain": [
       "array([-0.18879739,  0.01643498, -0.0159329 ,  0.00405304,  0.05143995,\n",
       "       -0.84515956, -0.04946256,  0.05992209, -0.03848584,  0.00140514,\n",
       "        0.00124005,  0.00851175,  0.00643187, -0.00972686,  0.00125651,\n",
       "       -0.00860347,  0.06020544,  0.15549031, -0.03031665,  0.45863654])"
      ]
     },
     "execution_count": 18,
     "metadata": {},
     "output_type": "execute_result"
    }
   ],
   "source": [
    "pca.components_[2]"
   ]
  },
  {
   "cell_type": "code",
   "execution_count": 21,
   "id": "a523f600-339f-44e9-93a7-83dbcd6e6e21",
   "metadata": {},
   "outputs": [
    {
     "data": {
      "text/plain": [
       "([array([-1.48852242e-02,  6.99276802e-03,  7.66122250e-04,  6.11880312e-04,\n",
       "          9.96345639e-01,  6.05407010e-02, -2.30112351e-02, -2.26092910e-02,\n",
       "          4.37804005e-03, -4.51306692e-03,  3.63385170e-04, -5.52332388e-04,\n",
       "          6.25535756e-03,  1.07400187e-03,  1.72931820e-04,  7.89616935e-03,\n",
       "         -4.16652431e-02, -1.80645216e-02, -9.16830153e-03,  5.39009095e-03]),\n",
       "  array([-2.83060899e-02, -1.50170564e-02,  4.84166019e-04,  4.29205251e-03,\n",
       "         -3.39209703e-03, -3.19059877e-02, -4.41430730e-04, -6.49555188e-03,\n",
       "          9.98550107e-01, -8.56669798e-03,  1.81246521e-04, -1.18565709e-03,\n",
       "          7.37281060e-04, -5.32303645e-04,  2.21123540e-04,  1.01739263e-04,\n",
       "         -1.37819309e-02,  1.71134026e-02, -1.06918322e-02,  1.03709466e-02]),\n",
       "  array([-0.18879739,  0.01643498, -0.0159329 ,  0.00405304,  0.05143995,\n",
       "         -0.84515956, -0.04946256,  0.05992209, -0.03848584,  0.00140514,\n",
       "          0.00124005,  0.00851175,  0.00643187, -0.00972686,  0.00125651,\n",
       "         -0.00860347,  0.06020544,  0.15549031, -0.03031665,  0.45863654]),\n",
       "  array([-0.03369556,  0.01081161, -0.01171384, -0.00180473,  0.03521313,\n",
       "          0.19759026,  0.16089757,  0.2168181 ,  0.01822929, -0.01914602,\n",
       "          0.00117079, -0.01889896, -0.00157908,  0.01863638, -0.00320825,\n",
       "         -0.00318854,  0.86985236,  0.08607353,  0.27417958,  0.21159714]),\n",
       "  array([-4.36390905e-02, -5.35208604e-03, -2.48164865e-03, -3.01483622e-03,\n",
       "         -4.56045911e-02,  4.38909311e-01,  5.55311433e-03, -5.35351148e-02,\n",
       "         -1.40718162e-04,  1.49145694e-02, -3.01775266e-03, -3.38064562e-03,\n",
       "          6.61647552e-03,  5.05184913e-03,  3.12297761e-05,  2.38053589e-03,\n",
       "         -2.65094246e-01, -4.74020031e-02, -7.58698031e-02,  8.49610279e-01])],\n",
       " [0.6646304049437457,\n",
       "  0.22517768476979588,\n",
       "  0.03310552317306042,\n",
       "  0.02778132336971842,\n",
       "  0.02455946403192611])"
      ]
     },
     "execution_count": 21,
     "metadata": {},
     "output_type": "execute_result"
    }
   ],
   "source": [
    "retain_explanatory_components(pca, 0.01)"
   ]
  },
  {
   "cell_type": "code",
   "execution_count": 22,
   "id": "8066e1a7-e289-4555-990e-f164a9708737",
   "metadata": {},
   "outputs": [
    {
     "data": {
      "text/plain": [
       "Index(['Reason for absence', 'Month of absence', 'Day of the week', 'Seasons',\n",
       "       'Transportation expense', 'Distance from Residence to Work',\n",
       "       'Service time', 'Age', 'Work load Average/day ', 'Hit target',\n",
       "       'Disciplinary failure', 'Education', 'Son', 'Social drinker',\n",
       "       'Social smoker', 'Pet', 'Weight', 'Height', 'Body mass index',\n",
       "       'Absenteeism time in hours'],\n",
       "      dtype='object')"
      ]
     },
     "execution_count": 22,
     "metadata": {},
     "output_type": "execute_result"
    }
   ],
   "source": [
    "data.columns"
   ]
  },
  {
   "cell_type": "code",
   "execution_count": 24,
   "id": "d2f8d4bd-0fb2-4601-b9a2-bcd223b4cda4",
   "metadata": {},
   "outputs": [],
   "source": [
    "def find_relevant_variable(component, threshold):\n",
    "    variables = []\n",
    "    weights = []\n",
    "    \n",
    "    # Loop the variables/columns of the data\n",
    "    for index, variable in enumerate(data.columns):\n",
    "        # Check whether the variable's absolute loading in the component exceeds the threshold\n",
    "        if abs(component[index]) > threshold:\n",
    "            # If so, store the variable and its loading\n",
    "            variables.append(variable)\n",
    "            weights.append(component[index])\n",
    "    \n",
    "    return variables, weights   "
   ]
  },
  {
   "cell_type": "code",
   "execution_count": 25,
   "id": "b7c9f69a-146e-4633-a9b3-082a896d8021",
   "metadata": {},
   "outputs": [],
   "source": [
    "assert find_relevant_variable(pca.components_[2],0.1)[0] == ['Reason for absence',\n",
    "  'Distance from Residence to Work',\n",
    "  'Height',\n",
    "  'Absenteeism time in hours']"
   ]
  },
  {
   "cell_type": "code",
   "execution_count": null,
   "id": "5e622ed0-ba87-41ab-a45c-a4119dae85b7",
   "metadata": {},
   "outputs": [],
   "source": []
  }
 ],
 "metadata": {
  "kernelspec": {
   "display_name": "Python 3",
   "language": "python",
   "name": "python3"
  },
  "language_info": {
   "codemirror_mode": {
    "name": "ipython",
    "version": 3
   },
   "file_extension": ".py",
   "mimetype": "text/x-python",
   "name": "python",
   "nbconvert_exporter": "python",
   "pygments_lexer": "ipython3",
   "version": "3.8.5"
  }
 },
 "nbformat": 4,
 "nbformat_minor": 5
}
