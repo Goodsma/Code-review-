{
 "cells": [
  {
   "cell_type": "markdown",
   "id": "fea5a9cd-8a75-4a60-a4c8-6bd24532f7dd",
   "metadata": {},
   "source": [
    "# Calculating error measures"
   ]
  },
  {
   "cell_type": "markdown",
   "id": "d4ad80ac-0b36-4b98-8ce0-247ef770c5f2",
   "metadata": {},
   "source": [
    "You are tasked with creating three different linear equations to separate the points in the following graph, and calculate the error measures of them. Consider the following plot:"
   ]
  },
  {
   "cell_type": "code",
   "execution_count": 1,
   "id": "e51490be-3344-4d68-8bf1-88791d5dafd9",
   "metadata": {},
   "outputs": [
    {
     "data": {
      "image/png": "[encoded data removed]",
      "text/plain": [
       "<Figure size 432x288 with 1 Axes>"
      ]
     },
     "metadata": {
      "needs_background": "light"
     },
     "output_type": "display_data"
    }
   ],
   "source": [
    "### added line to ensure plots are showing\n",
    "%matplotlib inline\n",
    "\n",
    "import numpy as np\n",
    "import matplotlib.pyplot as plt\n",
    "\n",
    "# x : 0~10\n",
    "x = np.array(range(0,11))\n",
    "\n",
    "# data points\n",
    "x_1 = [3,8,3,4,1,7,5,3,8,2]\n",
    "y_1 = [7,3,1,6,10,10,3,6,5,10]\n",
    "\n",
    "# Make a scatter plot\n",
    "plt.scatter(x_1,y_1)\n",
    "\n",
    "# Set the axes limits\n",
    "plt.axis([0,11,0,15])\n",
    "plt.show()"
   ]
  },
  {
   "cell_type": "markdown",
   "id": "d47b2ce8-e0bf-4f4d-ac54-39da758e8585",
   "metadata": {},
   "source": [
    "# Linear equations"
   ]
  },
  {
   "cell_type": "code",
   "execution_count": 2,
   "id": "96c696dd-d8c0-4cbb-b9f9-7c7b1eea2371",
   "metadata": {},
   "outputs": [
    {
     "data": {
      "image/png": "[encoded data removed]",
      "text/plain": [
       "<Figure size 432x288 with 1 Axes>"
      ]
     },
     "metadata": {
      "needs_background": "light"
     },
     "output_type": "display_data"
    }
   ],
   "source": [
    "a_1 = 0.1\n",
    "b_1 = 2\n",
    "a_2 = 0.8\n",
    "b_2 = 0\n",
    "a_3 = 3\n",
    "b_3 = 1.2\n",
    "\n",
    "plt.scatter(x_1,y_1)\n",
    "\n",
    "plt.plot(x,x*a_1+b_1,'b-')\n",
    "plt.plot(x,x*a_2+b_2,'r-')\n",
    "plt.plot(x,x*a_3,'g-')\n",
    "\n",
    "plt.axis([0, 11, 0, 15])\n",
    "plt.show()"
   ]
  },
  {
   "cell_type": "markdown",
   "id": "e845cd43-29fb-4794-a805-bc6a4090d7ef",
   "metadata": {},
   "source": [
    "# Calculating the predictions"
   ]
  },
  {
   "cell_type": "markdown",
   "id": "a9760831-591a-4a04-a840-c12a156370ea",
   "metadata": {},
   "source": [
    "Now, calculate your predictions based on the equations you have come up with:"
   ]
  },
  {
   "cell_type": "code",
   "execution_count": 3,
   "id": "d3447902-1367-4779-aadc-428833c0bb26",
   "metadata": {},
   "outputs": [],
   "source": [
    "def calculate_forecast(a, b):\n",
    "    # Your ouput is a list of forecasts\n",
    "    r=[]\n",
    "    \n",
    "    for x in x_1:\n",
    "        r.append(x*a+b)\n",
    "        \n",
    "    return r"
   ]
  },
  {
   "cell_type": "code",
   "execution_count": 4,
   "id": "628e7c59-8e3d-499e-80d5-c876e2a86b59",
   "metadata": {},
   "outputs": [
    {
     "name": "stdout",
     "output_type": "stream",
     "text": [
      "[2.3, 2.8, 2.3, 2.4, 2.1, 2.7, 2.5, 2.3, 2.8, 2.2]\n",
      "[2.4000000000000004, 6.4, 2.4000000000000004, 3.2, 0.8, 5.6000000000000005, 4.0, 2.4000000000000004, 6.4, 1.6]\n",
      "[10.2, 25.2, 10.2, 13.2, 4.2, 22.2, 16.2, 10.2, 25.2, 7.2]\n"
     ]
    }
   ],
   "source": [
    "r_1 = calculate_forecast(a_1,b_1)\n",
    "r_2 = calculate_forecast(a_2,b_2)\n",
    "r_3 = calculate_forecast(a_3,b_3)\n",
    "print(r_1)\n",
    "print(r_2)\n",
    "print(r_3)"
   ]
  },
  {
   "cell_type": "markdown",
   "id": "8d62e8b6-dadc-454c-abb0-80541413da44",
   "metadata": {},
   "source": [
    "# Calculating the error metrics"
   ]
  },
  {
   "cell_type": "markdown",
   "id": "e328d9ba-b110-4ccb-9727-bd6cb41ee870",
   "metadata": {},
   "source": [
    "# Mean abolute error (MAE)\n",
    "Mean of all absolute errors"
   ]
  },
  {
   "cell_type": "code",
   "execution_count": 6,
   "id": "4bcc4e1e-4410-402c-94e2-ec191e10d63e",
   "metadata": {},
   "outputs": [],
   "source": [
    "def mean_absolute_error(y,r):\n",
    "    mae = 0\n",
    "    \n",
    "    from sklearn.metrics import mean_absolute_error as maef\n",
    "    \n",
    "    mae = maef(y,r)\n",
    "    \n",
    "    return mae"
   ]
  },
  {
   "cell_type": "code",
   "execution_count": 8,
   "id": "7a64573b-72fb-4337-8c0b-11d3d476374c",
   "metadata": {},
   "outputs": [
    {
     "name": "stdout",
     "output_type": "stream",
     "text": [
      "3.9199999999999995\n",
      "4.02\n",
      "10.02\n"
     ]
    }
   ],
   "source": [
    "print(mean_absolute_error(y_1,r_1))\n",
    "print(mean_absolute_error(y_1,r_2))\n",
    "print(mean_absolute_error(y_1,r_3))"
   ]
  },
  {
   "cell_type": "markdown",
   "id": "b6088567-6559-4fa4-92c2-663cad8da8a3",
   "metadata": {},
   "source": [
    "# Root mean squared error"
   ]
  },
  {
   "cell_type": "code",
   "execution_count": 9,
   "id": "ef306003-68ed-4a50-911d-0a7157b9ac7a",
   "metadata": {},
   "outputs": [],
   "source": [
    "def root_mean_square_error(y,r):\n",
    "    rmse = 0\n",
    "    \n",
    "    from math import sqrt\n",
    "    from sklearn.metrics import mean_squared_error as mse\n",
    "    \n",
    "    rmse = sqrt(mse(y,r))\n",
    "    \n",
    "    return rmse"
   ]
  },
  {
   "cell_type": "code",
   "execution_count": 10,
   "id": "0e2b12ec-33a2-4638-9465-d34bbdb5d909",
   "metadata": {},
   "outputs": [
    {
     "name": "stdout",
     "output_type": "stream",
     "text": [
      "5.198653671865438\n",
      "4.827007354458868\n",
      "11.957424471850114\n"
     ]
    }
   ],
   "source": [
    "print(root_mean_square_error(y_1,calculate_forecast(1.4,0.3)))\n",
    "print(root_mean_square_error(y_1,r_2))\n",
    "print(root_mean_square_error(y_1,r_3))"
   ]
  },
  {
   "cell_type": "markdown",
   "id": "d5ac617e-bc5b-4b0f-be31-1d1bdaacb4c2",
   "metadata": {},
   "source": [
    "# Mean absolute percentage error"
   ]
  },
  {
   "cell_type": "markdown",
   "id": "c068344f-2334-4dff-b0a1-aedbedb3be25",
   "metadata": {},
   "source": [
    "mean absolute percentage error\n",
    "\n",
    "percentage error:\n",
    "pi = 100 * (ei/yi)\n",
    "\n",
    "scale-independent measures, which are based on ratios.\n",
    "\n",
    "The MAPE is often used in forecasting for trend prediction and is omnipresent in time series analysis.\n"
   ]
  },
  {
   "cell_type": "code",
   "execution_count": 11,
   "id": "02467b81-d8e8-475c-8656-a6643fd4c2b3",
   "metadata": {},
   "outputs": [],
   "source": [
    "def mean_absolute_percentage_error(y_true, y_pred):\n",
    "    mape = 0\n",
    "    pe = []\n",
    "    \n",
    "    for i in range(0,len(y_true)):\n",
    "        pe_i = (y_true[i]-y_pred[i])/y_true[i]*100\n",
    "        \n",
    "        pe.append(abs(pe_i))\n",
    "    \n",
    "    mape = np.average(pe)\n",
    "    \n",
    "    return mape"
   ]
  },
  {
   "cell_type": "code",
   "execution_count": 12,
   "id": "42620400-53bb-43aa-8650-bd90bc8d3cb7",
   "metadata": {},
   "outputs": [
    {
     "name": "stdout",
     "output_type": "stream",
     "text": [
      "120.94285714285715\n",
      "70.70476190476191\n",
      "294.7714285714286\n"
     ]
    }
   ],
   "source": [
    "print(mean_absolute_percentage_error(y_1,calculate_forecast(1.5,0.3)))\n",
    "print(mean_absolute_percentage_error(y_1,r_2))\n",
    "print(mean_absolute_percentage_error(y_1,r_3))"
   ]
  },
  {
   "cell_type": "code",
   "execution_count": null,
   "id": "ebd68ce0-7b46-42cf-bfa7-ef5d96deaae2",
   "metadata": {},
   "outputs": [],
   "source": []
  }
 ],
 "metadata": {
  "kernelspec": {
   "display_name": "Python 3",
   "language": "python",
   "name": "python3"
  },
  "language_info": {
   "codemirror_mode": {
    "name": "ipython",
    "version": 3
   },
   "file_extension": ".py",
   "mimetype": "text/x-python",
   "name": "python",
   "nbconvert_exporter": "python",
   "pygments_lexer": "ipython3",
   "version": "3.8.5"
  }
 },
 "nbformat": 4,
 "nbformat_minor": 5
}
