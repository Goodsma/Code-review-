{
 "cells": [
  {
   "cell_type": "markdown",
   "id": "feabfb1e-3e14-4e72-8d69-df93ce831fdd",
   "metadata": {},
   "source": [
    "# Bootstrap"
   ]
  },
  {
   "cell_type": "markdown",
   "id": "3eb44e12-29eb-4373-afda-08dbd3714ef2",
   "metadata": {},
   "source": [
    "bootstrapping is not supported in scikit-learn anymore. There are other techniques we can use, and other sampling methods in the cross-validation function. A common one is addressed below."
   ]
  },
  {
   "cell_type": "markdown",
   "id": "ea88c880-2925-4d4c-949e-74348c986a26",
   "metadata": {},
   "source": [
    "## The data"
   ]
  },
  {
   "cell_type": "code",
   "execution_count": 2,
   "id": "44d19c68-1d0c-4533-8bbe-d0132863f968",
   "metadata": {},
   "outputs": [],
   "source": [
    "import numpy as np\n",
    "from sklearn.model_selection import train_test_split\n",
    "from sklearn.datasets import make_classification\n",
    "from sklearn.linear_model import LogisticRegression\n",
    "\n",
    "classifier = LogisticRegression(solver='liblinear')\n",
    "\n",
    "X,y = make_classification(n_samples=20, n_features=10, n_informative=2, n_redundant=0, n_repeated=0, n_classes=2, n_clusters_per_class=1, weights=(0.7,0.3), class_sep=0.99, random_state=14)\n",
    "\n",
    "X_train, X_test, y_train, y_test = train_test_split(X,y,test_size=0.3,random_state=42)"
   ]
  },
  {
   "cell_type": "markdown",
   "id": "89eeebe2-59de-40bf-9fa8-5d067264a6b1",
   "metadata": {},
   "source": [
    "## The ShuffleSplit function"
   ]
  },
  {
   "cell_type": "markdown",
   "id": "4ecf6b62-5bfc-4d91-b777-6aac7a3033ed",
   "metadata": {},
   "source": [
    "NNow let's look at said function. ShuffleSplit is performing cross-validation, but shuffles the data after each iteration to avoid a deterministic training and test set. Hence, some training and test sets have overlapping instances: "
   ]
  },
  {
   "cell_type": "code",
   "execution_count": 10,
   "id": "2028e586-867a-4ac1-9146-7c5ca891d4bf",
   "metadata": {},
   "outputs": [
    {
     "name": "stdout",
     "output_type": "stream",
     "text": [
      "Training indices: [12  4  1 11 10  6  9  2  3 18 17 19  0 14] Test indices: [13  8  5 15  7 16]\n",
      "Training indices: [ 3  2  5  9  8  0 15 13  7  4  6 11 17 18] Test indices: [ 1 19 16 12 10 14]\n",
      "Training indices: [ 0 19  3  2  4 15 10 18 12 16 13 11 14  5] Test indices: [ 1  6 17  8  9  7]\n",
      "Training indices: [17  3  4 15  7  8 19  1 16 10  6 12 11 13] Test indices: [ 0  2  5 14 18  9]\n",
      "Training indices: [16 12 18  0  2 11 17  8  3  6 13 19  5  7] Test indices: [10 15 14  4  9  1]\n",
      "Training indices: [13  3 10  1  2  8 19 12 15  7  0  9 18 16] Test indices: [ 6 14  4  5 17 11]\n",
      "Training indices: [ 7  5  2  6 12  0  8 14  4  3  1 17 18 11] Test indices: [16 19 10 15 13  9]\n",
      "Training indices: [10  5 15 19 18  1  4 14  3  6  8 17  7 16] Test indices: [ 2  9  0 13 12 11]\n",
      "Training indices: [17  0 10  1 11 13 12  7  4  6 14 19  2 16] Test indices: [18  8  5  3 15  9]\n",
      "Training indices: [ 9  7  1 13 12  0  6 11  8 15  4  2 17 16] Test indices: [ 3 19 18  5 10 14]\n"
     ]
    }
   ],
   "source": [
    "from sklearn.model_selection import ShuffleSplit\n",
    "from sklearn.model_selection import cross_validate\n",
    "\n",
    "metrics = ['accuracy']\n",
    "ss = ShuffleSplit(n_splits= 10, test_size=0.3)\n",
    "\n",
    "for train_index, test_index in ss.split(X):\n",
    "    print('Training indices:', train_index, 'Test indices:', test_index)"
   ]
  },
  {
   "cell_type": "code",
   "execution_count": 5,
   "id": "f58d7b60-8786-4dca-b3f1-b6cb8192379f",
   "metadata": {},
   "outputs": [
    {
     "name": "stdout",
     "output_type": "stream",
     "text": [
      "\n",
      "Metrics: \n",
      "fit_time value: [0.00199986 0.00100064 0.00099587 0.00100064 0.         0.00100517\n",
      " 0.00100088 0.0010004  0.0009973  0.00099969]\n",
      "score_time value: [0.00099659 0.00100541 0.         0.         0.00099921 0.00099325\n",
      " 0.         0.00099921 0.00100017 0.        ]\n",
      "test_accuracy value: [0.8 0.6 1.  0.8 1.  0.4 0.8 0.6 0.8 1. ]\n"
     ]
    }
   ],
   "source": [
    "print('\\nMetrics: ')\n",
    "outcomes = cross_validate(classifier, X_train, y_train, scoring=metrics, cv=ss, return_train_score=False)\n",
    "for metric in outcomes.keys():\n",
    "    print(metric+' value: '+str(outcomes[metric]))"
   ]
  },
  {
   "cell_type": "markdown",
   "id": "4498da9d-6a3f-417b-91e9-84645b97dfe1",
   "metadata": {},
   "source": [
    "## Stratified shuffling"
   ]
  },
  {
   "cell_type": "code",
   "execution_count": 7,
   "id": "09ca807d-8544-4e64-9326-fd46b93eb7d9",
   "metadata": {},
   "outputs": [
    {
     "name": "stdout",
     "output_type": "stream",
     "text": [
      "fit_time value: [0.00100255 0.00200343 0.0010035  0.00200057 0.00099325 0.0009973\n",
      " 0.         0.         0.         0.00100064]\n",
      "score_time value: [0.00099969 0.         0.00099564 0.         0.         0.00100231\n",
      " 0.00099754 0.00100994 0.00100493 0.00100255]\n",
      "test_accuracy value: [0.8 0.8 1.  0.8 0.8 0.6 0.8 0.6 0.6 1. ]\n"
     ]
    }
   ],
   "source": [
    "from sklearn.model_selection import StratifiedShuffleSplit\n",
    "\n",
    "metrics = ['accuracy']\n",
    "ss = StratifiedShuffleSplit(n_splits=10, test_size=0.3)\n",
    "\n",
    "outcomes = cross_validate(classifier, X_train, y_train, scoring=metrics, cv=ss, return_train_score=False)\n",
    "\n",
    "for metric in outcomes.keys():\n",
    "    print(metric+' value: '+str(outcomes[metric]))"
   ]
  },
  {
   "cell_type": "code",
   "execution_count": null,
   "id": "d2e344a0-e000-4219-bdcc-9f5c0259a93f",
   "metadata": {},
   "outputs": [],
   "source": []
  }
 ],
 "metadata": {
  "kernelspec": {
   "display_name": "Python 3",
   "language": "python",
   "name": "python3"
  },
  "language_info": {
   "codemirror_mode": {
    "name": "ipython",
    "version": 3
   },
   "file_extension": ".py",
   "mimetype": "text/x-python",
   "name": "python",
   "nbconvert_exporter": "python",
   "pygments_lexer": "ipython3",
   "version": "3.8.5"
  }
 },
 "nbformat": 4,
 "nbformat_minor": 5
}
