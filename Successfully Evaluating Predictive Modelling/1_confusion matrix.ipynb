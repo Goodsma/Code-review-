{
 "cells": [
  {
   "cell_type": "markdown",
   "id": "80a3aa8e-f790-424a-aa5d-88f3d90593a8",
   "metadata": {},
   "source": [
    "# Coding your own confusion matrix"
   ]
  },
  {
   "cell_type": "markdown",
   "id": "5cb94032-ee49-4b3e-ae54-86d3a99ad1df",
   "metadata": {},
   "source": [
    "We are now going to calculate the confusion matrix for a binary classification and the various metrics that are based on it.\n",
    "\n",
    "So, let's start by building the data we need, i.e., three datasets (abbreviated to 'dat') with a binary dependent variable for which we will build a separate classification and one benchmarking set that contains the 'real' observations:"
   ]
  },
  {
   "cell_type": "code",
   "execution_count": 1,
   "id": "3091f988-e472-4692-98df-a00cbab65191",
   "metadata": {},
   "outputs": [],
   "source": [
    "import matplotlib.pyplot as plt\n",
    "from sklearn.datasets import make_classification\n",
    "from sklearn.metrics import roc_curve as roc\n",
    "from sklearn.metrics import auc\n",
    "from sklearn.linear_model import LinearRegression, LogisticRegression"
   ]
  },
  {
   "cell_type": "markdown",
   "id": "40031c08-fbbf-468e-867d-de4668203e3b",
   "metadata": {},
   "source": [
    "make_classification\n",
    "\n",
    "https://scikit-learn.org/stable/modules/generated/sklearn.datasets.make_classification.html "
   ]
  },
  {
   "cell_type": "code",
   "execution_count": 2,
   "id": "c24770f9-f690-4fbf-8455-71156f51f0a2",
   "metadata": {},
   "outputs": [],
   "source": [
    "dat1 = make_classification(n_samples=100, \n",
    "                    n_features=3, \n",
    "                    n_informative=3, \n",
    "                    n_redundant=0, \n",
    "                    n_repeated=0, \n",
    "                    n_classes=2, \n",
    "                    n_clusters_per_class=2, random_state=8)\n",
    "dat2 = make_classification(n_samples=100, \n",
    "                    n_features=3, \n",
    "                    n_informative=3, \n",
    "                    n_redundant=0, \n",
    "                    n_repeated=0, \n",
    "                    n_classes=2, \n",
    "                    n_clusters_per_class=2, random_state=9)\n",
    "dat3 = make_classification(n_samples=100, \n",
    "                    n_features=3, \n",
    "                    n_informative=3, \n",
    "                    n_redundant=0, \n",
    "                    n_repeated=0, \n",
    "                    n_classes=2, \n",
    "                    n_clusters_per_class=2, random_state=6)"
   ]
  },
  {
   "cell_type": "code",
   "execution_count": 7,
   "id": "29c5ce40-f55d-4b21-bbe4-67560d20418d",
   "metadata": {},
   "outputs": [
    {
     "data": {
      "text/plain": [
       "(array([[-0.48117217,  1.52786181, -1.29388128],\n",
       "        [-0.21436354, -1.01387159, -0.43007951],\n",
       "        [ 0.85675353, -2.05347583, -2.29709038],\n",
       "        [ 5.32681686, -0.70950509,  2.28284851],\n",
       "        [ 0.74989094, -0.50169017, -1.24601324],\n",
       "        [-1.25176696,  2.87123508,  0.5607961 ],\n",
       "        [ 0.69074467, -0.78725323, -0.47941856],\n",
       "        [ 1.06140003, -2.14959226, -1.93026466],\n",
       "        [ 1.2534059 , -1.1228462 , -2.68497226],\n",
       "        [-0.03424001,  1.57893097,  0.27156742],\n",
       "        [ 1.34795449, -0.64906155, -2.98695358],\n",
       "        [-1.77942292, -1.8255742 , -0.85151481],\n",
       "        [ 0.04318483, -0.61611941, -1.01447043],\n",
       "        [ 1.91761133,  2.93566691, -0.52987908],\n",
       "        [-0.03560959,  0.96492893, -1.29638984],\n",
       "        [ 2.57740006,  0.63231661, -0.35909637],\n",
       "        [ 0.15969317, -0.15893859, -1.03155955],\n",
       "        [-1.44841323, -0.50325718, -1.37618029],\n",
       "        [-1.11286878,  0.41611412, -0.1391495 ],\n",
       "        [ 1.61332108, -2.4457385 , -2.97944005],\n",
       "        [ 1.13287221, -1.66975771,  0.49960662],\n",
       "        [ 2.03647709,  0.98964027,  1.35938706],\n",
       "        [ 0.38242274,  0.05316704, -1.52399337],\n",
       "        [ 3.59840582, -1.09628038,  1.40210359],\n",
       "        [ 1.60753701,  1.42623208,  1.14957462],\n",
       "        [-0.59462859, -1.86017666, -0.5922079 ],\n",
       "        [ 0.8701728 ,  0.93367249,  1.10749525],\n",
       "        [-0.35179663,  0.75436423, -0.14388767],\n",
       "        [ 3.201651  ,  0.44187153,  1.75522756],\n",
       "        [-1.49141488, -1.99119768, -0.839093  ],\n",
       "        [-0.34823248, -0.65304202,  0.04956215],\n",
       "        [ 1.40855947,  1.8704252 ,  1.69564781],\n",
       "        [ 1.53888001, -1.34923031, -1.87082372],\n",
       "        [ 0.49198052,  0.91354774, -1.16865211],\n",
       "        [ 2.42294084,  1.35920389,  0.05415339],\n",
       "        [-0.44717884, -0.13921676,  0.52547291],\n",
       "        [ 5.29995067, -0.26729642,  2.34318458],\n",
       "        [ 0.7543542 ,  1.42874973,  1.12458468],\n",
       "        [ 1.83226337,  1.77476871, -0.3559717 ],\n",
       "        [ 1.63759461, -0.79586599, -2.39255714],\n",
       "        [ 0.50954211,  1.93620959,  1.26299007],\n",
       "        [-0.50986676,  0.50798686, -0.73729286],\n",
       "        [-0.45102274, -0.21914147, -0.6971052 ],\n",
       "        [ 1.23382018,  1.93687658, -0.40271473],\n",
       "        [ 2.67135679,  0.57457749, -1.27891321],\n",
       "        [ 0.76256517, -1.01656196, -1.12565524],\n",
       "        [-1.74950404,  0.0829735 , -2.03223406],\n",
       "        [ 0.62686024, -1.33864289,  0.12182588],\n",
       "        [-3.68813657, -3.92495423, -1.75572584],\n",
       "        [ 0.21990001,  1.4643214 , -1.05130254],\n",
       "        [-0.53688609, -1.48982257, -0.44214472],\n",
       "        [ 1.20994522,  0.02145089, -0.56850701],\n",
       "        [-0.01394381, -0.09526537,  0.56592638],\n",
       "        [-3.21417257, -2.20871145, -2.02791355],\n",
       "        [ 0.60609811,  0.87348173, -0.61084593],\n",
       "        [ 1.34274482,  0.26431209,  0.94398526],\n",
       "        [ 1.02456122, -1.26857244, -1.3434089 ],\n",
       "        [-1.11206464,  1.40532641,  0.58417718],\n",
       "        [ 0.78425161,  0.45453433, -1.30093707],\n",
       "        [-0.58863939, -1.69332903, -1.00573786],\n",
       "        [-1.55743564, -0.35438482, -1.72248556],\n",
       "        [-2.2607705 , -0.06210552, -2.29253382],\n",
       "        [ 1.23307903, -0.86749038, -0.44342896],\n",
       "        [ 0.79191006,  0.06660578, -1.46526119],\n",
       "        [ 0.91382915, -0.38212707, -0.68551488],\n",
       "        [ 0.93987724,  1.11774844,  0.72951414],\n",
       "        [ 1.36936666,  1.80504506,  1.28241675],\n",
       "        [ 0.2199913 ,  2.32979768,  0.91753047],\n",
       "        [ 1.10423687, -0.44774498, -1.79589944],\n",
       "        [ 1.32467131, -0.56672456,  1.0536221 ],\n",
       "        [ 1.72394685,  0.79575333, -1.00283868],\n",
       "        [ 1.99355237, -1.3389817 ,  0.73726231],\n",
       "        [ 1.29177413, -0.28325458, -1.33574323],\n",
       "        [ 1.08889998,  2.66447343, -1.49504497],\n",
       "        [ 1.15714567,  1.83418505,  1.14242612],\n",
       "        [ 0.05122283,  0.65462343, -1.35406599],\n",
       "        [ 1.54873346, -1.72746205, -2.25156099],\n",
       "        [-1.54220615,  2.10208042,  0.46171384],\n",
       "        [ 0.95551619, -0.5769231 , -0.57344308],\n",
       "        [ 0.0515882 , -0.87766002, -1.31734564],\n",
       "        [ 0.92890149,  1.43007584,  1.06140136],\n",
       "        [-0.49123256,  1.93043875,  0.7237652 ],\n",
       "        [-0.67254729, -0.28743673, -0.52589268],\n",
       "        [ 0.55015645, -1.89729063, -0.78193258],\n",
       "        [ 0.93627121,  0.37775907, -0.347821  ],\n",
       "        [ 1.23131898,  0.32563231, -2.24655261],\n",
       "        [ 1.38577956,  0.21998769, -0.14964922],\n",
       "        [-0.87643486, -1.00351063, -0.79944655],\n",
       "        [ 0.97818556,  1.23743148, -1.68470029],\n",
       "        [-0.89665828, -1.68882747, -0.35414002],\n",
       "        [-0.87887637, -0.56910618, -1.0822777 ],\n",
       "        [ 0.90181459,  0.10321329, -1.41661083],\n",
       "        [ 1.78436644,  1.32599877,  1.10856004],\n",
       "        [ 0.97798716, -0.50974205, -1.39480639],\n",
       "        [ 1.53114745, -1.2357316 , -1.95224837],\n",
       "        [ 1.11744553,  0.05788658, -0.98825189],\n",
       "        [-1.03978238, -1.19638912, -0.61147761],\n",
       "        [-0.74186353,  0.2404399 , -1.3124361 ],\n",
       "        [ 4.08739392,  0.40198335,  2.14053481],\n",
       "        [ 1.24160958, -0.94591374, -2.08928176]]),\n",
       " array([1, 1, 0, 0, 1, 0, 0, 0, 0, 0, 0, 1, 1, 1, 1, 1, 1, 1, 0, 0, 1, 0,\n",
       "        1, 0, 0, 1, 0, 0, 0, 1, 1, 0, 0, 1, 1, 1, 0, 0, 1, 0, 0, 1, 1, 1,\n",
       "        1, 0, 1, 1, 1, 1, 1, 0, 1, 1, 1, 0, 0, 0, 1, 1, 1, 1, 0, 1, 0, 0,\n",
       "        0, 0, 0, 0, 1, 1, 0, 1, 0, 1, 0, 0, 0, 1, 0, 0, 1, 0, 1, 0, 1, 1,\n",
       "        1, 1, 1, 0, 0, 0, 0, 1, 1, 1, 0, 0]))"
      ]
     },
     "execution_count": 7,
     "metadata": {},
     "output_type": "execute_result"
    }
   ],
   "source": [
    "dat1"
   ]
  },
  {
   "cell_type": "code",
   "execution_count": 9,
   "id": "4db90350-a57c-4fc9-851f-c900b10d0836",
   "metadata": {},
   "outputs": [],
   "source": [
    "actuals = [dat1[1],dat2[1],dat3[1]]\n",
    "\n",
    "log_reg = LogisticRegression(solver='liblinear')\n",
    "log_reg.fit(dat1[0],dat1[1])\n",
    "outputD1 = log_reg.predict(dat1[0])\n",
    "log_reg.fit(dat2[0],dat2[1])\n",
    "outputD2 = log_reg.predict(dat2[0])\n",
    "log_reg.fit(dat3[0],dat3[1])\n",
    "outputD3 = log_reg.predict(dat3[0])\n",
    "predictions = [outputD1,outputD2,outputD3]"
   ]
  },
  {
   "cell_type": "code",
   "execution_count": 10,
   "id": "e2e3677f-f2a1-4191-aadd-3f08a55a4302",
   "metadata": {},
   "outputs": [
    {
     "name": "stdout",
     "output_type": "stream",
     "text": [
      "The class labels\n",
      "[array([1, 1, 0, 0, 1, 0, 0, 0, 0, 0, 0, 1, 1, 1, 1, 1, 1, 1, 0, 0, 1, 0,\n",
      "       1, 0, 0, 1, 0, 0, 0, 1, 1, 0, 0, 1, 1, 1, 0, 0, 1, 0, 0, 1, 1, 1,\n",
      "       1, 0, 1, 1, 1, 1, 1, 0, 1, 1, 1, 0, 0, 0, 1, 1, 1, 1, 0, 1, 0, 0,\n",
      "       0, 0, 0, 0, 1, 1, 0, 1, 0, 1, 0, 0, 0, 1, 0, 0, 1, 0, 1, 0, 1, 1,\n",
      "       1, 1, 1, 0, 0, 0, 0, 1, 1, 1, 0, 0]), array([0, 0, 1, 1, 1, 0, 1, 1, 1, 1, 1, 0, 0, 1, 0, 1, 1, 0, 0, 0, 1, 0,\n",
      "       1, 1, 1, 0, 1, 0, 0, 0, 0, 0, 1, 0, 1, 0, 1, 0, 0, 0, 1, 1, 0, 1,\n",
      "       0, 1, 0, 1, 1, 1, 1, 0, 0, 0, 0, 1, 0, 0, 0, 0, 0, 1, 1, 0, 1, 0,\n",
      "       0, 0, 1, 0, 1, 0, 1, 0, 0, 1, 0, 0, 1, 0, 1, 1, 0, 1, 1, 0, 1, 0,\n",
      "       1, 1, 1, 1, 0, 1, 1, 1, 0, 0, 1, 1]), array([0, 0, 0, 1, 1, 0, 1, 1, 0, 0, 1, 0, 0, 0, 0, 0, 1, 1, 0, 1, 0, 0,\n",
      "       0, 1, 0, 1, 1, 1, 1, 0, 0, 1, 1, 0, 1, 1, 1, 1, 1, 0, 0, 1, 1, 0,\n",
      "       0, 1, 0, 1, 0, 0, 1, 0, 0, 1, 1, 1, 1, 0, 1, 1, 0, 0, 0, 1, 0, 0,\n",
      "       1, 0, 0, 1, 1, 0, 1, 1, 1, 1, 0, 0, 1, 1, 0, 0, 1, 0, 0, 1, 0, 1,\n",
      "       0, 0, 1, 1, 0, 1, 1, 0, 0, 0, 1, 0])]\n"
     ]
    }
   ],
   "source": [
    "print('The class labels')\n",
    "print(actuals)"
   ]
  },
  {
   "cell_type": "code",
   "execution_count": 13,
   "id": "2335f041-128b-40b8-8da7-f0c44e46b044",
   "metadata": {},
   "outputs": [
    {
     "name": "stdout",
     "output_type": "stream",
     "text": [
      "The predictions\n",
      "[array([1, 1, 1, 0, 1, 1, 0, 1, 1, 1, 1, 1, 1, 0, 1, 0, 1, 1, 1, 1, 0, 0,\n",
      "       1, 0, 0, 1, 0, 1, 0, 1, 1, 0, 0, 1, 0, 1, 0, 0, 0, 0, 0, 1, 1, 0,\n",
      "       0, 1, 1, 0, 1, 1, 1, 0, 0, 1, 1, 0, 0, 1, 1, 1, 1, 1, 0, 1, 0, 0,\n",
      "       0, 0, 1, 0, 0, 0, 0, 1, 0, 1, 0, 1, 0, 1, 0, 1, 1, 0, 0, 1, 0, 1,\n",
      "       1, 1, 1, 1, 0, 1, 0, 0, 1, 1, 0, 1]), array([0, 0, 1, 1, 1, 0, 1, 1, 1, 0, 0, 0, 0, 1, 1, 1, 1, 0, 0, 0, 1, 0,\n",
      "       1, 1, 1, 0, 0, 0, 0, 0, 1, 0, 1, 0, 1, 0, 0, 0, 1, 0, 1, 0, 0, 0,\n",
      "       0, 1, 0, 1, 1, 1, 1, 0, 0, 0, 0, 1, 0, 0, 0, 0, 0, 1, 0, 0, 1, 0,\n",
      "       0, 0, 1, 1, 1, 0, 1, 1, 0, 1, 0, 0, 1, 1, 1, 1, 0, 1, 1, 0, 1, 0,\n",
      "       1, 1, 1, 1, 0, 1, 1, 1, 0, 0, 0, 1]), array([0, 0, 0, 1, 1, 0, 1, 1, 0, 0, 1, 0, 0, 0, 0, 0, 1, 1, 0, 1, 1, 0,\n",
      "       0, 1, 0, 0, 1, 1, 0, 0, 0, 0, 1, 0, 1, 1, 1, 1, 1, 0, 0, 1, 1, 0,\n",
      "       0, 1, 0, 1, 0, 0, 1, 0, 0, 1, 0, 1, 1, 0, 1, 1, 1, 0, 0, 1, 0, 1,\n",
      "       1, 1, 0, 1, 1, 0, 1, 1, 1, 1, 0, 0, 1, 1, 1, 0, 1, 0, 0, 1, 0, 1,\n",
      "       0, 0, 1, 1, 0, 1, 1, 0, 0, 0, 1, 0])]\n"
     ]
    }
   ],
   "source": [
    "print('The predictions')\n",
    "print(predictions)"
   ]
  },
  {
   "cell_type": "markdown",
   "id": "d2de52ff-b6c6-4c6c-81f0-70347c6f9a7c",
   "metadata": {},
   "source": [
    "# Building the confusion matrix"
   ]
  },
  {
   "cell_type": "markdown",
   "id": "bcb00d69-f1ce-4586-8240-3dbc9d607555",
   "metadata": {},
   "source": [
    "Then, we calculate the confusion matrix:"
   ]
  },
  {
   "cell_type": "markdown",
   "id": "18cf5cf2-e06a-47ca-b170-106e625c2cd5",
   "metadata": {},
   "source": [
    "1 : positive<br>\n",
    "0 : negative\n",
    "\n",
    "\n",
    "||Actual:class 1|Actual:class 0|\n",
    "|------|---|---|\n",
    "|predicted 1|TP|FP|\n",
    "|predicted 0|FN|TN|\n",
    "\n",
    "\n",
    "\n"
   ]
  },
  {
   "cell_type": "code",
   "execution_count": 16,
   "id": "f8e64f51-54fd-4318-842e-1ecea7d1af01",
   "metadata": {},
   "outputs": [],
   "source": [
    "def calculate_cm(predicted, actual):\n",
    "    TP = 0\n",
    "    FP = 0\n",
    "    FN = 0\n",
    "    TN = 0\n",
    "    \n",
    "    for i in range(0, len(predicted)):\n",
    "        # check if positive or negative\n",
    "        if predicted[i] == 1:\n",
    "            # if positive, check whether true, or false positive\n",
    "            if predicted[i] == actual[i]:\n",
    "                TP += 1\n",
    "            else:\n",
    "                FP += 1\n",
    "        else:\n",
    "            # if negative, check whether true, or false negative\n",
    "            if predicted[i] == actual[i]:\n",
    "                TN += 1\n",
    "            else:\n",
    "                FN += 1\n",
    "    \n",
    "    return TP,FP,FN,TN"
   ]
  },
  {
   "cell_type": "code",
   "execution_count": 17,
   "id": "75b33edd-ddcf-4048-94f2-1c23faf7044d",
   "metadata": {},
   "outputs": [
    {
     "name": "stdout",
     "output_type": "stream",
     "text": [
      "Dataset 0\n",
      "\tT\tF\n",
      "T\t37\t18\n",
      "F\t14\t31\n",
      "Dataset 1\n",
      "\tT\tF\n",
      "T\t42\t6\n",
      "F\t8\t44\n",
      "Dataset 2\n",
      "\tT\tF\n",
      "T\t45\t5\n",
      "F\t4\t46\n"
     ]
    }
   ],
   "source": [
    "for i in range(0,3):\n",
    "    print('Dataset '+str(i))\n",
    "    TP,FP,FN,TN = calculate_cm(predictions[i], actuals[i])\n",
    "    print('\\tT\\tF')\n",
    "    print('T\\t'+str(TP)+'\\t'+str(FP))\n",
    "    print('F\\t'+str(FN)+'\\t'+str(TN))"
   ]
  },
  {
   "cell_type": "markdown",
   "id": "385b1239-d495-4ed1-a74a-2805446484a1",
   "metadata": {},
   "source": [
    "# Confusion matrix metrics"
   ]
  },
  {
   "cell_type": "markdown",
   "id": "b9f816d8-7833-413c-b38d-9ece1df3fa51",
   "metadata": {},
   "source": [
    "Now, calculate the other metrics:"
   ]
  },
  {
   "cell_type": "code",
   "execution_count": 19,
   "id": "b1b8f35e-02a0-47bd-8374-18b4fc411fce",
   "metadata": {},
   "outputs": [],
   "source": [
    "def calculate_accuracy(TP,FP,FN,TN):\n",
    "    acc = 0\n",
    "    \n",
    "    acc = (TP+TN)/(TP+FP+FN+TN)\n",
    "    \n",
    "    return acc\n",
    "\n",
    "def calculate_recall(TP,FP,FN,TN):\n",
    "    recall = 0\n",
    "    \n",
    "    recall = (TP)/(TP+FN)\n",
    "    \n",
    "    return recall\n",
    "\n",
    "def calculate_specificity(TP,FP,FN,TN):\n",
    "    spec = 0\n",
    "    \n",
    "    spec = (TN)/(TN+FP)\n",
    "    \n",
    "    return spec\n",
    "\n",
    "def calculate_precision(TP,FP,FN,TN):\n",
    "    prec = 0\n",
    "    \n",
    "    prec = (TP)/(TP+FP)\n",
    "    \n",
    "    return prec\n",
    "\n",
    "def calculate_fallout(TP,FP,FN,TN):\n",
    "    fall = 0\n",
    "    \n",
    "    fall = (FP)/(FP+TN)\n",
    "    \n",
    "    return fall\n",
    "\n"
   ]
  },
  {
   "cell_type": "markdown",
   "id": "f1b50615-a903-4124-8ee3-664e563b07e3",
   "metadata": {},
   "source": [
    "## F1-score\n"
   ]
  },
  {
   "cell_type": "markdown",
   "id": "5b0d3ff4-6a17-47a7-b46e-5ef14f0e3a81",
   "metadata": {},
   "source": [
    "There is trade-off between recall and precision.\n",
    "<br>Suppose that you are a bank and give loans to borrowers.<br>\n",
    "( 1 : good, 0:bad)<br>\n",
    "\n",
    "If you are too generous with the criteria for good credit, so you predict almost whole borrowers as positive, \n",
    "this affects more to judge bad borrowers as good borrowers than to judge good borrowers as good borrowers.<br>\n",
    "It makes precision getting low and recall getting high.<br>\n",
    "\n",
    "If you are too strict with the criteria for good credit, so you predict only limited borrowers as positive,\n",
    "this affects more to judge good borrowers as bad borrowers than to judge bad borrowers as bad borrowers.<br>\n",
    "It makes precision getting high and recall getting low.<br>\n",
    "\n",
    "One way to capture this trade-off is the F-measures. It is the weighted harmonic mean of both metrics.<br>\n",
    "F1 = 2*(precision*recall)/(precision+recall)<br>\n",
    "F-measure is a nice way of summarsing the performance."
   ]
  },
  {
   "cell_type": "code",
   "execution_count": 25,
   "id": "f22f8378-2075-428c-9aaf-a78379cedd9c",
   "metadata": {},
   "outputs": [],
   "source": [
    "def calculate_f1score(TP,FP,FN,TN):\n",
    "    f = 0\n",
    "    \n",
    "    f = 2/((1/calculate_recall(TP,FP,FN,TN))+(1/calculate_precision(TP,FP,FN,TN)))\n",
    "    \n",
    "    return f"
   ]
  },
  {
   "cell_type": "code",
   "execution_count": 27,
   "id": "0b194a0c-378a-4c8d-a04d-b8d3d252023a",
   "metadata": {},
   "outputs": [
    {
     "name": "stdout",
     "output_type": "stream",
     "text": [
      "\n",
      "------------------\n",
      "Dataset 0\n",
      "Accuracy 0.68\n",
      "Recall 0.7254901960784313\n",
      "Precision 0.6727272727272727\n",
      "Specificity 0.6326530612244898\n",
      "Fall-out 0.3673469387755102\n",
      "F1-score 0.6981132075471698\n",
      "\n",
      "------------------\n",
      "Dataset 1\n",
      "Accuracy 0.86\n",
      "Recall 0.84\n",
      "Precision 0.875\n",
      "Specificity 0.88\n",
      "Fall-out 0.12\n",
      "F1-score 0.8571428571428572\n",
      "\n",
      "------------------\n",
      "Dataset 2\n",
      "Accuracy 0.91\n",
      "Recall 0.9183673469387755\n",
      "Precision 0.9\n",
      "Specificity 0.9019607843137255\n",
      "Fall-out 0.09803921568627451\n",
      "F1-score 0.9090909090909091\n"
     ]
    }
   ],
   "source": [
    "for i in range(0,3):\n",
    "    print('\\n------------------\\nDataset '+str(i))\n",
    "    TP,FP,FN,TN = calculate_cm(predictions[i], actuals[i])\n",
    "    \n",
    "    print('Accuracy '+str(calculate_accuracy(TP,FP,FN,TN)))\n",
    "    print('Recall '+str(calculate_recall(TP,FP,FN,TN)))\n",
    "    print('Precision '+str(calculate_precision(TP,FP,FN,TN)))\n",
    "    print('Specificity '+str(calculate_specificity(TP,FP,FN,TN)))\n",
    "    print('Fall-out '+str(calculate_fallout(TP,FP,FN,TN)))\n",
    "    print('F1-score '+str(calculate_f1score(TP,FP,FN,TN)))"
   ]
  },
  {
   "cell_type": "code",
   "execution_count": null,
   "id": "a11ed9fc-1951-43f9-964b-9a221b33a58f",
   "metadata": {},
   "outputs": [],
   "source": []
  }
 ],
 "metadata": {
  "kernelspec": {
   "display_name": "Python 3",
   "language": "python",
   "name": "python3"
  },
  "language_info": {
   "codemirror_mode": {
    "name": "ipython",
    "version": 3
   },
   "file_extension": ".py",
   "mimetype": "text/x-python",
   "name": "python",
   "nbconvert_exporter": "python",
   "pygments_lexer": "ipython3",
   "version": "3.8.5"
  }
 },
 "nbformat": 4,
 "nbformat_minor": 5
}
