{
 "cells": [
  {
   "cell_type": "markdown",
   "id": "9e904e64-c8eb-4de6-90d5-95a66e0db617",
   "metadata": {},
   "source": [
    "# Build an MLP with different kernels"
   ]
  },
  {
   "cell_type": "markdown",
   "id": "d898de2c-bf88-4fc8-ab2e-5d60bf27c2be",
   "metadata": {},
   "source": [
    "## Dataset - circles"
   ]
  },
  {
   "cell_type": "code",
   "execution_count": 7,
   "id": "4ab19cb8-9dcb-485c-827a-0530a1ee6b2b",
   "metadata": {},
   "outputs": [],
   "source": [
    "import pandas as pd\n",
    "import numpy as np\n",
    "from sklearn.datasets import make_circles, make_checkerboard\n",
    "import matplotlib.pyplot as plt\n",
    "\n",
    "X, y = make_circles(n_samples=1000, noise=0.05)\n",
    "\n",
    "df = pd.DataFrame(dict(x=X[:,0], y=X[:,1], label=y))\n",
    "colors = {0:'red', 1:'blue'}"
   ]
  },
  {
   "cell_type": "code",
   "execution_count": 10,
   "id": "9df16c86-d902-424b-af4f-6800efcbb9cc",
   "metadata": {},
   "outputs": [
    {
     "data": {
      "image/png": "[encoded data removed]",
      "text/plain": [
       "<Figure size 432x288 with 1 Axes>"
      ]
     },
     "metadata": {
      "needs_background": "light"
     },
     "output_type": "display_data"
    }
   ],
   "source": [
    "# Plotting the dataset\n",
    "fig, ax = plt.subplots()\n",
    "grouped = df.groupby('label')\n",
    "for key, group in grouped:\n",
    "    group.plot(ax=ax, kind='scatter', x='x', y='y', label=key, color=colors[key])\n",
    "plt.show() "
   ]
  },
  {
   "cell_type": "markdown",
   "id": "f7816421-7d39-41d0-bced-e9b48af61b12",
   "metadata": {},
   "source": [
    "We create a training and test set:"
   ]
  },
  {
   "cell_type": "code",
   "execution_count": 14,
   "id": "f4ca9efc-0ba5-4ebb-8320-84da38ba239c",
   "metadata": {},
   "outputs": [],
   "source": [
    "from sklearn.model_selection import train_test_split\n",
    "from sklearn.metrics import accuracy_score, roc_auc_score\n",
    "\n",
    "X_train, X_test, y_train, y_test = train_test_split(X, y, test_size = 0.3)"
   ]
  },
  {
   "cell_type": "markdown",
   "id": "b008fcbf-b8a2-4ef4-8ddc-db761c337ab0",
   "metadata": {},
   "source": [
    "## Linear kernel"
   ]
  },
  {
   "cell_type": "markdown",
   "id": "d5bbb84a-a2d3-436d-a6e5-a50038c32acc",
   "metadata": {},
   "source": [
    "Now, we create a neural network with two hidden layers, and a linear kernel. Notice that we also run the algorithm 10 times so our results converge (more on this later):"
   ]
  },
  {
   "cell_type": "code",
   "execution_count": 22,
   "id": "473de5a0-9817-4d62-8416-7e815a0f42ab",
   "metadata": {},
   "outputs": [
    {
     "name": "stdout",
     "output_type": "stream",
     "text": [
      "Model: \"sequential_2\"\n",
      "_________________________________________________________________\n",
      "Layer (type)                 Output Shape              Param #   \n",
      "=================================================================\n",
      "dense_3 (Dense)              (None, 50)                150       \n",
      "_________________________________________________________________\n",
      "activation_3 (Activation)    (None, 50)                0         \n",
      "_________________________________________________________________\n",
      "dense_4 (Dense)              (None, 50)                2550      \n",
      "_________________________________________________________________\n",
      "activation_4 (Activation)    (None, 50)                0         \n",
      "_________________________________________________________________\n",
      "dense_5 (Dense)              (None, 1)                 51        \n",
      "_________________________________________________________________\n",
      "activation_5 (Activation)    (None, 1)                 0         \n",
      "=================================================================\n",
      "Total params: 2,751\n",
      "Trainable params: 2,751\n",
      "Non-trainable params: 0\n",
      "_________________________________________________________________\n",
      "Epoch 1/10\n",
      "22/22 [==============================] - 1s 2ms/step - loss: 0.6987 - accuracy: 0.5000\n",
      "Epoch 2/10\n",
      "22/22 [==============================] - 0s 2ms/step - loss: 0.6937 - accuracy: 0.5043\n",
      "Epoch 3/10\n",
      "22/22 [==============================] - 0s 2ms/step - loss: 0.6950 - accuracy: 0.4843\n",
      "Epoch 4/10\n",
      "22/22 [==============================] - 0s 2ms/step - loss: 0.6953 - accuracy: 0.4900\n",
      "Epoch 5/10\n",
      "22/22 [==============================] - 0s 2ms/step - loss: 0.6952 - accuracy: 0.4743\n",
      "Epoch 6/10\n",
      "22/22 [==============================] - 0s 2ms/step - loss: 0.6933 - accuracy: 0.5043\n",
      "Epoch 7/10\n",
      "22/22 [==============================] - 0s 2ms/step - loss: 0.6954 - accuracy: 0.5100\n",
      "Epoch 8/10\n",
      "22/22 [==============================] - 0s 2ms/step - loss: 0.6954 - accuracy: 0.4857\n",
      "Epoch 9/10\n",
      "22/22 [==============================] - 0s 2ms/step - loss: 0.6964 - accuracy: 0.4671\n",
      "Epoch 10/10\n",
      "22/22 [==============================] - 0s 2ms/step - loss: 0.6939 - accuracy: 0.5229\n",
      "Accuracy: 0.4533333333333333\n",
      "AUC: 0.4557378506958339\n"
     ]
    }
   ],
   "source": [
    "from keras.models import Sequential\n",
    "from keras.layers.core import Dense, Activation\n",
    "from tensorflow.keras.optimizers import Adam\n",
    "\n",
    "input_dim = X_train.shape[1]\n",
    "output_dim = 1\n",
    "\n",
    "model = Sequential()\n",
    "\n",
    "# Add the input layer and connect to 50 hidden neurons\n",
    "model.add(Dense(50,input_dim=input_dim))\n",
    "model.add(Activation('linear'))\n",
    "\n",
    "# Extra hidden layer can be added like this\n",
    "model.add(Dense(50))\n",
    "model.add(Activation('linear'))\n",
    "\n",
    "# Connect the previous layer to the output layer\n",
    "model.add(Dense(output_dim))\n",
    "\n",
    "# Add a final layer for classification based on the sigmoid function\n",
    "model.add(Activation('sigmoid'))\n",
    "\n",
    "# We use Adam optimiser\n",
    "model.compile(optimizer=Adam(),loss='binary_crossentropy', metrics=['accuracy'])\n",
    "model.summary()\n",
    "model.fit(X_train, y_train, epochs=10)\n",
    "\n",
    "prediction_class = [1 if i > 0.5 else 0 for i in model.predict(X_test)]\n",
    "\n",
    "print('Accuracy:', accuracy_score(y_test,prediction_class))\n",
    "print('AUC:', roc_auc_score(y_test,model.predict(X_test)))"
   ]
  },
  {
   "cell_type": "markdown",
   "id": "b9a4679d-03ce-4a2e-b329-37a7ff24e77b",
   "metadata": {},
   "source": [
    "Clearly, the network is having a hard time coming up with good results. The linear kernel will just not be able to capture the shapes in the data adequately.\n",
    "\n",
    "Let's try a different kernel."
   ]
  },
  {
   "cell_type": "markdown",
   "id": "908b556c-0c24-4ca7-b0b5-471464ca6020",
   "metadata": {},
   "source": [
    "## ReLU kernel"
   ]
  },
  {
   "cell_type": "code",
   "execution_count": 23,
   "id": "57edefaa-1941-469d-a44b-5981f0646f63",
   "metadata": {},
   "outputs": [
    {
     "name": "stdout",
     "output_type": "stream",
     "text": [
      "Model: \"sequential_3\"\n",
      "_________________________________________________________________\n",
      "Layer (type)                 Output Shape              Param #   \n",
      "=================================================================\n",
      "dense_6 (Dense)              (None, 50)                150       \n",
      "_________________________________________________________________\n",
      "activation_6 (Activation)    (None, 50)                0         \n",
      "_________________________________________________________________\n",
      "dense_7 (Dense)              (None, 50)                2550      \n",
      "_________________________________________________________________\n",
      "activation_7 (Activation)    (None, 50)                0         \n",
      "_________________________________________________________________\n",
      "dense_8 (Dense)              (None, 1)                 51        \n",
      "_________________________________________________________________\n",
      "activation_8 (Activation)    (None, 1)                 0         \n",
      "=================================================================\n",
      "Total params: 2,751\n",
      "Trainable params: 2,751\n",
      "Non-trainable params: 0\n",
      "_________________________________________________________________\n",
      "Epoch 1/10\n",
      "22/22 [==============================] - 0s 2ms/step - loss: 0.6918 - accuracy: 0.5129\n",
      "Epoch 2/10\n",
      "22/22 [==============================] - 0s 2ms/step - loss: 0.6874 - accuracy: 0.5043\n",
      "Epoch 3/10\n",
      "22/22 [==============================] - 0s 1ms/step - loss: 0.6830 - accuracy: 0.5086\n",
      "Epoch 4/10\n",
      "22/22 [==============================] - 0s 1ms/step - loss: 0.6798 - accuracy: 0.5100\n",
      "Epoch 5/10\n",
      "22/22 [==============================] - 0s 1ms/step - loss: 0.6761 - accuracy: 0.5371\n",
      "Epoch 6/10\n",
      "22/22 [==============================] - 0s 1ms/step - loss: 0.6717 - accuracy: 0.5743\n",
      "Epoch 7/10\n",
      "22/22 [==============================] - 0s 1ms/step - loss: 0.6676 - accuracy: 0.5714\n",
      "Epoch 8/10\n",
      "22/22 [==============================] - 0s 1ms/step - loss: 0.6612 - accuracy: 0.6886\n",
      "Epoch 9/10\n",
      "22/22 [==============================] - 0s 1ms/step - loss: 0.6527 - accuracy: 0.7243\n",
      "Epoch 10/10\n",
      "22/22 [==============================] - 0s 1ms/step - loss: 0.6404 - accuracy: 0.6771\n"
     ]
    },
    {
     "data": {
      "text/plain": [
       "<keras.callbacks.History at 0x2c04ce61ac0>"
      ]
     },
     "execution_count": 23,
     "metadata": {},
     "output_type": "execute_result"
    }
   ],
   "source": [
    "model = Sequential()\n",
    "model.add(Dense(50,input_dim=input_dim))\n",
    "model.add(Activation('relu'))\n",
    "\n",
    "model.add(Dense(50))\n",
    "model.add(Activation('relu'))\n",
    "\n",
    "model.add(Dense(output_dim))\n",
    "\n",
    "model.add(Activation('sigmoid'))\n",
    "\n",
    "model.compile(optimizer = Adam(), loss='binary_crossentropy', metrics=['accuracy'])\n",
    "model.summary()\n",
    "model.fit(X_train, y_train,epochs=10)\n",
    "\n"
   ]
  },
  {
   "cell_type": "code",
   "execution_count": 24,
   "id": "8e11d88a-ae1f-4f7e-abbb-68b3e8c3d9b2",
   "metadata": {},
   "outputs": [
    {
     "name": "stdout",
     "output_type": "stream",
     "text": [
      "Accuracy: 0.7066666666666667\n",
      "AUC: 0.8652794451113779\n"
     ]
    }
   ],
   "source": [
    "prediction_class = [1 if i > 0.5 else 0 for i in model.predict(X_test)]\n",
    "\n",
    "print('Accuracy:', accuracy_score(y_test,prediction_class))\n",
    "print('AUC:', roc_auc_score(y_test,model.predict(X_test)))"
   ]
  },
  {
   "cell_type": "code",
   "execution_count": null,
   "id": "2f021671-4207-4461-82bf-d3dcd47cb7ac",
   "metadata": {},
   "outputs": [],
   "source": []
  }
 ],
 "metadata": {
  "kernelspec": {
   "display_name": "Python 3",
   "language": "python",
   "name": "python3"
  },
  "language_info": {
   "codemirror_mode": {
    "name": "ipython",
    "version": 3
   },
   "file_extension": ".py",
   "mimetype": "text/x-python",
   "name": "python",
   "nbconvert_exporter": "python",
   "pygments_lexer": "ipython3",
   "version": "3.8.8"
  }
 },
 "nbformat": 4,
 "nbformat_minor": 5
}
