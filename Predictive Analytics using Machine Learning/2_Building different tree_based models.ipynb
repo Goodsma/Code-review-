{
 "cells": [
  {
   "cell_type": "markdown",
   "id": "e413811c-90f8-4c19-852d-6619616fd89e",
   "metadata": {},
   "source": [
    "# Building different tree-based models"
   ]
  },
  {
   "cell_type": "markdown",
   "id": "16012211-3ff3-4103-ab82-513435d45aad",
   "metadata": {},
   "source": [
    "how to build a random forest and AdaBoost model for the churn dataset."
   ]
  },
  {
   "cell_type": "code",
   "execution_count": 1,
   "id": "df9885da-d0a3-471e-9f53-f77c20bb23c6",
   "metadata": {},
   "outputs": [
    {
     "data": {
      "text/html": [
       "<div>\n",
       "<style scoped>\n",
       "    .dataframe tbody tr th:only-of-type {\n",
       "        vertical-align: middle;\n",
       "    }\n",
       "\n",
       "    .dataframe tbody tr th {\n",
       "        vertical-align: top;\n",
       "    }\n",
       "\n",
       "    .dataframe thead th {\n",
       "        text-align: right;\n",
       "    }\n",
       "</style>\n",
       "<table border=\"1\" class=\"dataframe\">\n",
       "  <thead>\n",
       "    <tr style=\"text-align: right;\">\n",
       "      <th></th>\n",
       "      <th>customerID</th>\n",
       "      <th>gender</th>\n",
       "      <th>SeniorCitizen</th>\n",
       "      <th>Partner</th>\n",
       "      <th>Dependents</th>\n",
       "      <th>tenure</th>\n",
       "      <th>PhoneService</th>\n",
       "      <th>MultipleLines</th>\n",
       "      <th>InternetService</th>\n",
       "      <th>OnlineSecurity</th>\n",
       "      <th>...</th>\n",
       "      <th>DeviceProtection</th>\n",
       "      <th>TechSupport</th>\n",
       "      <th>StreamingTV</th>\n",
       "      <th>StreamingMovies</th>\n",
       "      <th>Contract</th>\n",
       "      <th>PaperlessBilling</th>\n",
       "      <th>PaymentMethod</th>\n",
       "      <th>MonthlyCharges</th>\n",
       "      <th>TotalCharges</th>\n",
       "      <th>Churn</th>\n",
       "    </tr>\n",
       "  </thead>\n",
       "  <tbody>\n",
       "    <tr>\n",
       "      <th>0</th>\n",
       "      <td>7590-VHVEG</td>\n",
       "      <td>Female</td>\n",
       "      <td>0</td>\n",
       "      <td>Yes</td>\n",
       "      <td>No</td>\n",
       "      <td>1</td>\n",
       "      <td>No</td>\n",
       "      <td>No phone service</td>\n",
       "      <td>DSL</td>\n",
       "      <td>No</td>\n",
       "      <td>...</td>\n",
       "      <td>No</td>\n",
       "      <td>No</td>\n",
       "      <td>No</td>\n",
       "      <td>No</td>\n",
       "      <td>Month-to-month</td>\n",
       "      <td>Yes</td>\n",
       "      <td>Electronic check</td>\n",
       "      <td>29.85</td>\n",
       "      <td>29.85</td>\n",
       "      <td>No</td>\n",
       "    </tr>\n",
       "    <tr>\n",
       "      <th>1</th>\n",
       "      <td>5575-GNVDE</td>\n",
       "      <td>Male</td>\n",
       "      <td>0</td>\n",
       "      <td>No</td>\n",
       "      <td>No</td>\n",
       "      <td>34</td>\n",
       "      <td>Yes</td>\n",
       "      <td>No</td>\n",
       "      <td>DSL</td>\n",
       "      <td>Yes</td>\n",
       "      <td>...</td>\n",
       "      <td>Yes</td>\n",
       "      <td>No</td>\n",
       "      <td>No</td>\n",
       "      <td>No</td>\n",
       "      <td>One year</td>\n",
       "      <td>No</td>\n",
       "      <td>Mailed check</td>\n",
       "      <td>56.95</td>\n",
       "      <td>1889.50</td>\n",
       "      <td>No</td>\n",
       "    </tr>\n",
       "    <tr>\n",
       "      <th>2</th>\n",
       "      <td>3668-QPYBK</td>\n",
       "      <td>Male</td>\n",
       "      <td>0</td>\n",
       "      <td>No</td>\n",
       "      <td>No</td>\n",
       "      <td>2</td>\n",
       "      <td>Yes</td>\n",
       "      <td>No</td>\n",
       "      <td>DSL</td>\n",
       "      <td>Yes</td>\n",
       "      <td>...</td>\n",
       "      <td>No</td>\n",
       "      <td>No</td>\n",
       "      <td>No</td>\n",
       "      <td>No</td>\n",
       "      <td>Month-to-month</td>\n",
       "      <td>Yes</td>\n",
       "      <td>Mailed check</td>\n",
       "      <td>53.85</td>\n",
       "      <td>108.15</td>\n",
       "      <td>Yes</td>\n",
       "    </tr>\n",
       "    <tr>\n",
       "      <th>3</th>\n",
       "      <td>7795-CFOCW</td>\n",
       "      <td>Male</td>\n",
       "      <td>0</td>\n",
       "      <td>No</td>\n",
       "      <td>No</td>\n",
       "      <td>45</td>\n",
       "      <td>No</td>\n",
       "      <td>No phone service</td>\n",
       "      <td>DSL</td>\n",
       "      <td>Yes</td>\n",
       "      <td>...</td>\n",
       "      <td>Yes</td>\n",
       "      <td>Yes</td>\n",
       "      <td>No</td>\n",
       "      <td>No</td>\n",
       "      <td>One year</td>\n",
       "      <td>No</td>\n",
       "      <td>Bank transfer (automatic)</td>\n",
       "      <td>42.30</td>\n",
       "      <td>1840.75</td>\n",
       "      <td>No</td>\n",
       "    </tr>\n",
       "    <tr>\n",
       "      <th>4</th>\n",
       "      <td>9237-HQITU</td>\n",
       "      <td>Female</td>\n",
       "      <td>0</td>\n",
       "      <td>No</td>\n",
       "      <td>No</td>\n",
       "      <td>2</td>\n",
       "      <td>Yes</td>\n",
       "      <td>No</td>\n",
       "      <td>Fiber optic</td>\n",
       "      <td>No</td>\n",
       "      <td>...</td>\n",
       "      <td>No</td>\n",
       "      <td>No</td>\n",
       "      <td>No</td>\n",
       "      <td>No</td>\n",
       "      <td>Month-to-month</td>\n",
       "      <td>Yes</td>\n",
       "      <td>Electronic check</td>\n",
       "      <td>70.70</td>\n",
       "      <td>151.65</td>\n",
       "      <td>Yes</td>\n",
       "    </tr>\n",
       "  </tbody>\n",
       "</table>\n",
       "<p>5 rows × 21 columns</p>\n",
       "</div>"
      ],
      "text/plain": [
       "   customerID  gender  SeniorCitizen Partner Dependents  tenure PhoneService  \\\n",
       "0  7590-VHVEG  Female              0     Yes         No       1           No   \n",
       "1  5575-GNVDE    Male              0      No         No      34          Yes   \n",
       "2  3668-QPYBK    Male              0      No         No       2          Yes   \n",
       "3  7795-CFOCW    Male              0      No         No      45           No   \n",
       "4  9237-HQITU  Female              0      No         No       2          Yes   \n",
       "\n",
       "      MultipleLines InternetService OnlineSecurity  ... DeviceProtection  \\\n",
       "0  No phone service             DSL             No  ...               No   \n",
       "1                No             DSL            Yes  ...              Yes   \n",
       "2                No             DSL            Yes  ...               No   \n",
       "3  No phone service             DSL            Yes  ...              Yes   \n",
       "4                No     Fiber optic             No  ...               No   \n",
       "\n",
       "  TechSupport StreamingTV StreamingMovies        Contract PaperlessBilling  \\\n",
       "0          No          No              No  Month-to-month              Yes   \n",
       "1          No          No              No        One year               No   \n",
       "2          No          No              No  Month-to-month              Yes   \n",
       "3         Yes          No              No        One year               No   \n",
       "4          No          No              No  Month-to-month              Yes   \n",
       "\n",
       "               PaymentMethod MonthlyCharges  TotalCharges  Churn  \n",
       "0           Electronic check          29.85         29.85     No  \n",
       "1               Mailed check          56.95       1889.50     No  \n",
       "2               Mailed check          53.85        108.15    Yes  \n",
       "3  Bank transfer (automatic)          42.30       1840.75     No  \n",
       "4           Electronic check          70.70        151.65    Yes  \n",
       "\n",
       "[5 rows x 21 columns]"
      ]
     },
     "execution_count": 1,
     "metadata": {},
     "output_type": "execute_result"
    }
   ],
   "source": [
    "%matplotlib inline\n",
    "\n",
    "import pandas as pd\n",
    "import numpy as np\n",
    "\n",
    "df = pd.read_csv('churn_ibm.csv')\n",
    "df.head()"
   ]
  },
  {
   "cell_type": "markdown",
   "id": "1f5f8877-12cd-4578-a9d2-7e96c4a3bc87",
   "metadata": {},
   "source": [
    "pre-processing"
   ]
  },
  {
   "cell_type": "code",
   "execution_count": 3,
   "id": "ba54c904-3397-45ae-bf3f-ab2e9a9372fc",
   "metadata": {},
   "outputs": [],
   "source": [
    "y = df['Churn']\n",
    "X = df.drop(['Churn','customerID'], axis=1)\n",
    "\n",
    "for column in X.columns:\n",
    "    if X[column].dtype == object:\n",
    "          X = pd.concat([X,pd.get_dummies(X[column], prefix=column, drop_first=True)],axis=1).drop([column],axis=1)\n",
    "            \n",
    "y = pd.get_dummies(y, prefix='churn', drop_first=True)"
   ]
  },
  {
   "cell_type": "markdown",
   "id": "855b15c1-2c58-4bd5-80c4-c1ace635938c",
   "metadata": {},
   "source": [
    "# Random forest"
   ]
  },
  {
   "cell_type": "code",
   "execution_count": 12,
   "id": "2bc5c165-d321-4758-a83b-88432ddc26b7",
   "metadata": {},
   "outputs": [
    {
     "name": "stdout",
     "output_type": "stream",
     "text": [
      "Accuracy: 0.7829383886255924\n",
      "AUC: 0.806619929020932\n"
     ]
    }
   ],
   "source": [
    "from sklearn.ensemble import RandomForestClassifier\n",
    "from sklearn.model_selection import train_test_split\n",
    "from sklearn.metrics import accuracy_score, roc_auc_score\n",
    "\n",
    "X_train, X_test, y_train, y_test = train_test_split(X, y, test_size =0.3)\n",
    "\n",
    "# n_estimators : number of trees\n",
    "rf = RandomForestClassifier(n_estimators=20)\n",
    "\n",
    "# Some algorithms need a transformed version of the dependent variable\n",
    "# To this purpose, the data is reshaped using ravel()\n",
    "rf.fit(X_train, y_train.values.ravel())\n",
    "prediction = rf.predict(X_test)\n",
    "prediction_proba = rf.predict_proba(X_test)\n",
    "\n",
    "print('Accuracy:', accuracy_score(y_test,prediction))\n",
    "print('AUC:', roc_auc_score(y_test,prediction_proba[:,1]))\n"
   ]
  },
  {
   "cell_type": "markdown",
   "id": "6c318764-a3d2-4ec0-916c-a3636f8340d2",
   "metadata": {},
   "source": [
    "We can also change the parameters. Let's build a larger forest using more trees using parameter n_estimators:"
   ]
  },
  {
   "cell_type": "code",
   "execution_count": 16,
   "id": "289a6b54-486c-4ee9-b189-66d49d82abde",
   "metadata": {},
   "outputs": [
    {
     "name": "stdout",
     "output_type": "stream",
     "text": [
      "Accuracy: 0.7872037914691943\n",
      "AUC: 0.8167001737161594\n"
     ]
    }
   ],
   "source": [
    "rf2 = RandomForestClassifier(n_estimators=100)\n",
    "rf2.fit(X_train, y_train.values.ravel())\n",
    "prediction = rf2.predict(X_test)\n",
    "prediction_proba = rf2.predict_proba(X_test)\n",
    "\n",
    "print('Accuracy:', accuracy_score(y_test,prediction))\n",
    "print('AUC:', roc_auc_score(y_test,prediction_proba[:,1]))"
   ]
  },
  {
   "cell_type": "markdown",
   "id": "8d5df3c8-2f5c-4356-b8ae-33d8fc710bb9",
   "metadata": {},
   "source": [
    "## AdaBoost"
   ]
  },
  {
   "cell_type": "code",
   "execution_count": 18,
   "id": "f92931ca-a75b-421e-ac3c-82fb42deb6b5",
   "metadata": {},
   "outputs": [
    {
     "name": "stdout",
     "output_type": "stream",
     "text": [
      "Accuracy: 0.8052132701421801\n",
      "AUC: 0.8351143162552629\n"
     ]
    }
   ],
   "source": [
    "from sklearn.ensemble import AdaBoostClassifier\n",
    "\n",
    "ada = AdaBoostClassifier()\n",
    "ada.fit(X_train,y_train.values.ravel())\n",
    "prediction = ada.predict(X_test)\n",
    "prediction_proba = ada.predict_proba(X_test)\n",
    "\n",
    "print('Accuracy:', accuracy_score(y_test,prediction))\n",
    "print('AUC:',roc_auc_score(y_test,prediction_proba[:,1]))"
   ]
  },
  {
   "cell_type": "code",
   "execution_count": 20,
   "id": "962f09ab-3ee1-4772-a948-83c096fb9ae0",
   "metadata": {},
   "outputs": [
    {
     "name": "stdout",
     "output_type": "stream",
     "text": [
      "Accuracy: 0.8004739336492891\n",
      "AUC: 0.835252095099551\n"
     ]
    }
   ],
   "source": [
    "ada2 = AdaBoostClassifier(n_estimators=100)\n",
    "ada2.fit(X_train, y_train.values.ravel())\n",
    "prediction = ada2.predict(X_test)\n",
    "prediction_proba = ada2.predict_proba(X_test)\n",
    "\n",
    "print('Accuracy:', accuracy_score(y_test,prediction))\n",
    "print('AUC:', roc_auc_score(y_test, prediction_proba[:,1]))"
   ]
  },
  {
   "cell_type": "markdown",
   "id": "7c069cfc-606a-4673-9f99-dbead3f346bf",
   "metadata": {},
   "source": [
    "## Grid search"
   ]
  },
  {
   "cell_type": "code",
   "execution_count": 29,
   "id": "deddf547-102c-4af6-bfa5-d3a30a9009d4",
   "metadata": {},
   "outputs": [
    {
     "name": "stdout",
     "output_type": "stream",
     "text": [
      "Best classifier: RandomForestClassifier(max_depth=10, min_samples_leaf=5, n_estimators=20)\n",
      "Accuracy: 0.790521327014218\n",
      "AUC: 0.8334724516941631\n"
     ]
    }
   ],
   "source": [
    "from sklearn.model_selection import cross_validate, cross_val_predict\n",
    "from sklearn.model_selection import GridSearchCV\n",
    "\n",
    "# First we create a dictionary containing the parameters we want to test\n",
    "# We include the values we want to test as lists \n",
    "parameters = {'min_samples_leaf':[1,5],'max_depth':[None,10]}\n",
    "\n",
    "# Then, we bring together a classifier, the parameters, and set the number of folds for the CV\n",
    "grid_search = GridSearchCV(RandomForestClassifier(n_estimators=20), parameters, cv=10)\n",
    "grid_search.fit(X_train, y_train.values.ravel())\n",
    "\n",
    "# The best predictor will be used for the prediction\n",
    "prediction = grid_search.predict(X_test)\n",
    "prediction_proba = grid_search.predict_proba(X_test)\n",
    "\n",
    "best_classifier = grid_search.best_estimator_\n",
    "\n",
    "print('Best classifier:',best_classifier)\n",
    "print('Accuracy:', accuracy_score(y_test,prediction))\n",
    "print('AUC:',roc_auc_score(y_test,prediction_proba[:,1]))"
   ]
  },
  {
   "cell_type": "markdown",
   "id": "3ca6f8df-b445-4047-bc1f-820827f1d3d2",
   "metadata": {},
   "source": [
    "It seems that having a minimum of 5 samples per leaf, and a maximum depth of 10 are preferable."
   ]
  },
  {
   "cell_type": "markdown",
   "id": "20b4a6cc-c9f2-4a3f-977f-8662c214a405",
   "metadata": {},
   "source": [
    "## Feature importance"
   ]
  },
  {
   "cell_type": "markdown",
   "id": "ce158d8f-c28d-4fe1-950a-29f447762821",
   "metadata": {},
   "source": [
    "For all our models, we can calculate the feature importance. This is the (average) reduction in Gini impurity across all trees:"
   ]
  },
  {
   "cell_type": "code",
   "execution_count": 31,
   "id": "6e652d2d-55c7-4674-9919-12551a5b1310",
   "metadata": {},
   "outputs": [
    {
     "name": "stdout",
     "output_type": "stream",
     "text": [
      "Variable tenure 0.1705105295812672\n",
      "Variable MonthlyCharges 0.1635992999773788\n",
      "Variable TotalCharges 0.19036006795736943\n",
      "Variable InternetService_Fiber optic 0.03542084065850979\n",
      "Variable PaymentMethod_Electronic check 0.03558628498959499\n"
     ]
    }
   ],
   "source": [
    "# Random forest - 5 most important features\n",
    "for c,column in enumerate(X_test.columns):\n",
    "    if rf.feature_importances_[c] in sorted(rf.feature_importances_)[-5:]:\n",
    "        print('Variable', column, rf.feature_importances_[c])"
   ]
  },
  {
   "cell_type": "code",
   "execution_count": 32,
   "id": "1da58cfd-b0e0-4614-bee4-97f20e2201cd",
   "metadata": {},
   "outputs": [
    {
     "name": "stdout",
     "output_type": "stream",
     "text": [
      "Variable tenure 0.2\n",
      "Variable MonthlyCharges 0.18\n",
      "Variable TotalCharges 0.26\n",
      "Variable MultipleLines_Yes 0.04\n",
      "Variable InternetService_Fiber optic 0.04\n",
      "Variable Contract_Two year 0.04\n"
     ]
    }
   ],
   "source": [
    "# AdaBoost - 5 most important features\n",
    "for c, column in enumerate(X_test.columns):\n",
    "    if ada.feature_importances_[c] in sorted(ada.feature_importances_)[-5:]:\n",
    "        print('Variable',column,ada.feature_importances_[c])"
   ]
  },
  {
   "cell_type": "markdown",
   "id": "8b2e1603-8c6b-4c0c-8c23-70652899c2c7",
   "metadata": {},
   "source": [
    "It seems that both random forests and AdaBoost have exactly the same variables driving their Gini impurity down. Mostly the length of tenure, monthly charges, total charges, being connected through fiber and the contract length."
   ]
  }
 ],
 "metadata": {
  "kernelspec": {
   "display_name": "Python 3",
   "language": "python",
   "name": "python3"
  },
  "language_info": {
   "codemirror_mode": {
    "name": "ipython",
    "version": 3
   },
   "file_extension": ".py",
   "mimetype": "text/x-python",
   "name": "python",
   "nbconvert_exporter": "python",
   "pygments_lexer": "ipython3",
   "version": "3.8.5"
  }
 },
 "nbformat": 4,
 "nbformat_minor": 5
}
