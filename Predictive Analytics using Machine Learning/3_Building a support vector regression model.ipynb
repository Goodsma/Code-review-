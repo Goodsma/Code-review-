{
 "cells": [
  {
   "cell_type": "markdown",
   "id": "bf05217a-805f-4abb-acd1-59da71bd98a3",
   "metadata": {},
   "source": [
    "# Building a support vector regression model"
   ]
  },
  {
   "cell_type": "markdown",
   "id": "b9aa1a4d-7188-484f-becf-14c65124e584",
   "metadata": {},
   "source": [
    "We will now build a support vector regression for the medical data set on diabetes pregression."
   ]
  },
  {
   "cell_type": "markdown",
   "id": "df98b083-bcc5-40d4-949e-f3b7c30923d6",
   "metadata": {},
   "source": [
    "# Dataset"
   ]
  },
  {
   "cell_type": "code",
   "execution_count": 26,
   "id": "41c059f1-39e8-4c54-a90c-017131b71c99",
   "metadata": {},
   "outputs": [],
   "source": [
    "import pandas as pd\n",
    "import numpy as np\n",
    "from sklearn.datasets import load_diabetes\n",
    "from sklearn.preprocessing import StandardScaler\n",
    "\n",
    "dataset = load_diabetes()\n",
    "\n",
    "X = pd.DataFrame(data=dataset['data'],columns = dataset['feature_names'])\n",
    "\n",
    "# Again, best to scale the input variables\n",
    "X = StandardScaler().fit_transform(X)\n",
    "\n",
    "y = pd.DataFrame(data=dataset['target'], columns = ['progression'])"
   ]
  },
  {
   "cell_type": "markdown",
   "id": "91df1c75-abe0-49cf-b19a-893428b6e072",
   "metadata": {},
   "source": [
    "# Building the regression"
   ]
  },
  {
   "cell_type": "code",
   "execution_count": 29,
   "id": "959652b4-0b70-4617-9920-8495fe003a91",
   "metadata": {},
   "outputs": [
    {
     "name": "stdout",
     "output_type": "stream",
     "text": [
      "RMSE: 69.27776392088394\n"
     ]
    }
   ],
   "source": [
    "from sklearn.svm import SVR\n",
    "from sklearn.model_selection import train_test_split\n",
    "from sklearn.metrics import mean_squared_error as mse\n",
    "\n",
    "X_train, X_test, y_train, y_test = train_test_split(X,y,test_size = 0.3)\n",
    "\n",
    "svr = SVR(gamma='auto')\n",
    "svr.fit(X_train,y_train.values.ravel())\n",
    "prediction = svr.predict(X_test)\n",
    "print('RMSE:', np.sqrt(mse(y_test,prediction)))"
   ]
  },
  {
   "cell_type": "markdown",
   "id": "317e6752-5c59-409e-ba3d-960f1af8fbdf",
   "metadata": {},
   "source": [
    "We can also change the parameters"
   ]
  },
  {
   "cell_type": "code",
   "execution_count": 32,
   "id": "aea8a81b-e63d-4ca4-aba0-d401e5e91058",
   "metadata": {},
   "outputs": [
    {
     "name": "stdout",
     "output_type": "stream",
     "text": [
      "Mean RMSE (+/- standard deviation), for parameters\n",
      "59.798 (+/- 20.532) for {'C': 0.2, 'kernel': 'linear'}\n",
      "74.861 (+/- 29.443) for {'C': 0.2, 'kernel': 'poly'}\n",
      "77.420 (+/- 31.542) for {'C': 0.2, 'kernel': 'rbf'}\n",
      "57.127 (+/- 19.360) for {'C': 0.5, 'kernel': 'linear'}\n",
      "71.501 (+/- 27.264) for {'C': 0.5, 'kernel': 'poly'}\n",
      "75.648 (+/- 30.790) for {'C': 0.5, 'kernel': 'rbf'}\n",
      "56.533 (+/- 19.587) for {'C': 1.0, 'kernel': 'linear'}\n",
      "69.119 (+/- 25.576) for {'C': 1.0, 'kernel': 'poly'}\n",
      "73.251 (+/- 30.198) for {'C': 1.0, 'kernel': 'rbf'}\n"
     ]
    }
   ],
   "source": [
    "from sklearn.model_selection import GridSearchCV\n",
    "\n",
    "parameters = {'kernel':['linear','poly','rbf'],'C':[0.2,0.5,1.0]}\n",
    "\n",
    "grid_search = GridSearchCV(SVR(gamma='auto'), parameters, cv=5, scoring='neg_mean_squared_error')\n",
    "grid_search.fit(X_train, y_train.values.ravel())\n",
    "\n",
    "means = grid_search.cv_results_['mean_test_score']\n",
    "stds = grid_search.cv_results_['std_test_score']\n",
    "\n",
    "print('Mean RMSE (+/- standard deviation), for parameters')\n",
    "for mean, std, params in zip(means, stds, grid_search.cv_results_['params']):\n",
    "    print(\"%0.3f (+/- %0.03f) for %r\"\n",
    "# The MSE is return as a negative, so we multiple it with -1 before squaring it\n",
    "# scoring='neg_mean_squared_error'\n",
    "          % (np.sqrt(-1*mean), np.sqrt(std), params))"
   ]
  },
  {
   "cell_type": "markdown",
   "id": "e7e2de0c-df89-4ea6-ac29-b6d209067f6a",
   "metadata": {},
   "source": [
    " The confidence intervals are quite wide, however, so the results might not be very reliable."
   ]
  },
  {
   "cell_type": "code",
   "execution_count": null,
   "id": "b2613769-9d49-4b17-a2cb-0f4403a83d45",
   "metadata": {},
   "outputs": [],
   "source": []
  }
 ],
 "metadata": {
  "kernelspec": {
   "display_name": "Python 3",
   "language": "python",
   "name": "python3"
  },
  "language_info": {
   "codemirror_mode": {
    "name": "ipython",
    "version": 3
   },
   "file_extension": ".py",
   "mimetype": "text/x-python",
   "name": "python",
   "nbconvert_exporter": "python",
   "pygments_lexer": "ipython3",
   "version": "3.8.5"
  }
 },
 "nbformat": 4,
 "nbformat_minor": 5
}
