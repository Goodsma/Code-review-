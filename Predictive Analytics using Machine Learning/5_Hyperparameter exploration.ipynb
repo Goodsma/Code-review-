{
 "cells": [
  {
   "cell_type": "markdown",
   "id": "968ed050-dfa7-414e-8e67-fe4224e36fce",
   "metadata": {},
   "source": [
    "# Hyperparameter exploration"
   ]
  },
  {
   "cell_type": "markdown",
   "id": "0030d3d6-bf7c-403e-be5d-6b18db844918",
   "metadata": {},
   "source": [
    "## Dataset"
   ]
  },
  {
   "cell_type": "code",
   "execution_count": 4,
   "id": "fa14360c-80a2-4864-b6cb-402284d77ba8",
   "metadata": {},
   "outputs": [
    {
     "data": {
      "image/png": "[encoded data removed]",
      "text/plain": [
       "<Figure size 432x288 with 1 Axes>"
      ]
     },
     "metadata": {
      "needs_background": "light"
     },
     "output_type": "display_data"
    }
   ],
   "source": [
    "import pandas as pd\n",
    "import numpy as np\n",
    "from sklearn.datasets import make_circles\n",
    "import matplotlib.pyplot as plt\n",
    "\n",
    "X, y = make_circles(n_samples=200, noise=0.05)\n",
    "\n",
    "df = pd.DataFrame(dict(x=X[:,0], y=X[:,1], label=y))\n",
    "colors = {0:'red', 1:'blue'}\n",
    "\n",
    "fig, ax = plt.subplots()\n",
    "grouped = df.groupby('label')\n",
    "for key, group in grouped:\n",
    "    group.plot(ax=ax, kind='scatter', x='x', y='y', label=key, color = colors[key])\n",
    "plt.show()    "
   ]
  },
  {
   "cell_type": "markdown",
   "id": "cdf86a9c-29a9-4f05-bd5c-d5a3950aec39",
   "metadata": {},
   "source": [
    "## MLP"
   ]
  },
  {
   "cell_type": "code",
   "execution_count": 5,
   "id": "4d6d5007-d5ac-40d5-9f10-c705f7fdc233",
   "metadata": {},
   "outputs": [],
   "source": [
    "from sklearn.model_selection import train_test_split\n",
    "from sklearn.metrics import accuracy_score, roc_auc_score\n",
    "\n",
    "X_train, X_test, y_train, y_test = train_test_split(X, y, test_size = 0.3)"
   ]
  },
  {
   "cell_type": "markdown",
   "id": "f4a24aaf-2d5a-4eed-8604-e6096b339bb3",
   "metadata": {},
   "source": [
    "Now, let's run the same model with linear kernel, as before:"
   ]
  },
  {
   "cell_type": "code",
   "execution_count": 6,
   "id": "5f8d1bf4-0030-4e12-b8b6-56d415720067",
   "metadata": {},
   "outputs": [
    {
     "name": "stdout",
     "output_type": "stream",
     "text": [
      "Model: \"sequential\"\n",
      "_________________________________________________________________\n",
      "Layer (type)                 Output Shape              Param #   \n",
      "=================================================================\n",
      "dense (Dense)                (None, 50)                150       \n",
      "_________________________________________________________________\n",
      "activation (Activation)      (None, 50)                0         \n",
      "_________________________________________________________________\n",
      "dense_1 (Dense)              (None, 50)                2550      \n",
      "_________________________________________________________________\n",
      "activation_1 (Activation)    (None, 50)                0         \n",
      "_________________________________________________________________\n",
      "dense_2 (Dense)              (None, 1)                 51        \n",
      "_________________________________________________________________\n",
      "activation_2 (Activation)    (None, 1)                 0         \n",
      "=================================================================\n",
      "Total params: 2,751\n",
      "Trainable params: 2,751\n",
      "Non-trainable params: 0\n",
      "_________________________________________________________________\n",
      "Epoch 1/10\n",
      "5/5 [==============================] - 1s 4ms/step - loss: 0.6961 - accuracy: 0.5143\n",
      "Epoch 2/10\n",
      "5/5 [==============================] - 0s 3ms/step - loss: 0.6948 - accuracy: 0.5357\n",
      "Epoch 3/10\n",
      "5/5 [==============================] - 0s 3ms/step - loss: 0.6947 - accuracy: 0.5357\n",
      "Epoch 4/10\n",
      "5/5 [==============================] - 0s 3ms/step - loss: 0.6945 - accuracy: 0.5357\n",
      "Epoch 5/10\n",
      "5/5 [==============================] - 0s 3ms/step - loss: 0.6934 - accuracy: 0.5357\n",
      "Epoch 6/10\n",
      "5/5 [==============================] - 0s 2ms/step - loss: 0.6929 - accuracy: 0.5429\n",
      "Epoch 7/10\n",
      "5/5 [==============================] - 0s 3ms/step - loss: 0.6925 - accuracy: 0.5286\n",
      "Epoch 8/10\n",
      "5/5 [==============================] - 0s 3ms/step - loss: 0.6921 - accuracy: 0.5357\n",
      "Epoch 9/10\n",
      "5/5 [==============================] - 0s 2ms/step - loss: 0.6919 - accuracy: 0.5286\n",
      "Epoch 10/10\n",
      "5/5 [==============================] - 0s 3ms/step - loss: 0.6915 - accuracy: 0.5214\n"
     ]
    }
   ],
   "source": [
    "from keras.models import Sequential\n",
    "from keras.layers.core import Dense, Activation\n",
    "\n",
    "input_dim = X_train.shape[1]\n",
    "output_dim = 1\n",
    "\n",
    "model = Sequential()\n",
    "model.add(Dense(50, input_dim=input_dim))\n",
    "model.add(Activation('linear'))\n",
    "model.add(Dense(50))\n",
    "model.add(Activation('linear'))\n",
    "model.add(Dense(output_dim))\n",
    "model.add(Activation('sigmoid'))\n",
    "model.compile(optimizer='sgd', loss='binary_crossentropy', metrics=['accuracy'])\n",
    "\n",
    "model.summary()\n",
    "\n",
    "model.fit(X_train,y_train,epochs=10)\n",
    "\n",
    "prediction_class = [1 if i>=0.5 else 0 for i in model.predict(X_test)]\n",
    "prediction_prob = model.predict(X_test)"
   ]
  },
  {
   "cell_type": "code",
   "execution_count": 7,
   "id": "5c3f490d-c246-4159-9b10-7595f959a2d7",
   "metadata": {},
   "outputs": [
    {
     "name": "stdout",
     "output_type": "stream",
     "text": [
      "Accuracy: 0.4\n",
      "AUC: 0.4502857142857143\n"
     ]
    }
   ],
   "source": [
    "print('Accuracy:', accuracy_score(y_test,prediction_class))\n",
    "print('AUC:',roc_auc_score(y_test,prediction_prob))"
   ]
  },
  {
   "cell_type": "code",
   "execution_count": 28,
   "id": "a5b2c757-582a-49f8-a8af-b70910213a27",
   "metadata": {},
   "outputs": [
    {
     "data": {
      "image/png": "[encoded data removed]",
      "text/plain": [
       "<Figure size 432x288 with 1 Axes>"
      ]
     },
     "metadata": {
      "needs_background": "light"
     },
     "output_type": "display_data"
    }
   ],
   "source": [
    "df = pd.DataFrame(dict(x=X_test[:,0], y=X_test[:,1], label=prediction_class[:]))\n",
    "\n",
    "colors = {0:'red', 1:'blue'}\n",
    "\n",
    "fig, ax = plt.subplots()\n",
    "grouped = df.groupby('label')\n",
    "for key, group in grouped:\n",
    "    group.plot(ax=ax, kind='scatter', x='x', y='y', label=key, color=colors[key])\n",
    "plt.show()"
   ]
  },
  {
   "cell_type": "markdown",
   "id": "f5cc6b4b-2126-4c1a-a21f-f3fde80568ba",
   "metadata": {},
   "source": [
    "The linear kernel is clearly not suitable. Let's try something different:"
   ]
  },
  {
   "cell_type": "markdown",
   "id": "6bd99642-c2ed-4225-963c-183065972eee",
   "metadata": {},
   "source": [
    "# Different hyperparameters"
   ]
  },
  {
   "cell_type": "markdown",
   "id": "c672a195-abb1-4eb9-8c49-59642b5f6864",
   "metadata": {},
   "source": [
    "Let's explore a range of hyperparameters. More specifically, we will focus on:\n",
    "\n",
    "- Activation function\n",
    "- Number of neurons in a hidden layer\n",
    "- Number of layers\n",
    "- Learning rate\n",
    "- Number of epochs"
   ]
  },
  {
   "cell_type": "code",
   "execution_count": 31,
   "id": "2eb0120d-3883-4fee-94ff-a1089176862f",
   "metadata": {},
   "outputs": [],
   "source": [
    "from keras.wrappers.scikit_learn import KerasClassifier\n",
    "from sklearn.model_selection import GridSearchCV\n",
    "from tensorflow.keras.optimizers import Adam\n",
    "\n",
    "def nn_grid_search(parameters,n_folds,X_train,y_train):\n",
    "    \n",
    "    # First, create the neural network model\n",
    "    def nn_model(kernel,no_neurons,learning_rate,epochs,no_layers):\n",
    "        model = Sequential()\n",
    "        model.add(Dense(no_neurons, input_dim=X_train.shape[1]))\n",
    "        model.add(Activation(kernel))\n",
    "        \n",
    "        # Extra hidden layers\n",
    "        for _ in range(0,no_layers):\n",
    "            model.add(Dense(no_neurons))\n",
    "            model.add(Activation(kernel))\n",
    "            \n",
    "        # Output\n",
    "        model.add(Dense(1))\n",
    "        model.add(Activation('sigmoid'))\n",
    "        model.compile(optimizer=Adam(learning_rate=learning_rate), loss='binary_crossentropy', metrics=['accuracy'])\n",
    "\n",
    "        return model\n",
    "    \n",
    "    # Next, apply the grid search using the parameters for your neural network model\n",
    "    grid_search = GridSearchCV(KerasClassifier(nn_model), parameters, cv=n_folds, scoring='roc_auc')\n",
    "    \n",
    "    # Fit the data\n",
    "    grid_search.fit(X_train, y_train.ravel())\n",
    "    \n",
    "    means = grid_search.cv_results_['mean_test_score']\n",
    "    stds = grid_search.cv_results_['std_test_score']\n",
    "    params = grid_search.cv_results_['params']\n",
    "    \n",
    "    return means, stds, params"
   ]
  },
  {
   "cell_type": "markdown",
   "id": "30470067-7b03-4019-9eb6-ac5ecdaee8a0",
   "metadata": {},
   "source": [
    "Next, we run the grid search:"
   ]
  },
  {
   "cell_type": "code",
   "execution_count": 33,
   "id": "528aabae-9a88-4a0a-9859-da58093adaf2",
   "metadata": {},
   "outputs": [
    {
     "name": "stdout",
     "output_type": "stream",
     "text": [
      "Mean AUC (+/- standard deviation), for parameters\n",
      "0.455 (+/- 0.034) for {'epochs': 5, 'kernel': 'relu', 'learning_rate': 0.1, 'no_layers': 1, 'no_neurons': 10, 'verbose': 0}\n",
      "0.630 (+/- 0.093) for {'epochs': 5, 'kernel': 'relu', 'learning_rate': 0.1, 'no_layers': 1, 'no_neurons': 20, 'verbose': 0}\n",
      "0.483 (+/- 0.114) for {'epochs': 5, 'kernel': 'relu', 'learning_rate': 0.1, 'no_layers': 2, 'no_neurons': 10, 'verbose': 0}\n",
      "0.543 (+/- 0.076) for {'epochs': 5, 'kernel': 'relu', 'learning_rate': 0.1, 'no_layers': 2, 'no_neurons': 20, 'verbose': 0}\n",
      "0.512 (+/- 0.106) for {'epochs': 5, 'kernel': 'relu', 'learning_rate': 0.01, 'no_layers': 1, 'no_neurons': 10, 'verbose': 0}\n",
      "0.479 (+/- 0.117) for {'epochs': 5, 'kernel': 'relu', 'learning_rate': 0.01, 'no_layers': 1, 'no_neurons': 20, 'verbose': 0}\n",
      "0.543 (+/- 0.077) for {'epochs': 5, 'kernel': 'relu', 'learning_rate': 0.01, 'no_layers': 2, 'no_neurons': 10, 'verbose': 0}\n",
      "0.465 (+/- 0.085) for {'epochs': 5, 'kernel': 'relu', 'learning_rate': 0.01, 'no_layers': 2, 'no_neurons': 20, 'verbose': 0}\n",
      "0.568 (+/- 0.134) for {'epochs': 5, 'kernel': 'relu', 'learning_rate': 0.001, 'no_layers': 1, 'no_neurons': 10, 'verbose': 0}\n",
      "0.438 (+/- 0.091) for {'epochs': 5, 'kernel': 'relu', 'learning_rate': 0.001, 'no_layers': 1, 'no_neurons': 20, 'verbose': 0}\n",
      "0.497 (+/- 0.112) for {'epochs': 5, 'kernel': 'relu', 'learning_rate': 0.001, 'no_layers': 2, 'no_neurons': 10, 'verbose': 0}\n",
      "0.418 (+/- 0.086) for {'epochs': 5, 'kernel': 'relu', 'learning_rate': 0.001, 'no_layers': 2, 'no_neurons': 20, 'verbose': 0}\n",
      "0.448 (+/- 0.121) for {'epochs': 5, 'kernel': 'linear', 'learning_rate': 0.1, 'no_layers': 1, 'no_neurons': 10, 'verbose': 0}\n",
      "0.529 (+/- 0.102) for {'epochs': 5, 'kernel': 'linear', 'learning_rate': 0.1, 'no_layers': 1, 'no_neurons': 20, 'verbose': 0}\n",
      "0.449 (+/- 0.071) for {'epochs': 5, 'kernel': 'linear', 'learning_rate': 0.1, 'no_layers': 2, 'no_neurons': 10, 'verbose': 0}\n",
      "0.524 (+/- 0.126) for {'epochs': 5, 'kernel': 'linear', 'learning_rate': 0.1, 'no_layers': 2, 'no_neurons': 20, 'verbose': 0}\n",
      "0.448 (+/- 0.116) for {'epochs': 5, 'kernel': 'linear', 'learning_rate': 0.01, 'no_layers': 1, 'no_neurons': 10, 'verbose': 0}\n",
      "0.379 (+/- 0.070) for {'epochs': 5, 'kernel': 'linear', 'learning_rate': 0.01, 'no_layers': 1, 'no_neurons': 20, 'verbose': 0}\n",
      "0.444 (+/- 0.100) for {'epochs': 5, 'kernel': 'linear', 'learning_rate': 0.01, 'no_layers': 2, 'no_neurons': 10, 'verbose': 0}\n",
      "0.533 (+/- 0.103) for {'epochs': 5, 'kernel': 'linear', 'learning_rate': 0.01, 'no_layers': 2, 'no_neurons': 20, 'verbose': 0}\n",
      "0.557 (+/- 0.107) for {'epochs': 5, 'kernel': 'linear', 'learning_rate': 0.001, 'no_layers': 1, 'no_neurons': 10, 'verbose': 0}\n",
      "0.507 (+/- 0.130) for {'epochs': 5, 'kernel': 'linear', 'learning_rate': 0.001, 'no_layers': 1, 'no_neurons': 20, 'verbose': 0}\n",
      "0.518 (+/- 0.138) for {'epochs': 5, 'kernel': 'linear', 'learning_rate': 0.001, 'no_layers': 2, 'no_neurons': 10, 'verbose': 0}\n",
      "0.442 (+/- 0.108) for {'epochs': 5, 'kernel': 'linear', 'learning_rate': 0.001, 'no_layers': 2, 'no_neurons': 20, 'verbose': 0}\n",
      "0.662 (+/- 0.170) for {'epochs': 10, 'kernel': 'relu', 'learning_rate': 0.1, 'no_layers': 1, 'no_neurons': 10, 'verbose': 0}\n",
      "0.697 (+/- 0.136) for {'epochs': 10, 'kernel': 'relu', 'learning_rate': 0.1, 'no_layers': 1, 'no_neurons': 20, 'verbose': 0}\n",
      "0.672 (+/- 0.191) for {'epochs': 10, 'kernel': 'relu', 'learning_rate': 0.1, 'no_layers': 2, 'no_neurons': 10, 'verbose': 0}\n",
      "0.498 (+/- 0.150) for {'epochs': 10, 'kernel': 'relu', 'learning_rate': 0.1, 'no_layers': 2, 'no_neurons': 20, 'verbose': 0}\n",
      "0.485 (+/- 0.068) for {'epochs': 10, 'kernel': 'relu', 'learning_rate': 0.01, 'no_layers': 1, 'no_neurons': 10, 'verbose': 0}\n",
      "0.513 (+/- 0.112) for {'epochs': 10, 'kernel': 'relu', 'learning_rate': 0.01, 'no_layers': 1, 'no_neurons': 20, 'verbose': 0}\n",
      "0.552 (+/- 0.092) for {'epochs': 10, 'kernel': 'relu', 'learning_rate': 0.01, 'no_layers': 2, 'no_neurons': 10, 'verbose': 0}\n",
      "0.563 (+/- 0.073) for {'epochs': 10, 'kernel': 'relu', 'learning_rate': 0.01, 'no_layers': 2, 'no_neurons': 20, 'verbose': 0}\n",
      "0.510 (+/- 0.138) for {'epochs': 10, 'kernel': 'relu', 'learning_rate': 0.001, 'no_layers': 1, 'no_neurons': 10, 'verbose': 0}\n",
      "0.430 (+/- 0.089) for {'epochs': 10, 'kernel': 'relu', 'learning_rate': 0.001, 'no_layers': 1, 'no_neurons': 20, 'verbose': 0}\n",
      "0.492 (+/- 0.121) for {'epochs': 10, 'kernel': 'relu', 'learning_rate': 0.001, 'no_layers': 2, 'no_neurons': 10, 'verbose': 0}\n",
      "0.416 (+/- 0.080) for {'epochs': 10, 'kernel': 'relu', 'learning_rate': 0.001, 'no_layers': 2, 'no_neurons': 20, 'verbose': 0}\n",
      "0.401 (+/- 0.099) for {'epochs': 10, 'kernel': 'linear', 'learning_rate': 0.1, 'no_layers': 1, 'no_neurons': 10, 'verbose': 0}\n",
      "0.483 (+/- 0.062) for {'epochs': 10, 'kernel': 'linear', 'learning_rate': 0.1, 'no_layers': 1, 'no_neurons': 20, 'verbose': 0}\n",
      "0.439 (+/- 0.113) for {'epochs': 10, 'kernel': 'linear', 'learning_rate': 0.1, 'no_layers': 2, 'no_neurons': 10, 'verbose': 0}\n",
      "0.481 (+/- 0.119) for {'epochs': 10, 'kernel': 'linear', 'learning_rate': 0.1, 'no_layers': 2, 'no_neurons': 20, 'verbose': 0}\n",
      "0.485 (+/- 0.094) for {'epochs': 10, 'kernel': 'linear', 'learning_rate': 0.01, 'no_layers': 1, 'no_neurons': 10, 'verbose': 0}\n",
      "0.497 (+/- 0.095) for {'epochs': 10, 'kernel': 'linear', 'learning_rate': 0.01, 'no_layers': 1, 'no_neurons': 20, 'verbose': 0}\n",
      "0.452 (+/- 0.113) for {'epochs': 10, 'kernel': 'linear', 'learning_rate': 0.01, 'no_layers': 2, 'no_neurons': 10, 'verbose': 0}\n",
      "0.446 (+/- 0.122) for {'epochs': 10, 'kernel': 'linear', 'learning_rate': 0.01, 'no_layers': 2, 'no_neurons': 20, 'verbose': 0}\n",
      "0.499 (+/- 0.125) for {'epochs': 10, 'kernel': 'linear', 'learning_rate': 0.001, 'no_layers': 1, 'no_neurons': 10, 'verbose': 0}\n",
      "0.445 (+/- 0.085) for {'epochs': 10, 'kernel': 'linear', 'learning_rate': 0.001, 'no_layers': 1, 'no_neurons': 20, 'verbose': 0}\n",
      "0.407 (+/- 0.076) for {'epochs': 10, 'kernel': 'linear', 'learning_rate': 0.001, 'no_layers': 2, 'no_neurons': 10, 'verbose': 0}\n",
      "0.498 (+/- 0.108) for {'epochs': 10, 'kernel': 'linear', 'learning_rate': 0.001, 'no_layers': 2, 'no_neurons': 20, 'verbose': 0}\n"
     ]
    }
   ],
   "source": [
    "parameters = {'no_neurons':[10,20],'kernel':['relu','linear'],'no_layers':[1,2],'learning_rate':[0.1,0.01,0.001],'epochs':[5,10],'verbose':[0]}\n",
    "n_folds = 5\n",
    "\n",
    "means, stds, params = nn_grid_search(parameters,n_folds,X_train,y_train)\n",
    "\n",
    "print('Mean AUC (+/- standard deviation), for parameters')\n",
    "for mean, std, param_o in zip(means, stds, params):\n",
    "    print('%0.3f (+/- %0.03f) for %r'% (mean, std, param_o))"
   ]
  },
  {
   "cell_type": "code",
   "execution_count": null,
   "id": "9d39e293-6a49-4d92-947c-940b3c31990b",
   "metadata": {},
   "outputs": [],
   "source": []
  }
 ],
 "metadata": {
  "kernelspec": {
   "display_name": "Python 3",
   "language": "python",
   "name": "python3"
  },
  "language_info": {
   "codemirror_mode": {
    "name": "ipython",
    "version": 3
   },
   "file_extension": ".py",
   "mimetype": "text/x-python",
   "name": "python",
   "nbconvert_exporter": "python",
   "pygments_lexer": "ipython3",
   "version": "3.8.8"
  }
 },
 "nbformat": 4,
 "nbformat_minor": 5
}
