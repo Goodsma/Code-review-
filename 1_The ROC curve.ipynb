{
 "cells": [
  {
   "cell_type": "markdown",
   "id": "162808cd-2f3c-4d75-8ce7-f657be620a19",
   "metadata": {},
   "source": [
    "# The ROC curve"
   ]
  },
  {
   "cell_type": "markdown",
   "id": "35abfdac-e504-4bf8-a5f6-c0dbc8ffeefa",
   "metadata": {},
   "source": [
    "First, let's build a simple linear model for illustration purposes (for classification we use logistic regression)."
   ]
  },
  {
   "cell_type": "code",
   "execution_count": 14,
   "id": "29dacde7-9ba5-4dd7-82c5-75b1ec151061",
   "metadata": {},
   "outputs": [],
   "source": [
    "%matplotlib inline\n",
    "\n",
    "import numpy as np\n",
    "import matplotlib.pyplot as plt\n",
    "import sklearn.datasets as datasets\n",
    "import pandas as pd\n",
    "\n",
    "from sklearn.metrics import auc\n",
    "from sklearn.metrics import recall_score as recall\n",
    "from sklearn.metrics import precision_score as precision\n",
    "from sklearn.metrics import f1_score as f1\n",
    "from sklearn.metrics import precision_recall_curve as pc_curve\n",
    "from sklearn.metrics import roc_curve as roc\n",
    "from sklearn.metrics import confusion_matrix as cm\n",
    "\n",
    "from sklearn.tree import DecisionTreeClassifier\n",
    "\n",
    "dataset = datasets.load_breast_cancer()\n",
    "X = dataset['data']\n",
    "y = dataset['target']"
   ]
  },
  {
   "cell_type": "code",
   "execution_count": 19,
   "id": "75f34ff7-13ba-4f4f-b0cc-54dac80a8875",
   "metadata": {},
   "outputs": [],
   "source": [
    "classification = DecisionTreeClassifier()\n",
    "classification.fit(X[:300],y[:300])\n",
    "\n",
    "prediction = classification.predict(X[300:])"
   ]
  },
  {
   "cell_type": "code",
   "execution_count": 20,
   "id": "2f52cc63-9171-4934-85c0-96e5c4ae32b0",
   "metadata": {},
   "outputs": [
    {
     "name": "stdout",
     "output_type": "stream",
     "text": [
      "Recall: 0.8866995073891626\n",
      "Precision: 0.989010989010989\n",
      "F1 score: 0.935064935064935\n",
      "Confusion matrix: \n",
      "[[ 64   2]\n",
      " [ 23 180]]\n"
     ]
    }
   ],
   "source": [
    "print('Recall: '+str(recall(y[300:],prediction)))\n",
    "print('Precision: '+str(precision(y[300:],prediction)))\n",
    "print('F1 score: '+str(f1(y[300:],prediction)))\n",
    "print('Confusion matrix: \\n'+str(cm(y[300:],prediction)))"
   ]
  },
  {
   "cell_type": "markdown",
   "id": "b1197af2-1ea2-4e7c-add2-81dbcb89e6e4",
   "metadata": {},
   "source": [
    "## Precision-recall curve"
   ]
  },
  {
   "cell_type": "markdown",
   "id": "ed96c5f4-c315-4d29-bab7-6563125201ce",
   "metadata": {},
   "source": [
    "Now let's make a precision-recall curve to check the trade-off between both metrics over different thresholds:"
   ]
  },
  {
   "cell_type": "code",
   "execution_count": 38,
   "id": "489700ee-3932-47cd-bf75-9aa32388a081",
   "metadata": {},
   "outputs": [
    {
     "data": {
      "image/png": "[encoded data removed]",
      "text/plain": [
       "<Figure size 432x288 with 1 Axes>"
      ]
     },
     "metadata": {
      "needs_background": "light"
     },
     "output_type": "display_data"
    }
   ],
   "source": [
    "precision, recall, _ = pc_curve(y[300:],prediction)\n",
    "plt.plot(precision, recall)\n",
    "plt.xlabel('Recall')\n",
    "plt.ylabel('Precision')\n",
    "plt.title('Precision-recall curve')\n",
    "plt.show()"
   ]
  },
  {
   "cell_type": "markdown",
   "id": "780e94f9-9c06-4955-ae57-f3c3b545ac30",
   "metadata": {},
   "source": [
    "## ROC curve"
   ]
  },
  {
   "cell_type": "markdown",
   "id": "16141338-faaf-4727-98d7-ca5a07b1fdbf",
   "metadata": {},
   "source": [
    "y axis = TPR = (TP) / (FN + TP) = Sensitivity = Recall\n",
    "\n",
    "x axis = FPR = (FP) / (FP + TN) = 1 - specificity  "
   ]
  },
  {
   "cell_type": "code",
   "execution_count": 45,
   "id": "b6f471bf-c92d-4387-9168-2c97635099c3",
   "metadata": {},
   "outputs": [
    {
     "name": "stdout",
     "output_type": "stream",
     "text": [
      "Thresholds:  [2 1 0]\n",
      "fpr:  [0.         0.03030303 1.        ]\n",
      "tpr:  [0.         0.88669951 1.        ]\n",
      "\n"
     ]
    },
    {
     "data": {
      "image/png": "[encoded data removed]",
      "text/plain": [
       "<Figure size 432x288 with 1 Axes>"
      ]
     },
     "metadata": {
      "needs_background": "light"
     },
     "output_type": "display_data"
    }
   ],
   "source": [
    "fpr, tpr, thresholds = roc(y[300:],prediction)\n",
    "print('Thresholds: ', thresholds)\n",
    "print('fpr: ', fpr)\n",
    "print('tpr: ', tpr)\n",
    "print()\n",
    "roc_auc = auc(fpr,tpr)\n",
    "plt.xlabel('False Positive Rate')\n",
    "plt.ylabel('True Positive Rate')\n",
    "plt.plot(fpr, tpr, color = 'darkorange',\n",
    "        lw=2, label='ROC curve (area = %0.2f)'%roc_auc)\n",
    "plt.plot([0,1],[0,1], color='navy', lw=2, linestyle='--')\n",
    "plt.title('Receiver operating characteristics curve')\n",
    "plt.legend(loc='lower right')\n",
    "plt.show()"
   ]
  },
  {
   "cell_type": "code",
   "execution_count": 42,
   "id": "a6d17279-7cad-4cbc-94ac-0423ea55965f",
   "metadata": {},
   "outputs": [
    {
     "data": {
      "text/plain": [
       "array([0, 1, 0, 1, 1, 1, 1, 1, 1, 1, 1, 1, 1, 1, 1, 1, 1, 0, 1, 1, 1, 0,\n",
       "       1, 0, 1, 1, 1, 1, 0, 0, 0, 1, 1, 1, 1, 0, 1, 0, 1, 0, 0, 1, 1, 0,\n",
       "       1, 1, 1, 1, 1, 1, 1, 0, 0, 0, 1, 1, 1, 1, 0, 1, 0, 1, 1, 0, 1, 0,\n",
       "       0, 1, 0, 0, 0, 1, 0, 0, 1, 0, 1, 1, 1, 0, 1, 1, 1, 1, 1, 0, 1, 1,\n",
       "       1, 0, 1, 1, 0, 0, 1, 1, 1, 1, 1, 1, 0, 1, 1, 1, 1, 1, 1, 1, 0, 1,\n",
       "       1, 1, 1, 0, 1, 1, 1, 0, 1, 1, 1, 1, 1, 1, 0, 1, 1, 1, 1, 1, 0, 1,\n",
       "       0, 0, 1, 0, 1, 1, 1, 1, 1, 0, 1, 1, 0, 0, 0, 1, 0, 0, 1, 0, 1, 1,\n",
       "       1, 1, 1, 1, 1, 1, 0, 0, 1, 1, 1, 0, 1, 1, 0, 0, 1, 1, 1, 1, 1, 1,\n",
       "       0, 1, 1, 0, 1, 1, 1, 1, 1, 1, 1, 0, 1, 0, 1, 0, 0, 1, 1, 1, 1, 1,\n",
       "       0, 0, 1, 0, 1, 0, 0, 0, 1, 1, 0, 0, 1, 1, 0, 1, 0, 1, 0, 0, 1, 1,\n",
       "       0, 0, 1, 1, 1, 1, 1, 1, 1, 1, 1, 1, 1, 0, 1, 0, 1, 0, 0, 0, 1, 0,\n",
       "       1, 1, 1, 1, 1, 1, 1, 1, 1, 1, 0, 1, 0, 1, 1, 1, 1, 1, 1, 1, 0, 0,\n",
       "       0, 0, 0, 0, 1])"
      ]
     },
     "execution_count": 42,
     "metadata": {},
     "output_type": "execute_result"
    }
   ],
   "source": []
  },
  {
   "cell_type": "code",
   "execution_count": null,
   "id": "3736b5e9-41bc-47ef-acd7-6cafe0f44a8a",
   "metadata": {},
   "outputs": [],
   "source": []
  }
 ],
 "metadata": {
  "kernelspec": {
   "display_name": "Python 3",
   "language": "python",
   "name": "python3"
  },
  "language_info": {
   "codemirror_mode": {
    "name": "ipython",
    "version": 3
   },
   "file_extension": ".py",
   "mimetype": "text/x-python",
   "name": "python",
   "nbconvert_exporter": "python",
   "pygments_lexer": "ipython3",
   "version": "3.8.5"
  }
 },
 "nbformat": 4,
 "nbformat_minor": 5
}
