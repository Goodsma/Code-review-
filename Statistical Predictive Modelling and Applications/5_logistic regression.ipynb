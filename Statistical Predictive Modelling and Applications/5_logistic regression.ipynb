{
 "cells": [
  {
   "cell_type": "markdown",
   "id": "e0c04632-a1ee-4fc4-85f0-c1741e16b6d6",
   "metadata": {},
   "source": [
    "# How do logistic and linear regression differ?"
   ]
  },
  {
   "cell_type": "markdown",
   "id": "13224981-6475-4b8a-b39f-35a50378adb5",
   "metadata": {},
   "source": [
    " for regression, we need to drop one dummy for each variable, otherwise we will create perfect collinearity."
   ]
  },
  {
   "cell_type": "code",
   "execution_count": 4,
   "id": "f914965b-1027-4639-999f-d021cfcc65a9",
   "metadata": {},
   "outputs": [
    {
     "data": {
      "text/html": [
       "<div>\n",
       "<style scoped>\n",
       "    .dataframe tbody tr th:only-of-type {\n",
       "        vertical-align: middle;\n",
       "    }\n",
       "\n",
       "    .dataframe tbody tr th {\n",
       "        vertical-align: top;\n",
       "    }\n",
       "\n",
       "    .dataframe thead th {\n",
       "        text-align: right;\n",
       "    }\n",
       "</style>\n",
       "<table border=\"1\" class=\"dataframe\">\n",
       "  <thead>\n",
       "    <tr style=\"text-align: right;\">\n",
       "      <th></th>\n",
       "      <th>Bad_2</th>\n",
       "      <th>ID</th>\n",
       "      <th>VAR2</th>\n",
       "      <th>VAR5</th>\n",
       "      <th>VAR8</th>\n",
       "      <th>VAR11</th>\n",
       "      <th>VAR13</th>\n",
       "      <th>VAR16</th>\n",
       "      <th>VAR18</th>\n",
       "      <th>VAR1_A12</th>\n",
       "      <th>...</th>\n",
       "      <th>VAR12_A124</th>\n",
       "      <th>VAR14_A142</th>\n",
       "      <th>VAR14_A143</th>\n",
       "      <th>VAR15_A152</th>\n",
       "      <th>VAR15_A153</th>\n",
       "      <th>VAR17_A172</th>\n",
       "      <th>VAR17_A173</th>\n",
       "      <th>VAR17_A174</th>\n",
       "      <th>VAR19_A192</th>\n",
       "      <th>VAR20_A202</th>\n",
       "    </tr>\n",
       "  </thead>\n",
       "  <tbody>\n",
       "    <tr>\n",
       "      <th>0</th>\n",
       "      <td>0</td>\n",
       "      <td>1</td>\n",
       "      <td>6</td>\n",
       "      <td>1169</td>\n",
       "      <td>4</td>\n",
       "      <td>4</td>\n",
       "      <td>67</td>\n",
       "      <td>2</td>\n",
       "      <td>1</td>\n",
       "      <td>0</td>\n",
       "      <td>...</td>\n",
       "      <td>0</td>\n",
       "      <td>0</td>\n",
       "      <td>1</td>\n",
       "      <td>1</td>\n",
       "      <td>0</td>\n",
       "      <td>0</td>\n",
       "      <td>1</td>\n",
       "      <td>0</td>\n",
       "      <td>1</td>\n",
       "      <td>0</td>\n",
       "    </tr>\n",
       "    <tr>\n",
       "      <th>1</th>\n",
       "      <td>1</td>\n",
       "      <td>2</td>\n",
       "      <td>48</td>\n",
       "      <td>5951</td>\n",
       "      <td>2</td>\n",
       "      <td>2</td>\n",
       "      <td>22</td>\n",
       "      <td>1</td>\n",
       "      <td>1</td>\n",
       "      <td>1</td>\n",
       "      <td>...</td>\n",
       "      <td>0</td>\n",
       "      <td>0</td>\n",
       "      <td>1</td>\n",
       "      <td>1</td>\n",
       "      <td>0</td>\n",
       "      <td>0</td>\n",
       "      <td>1</td>\n",
       "      <td>0</td>\n",
       "      <td>0</td>\n",
       "      <td>0</td>\n",
       "    </tr>\n",
       "    <tr>\n",
       "      <th>2</th>\n",
       "      <td>0</td>\n",
       "      <td>3</td>\n",
       "      <td>12</td>\n",
       "      <td>2096</td>\n",
       "      <td>2</td>\n",
       "      <td>3</td>\n",
       "      <td>49</td>\n",
       "      <td>1</td>\n",
       "      <td>2</td>\n",
       "      <td>0</td>\n",
       "      <td>...</td>\n",
       "      <td>0</td>\n",
       "      <td>0</td>\n",
       "      <td>1</td>\n",
       "      <td>1</td>\n",
       "      <td>0</td>\n",
       "      <td>1</td>\n",
       "      <td>0</td>\n",
       "      <td>0</td>\n",
       "      <td>0</td>\n",
       "      <td>0</td>\n",
       "    </tr>\n",
       "    <tr>\n",
       "      <th>3</th>\n",
       "      <td>0</td>\n",
       "      <td>4</td>\n",
       "      <td>42</td>\n",
       "      <td>7882</td>\n",
       "      <td>2</td>\n",
       "      <td>4</td>\n",
       "      <td>45</td>\n",
       "      <td>1</td>\n",
       "      <td>2</td>\n",
       "      <td>0</td>\n",
       "      <td>...</td>\n",
       "      <td>0</td>\n",
       "      <td>0</td>\n",
       "      <td>1</td>\n",
       "      <td>0</td>\n",
       "      <td>1</td>\n",
       "      <td>0</td>\n",
       "      <td>1</td>\n",
       "      <td>0</td>\n",
       "      <td>0</td>\n",
       "      <td>0</td>\n",
       "    </tr>\n",
       "    <tr>\n",
       "      <th>4</th>\n",
       "      <td>1</td>\n",
       "      <td>5</td>\n",
       "      <td>24</td>\n",
       "      <td>4870</td>\n",
       "      <td>3</td>\n",
       "      <td>4</td>\n",
       "      <td>53</td>\n",
       "      <td>2</td>\n",
       "      <td>2</td>\n",
       "      <td>0</td>\n",
       "      <td>...</td>\n",
       "      <td>1</td>\n",
       "      <td>0</td>\n",
       "      <td>1</td>\n",
       "      <td>0</td>\n",
       "      <td>1</td>\n",
       "      <td>0</td>\n",
       "      <td>1</td>\n",
       "      <td>0</td>\n",
       "      <td>0</td>\n",
       "      <td>0</td>\n",
       "    </tr>\n",
       "  </tbody>\n",
       "</table>\n",
       "<p>5 rows × 50 columns</p>\n",
       "</div>"
      ],
      "text/plain": [
       "   Bad_2  ID  VAR2  VAR5  VAR8  VAR11  VAR13  VAR16  VAR18  VAR1_A12  ...  \\\n",
       "0      0   1     6  1169     4      4     67      2      1         0  ...   \n",
       "1      1   2    48  5951     2      2     22      1      1         1  ...   \n",
       "2      0   3    12  2096     2      3     49      1      2         0  ...   \n",
       "3      0   4    42  7882     2      4     45      1      2         0  ...   \n",
       "4      1   5    24  4870     3      4     53      2      2         0  ...   \n",
       "\n",
       "   VAR12_A124  VAR14_A142  VAR14_A143  VAR15_A152  VAR15_A153  VAR17_A172  \\\n",
       "0           0           0           1           1           0           0   \n",
       "1           0           0           1           1           0           0   \n",
       "2           0           0           1           1           0           1   \n",
       "3           0           0           1           0           1           0   \n",
       "4           1           0           1           0           1           0   \n",
       "\n",
       "   VAR17_A173  VAR17_A174  VAR19_A192  VAR20_A202  \n",
       "0           1           0           1           0  \n",
       "1           1           0           0           0  \n",
       "2           0           0           0           0  \n",
       "3           1           0           0           0  \n",
       "4           1           0           0           0  \n",
       "\n",
       "[5 rows x 50 columns]"
      ]
     },
     "execution_count": 4,
     "metadata": {},
     "output_type": "execute_result"
    }
   ],
   "source": [
    "import numpy as np\n",
    "import matplotlib.pyplot as plt\n",
    "import pandas as pd\n",
    "import statsmodels.api as sm\n",
    "\n",
    "credit_data = pd.read_csv('german.csv')\n",
    "credit_cat = credit_data.select_dtypes(include=['object'])\n",
    "credit_num = credit_data.select_dtypes(include=['int64'])\n",
    "credit_dum = pd.get_dummies(credit_cat, drop_first='True')\n",
    "credit_dum.head()\n",
    "\n",
    "y = credit_num['VAR21']\n",
    "y.head()\n",
    "\n",
    "y1 = pd.get_dummies(y, prefix='Bad')\n",
    "y1.head()\n",
    "\n",
    "Y = y1.drop('Bad_1',axis=1)\n",
    "Y.head()\n",
    "\n",
    "credit = pd.concat([Y, credit_num.drop('VAR21',axis=1), credit_dum], axis = 1)\n",
    "\n",
    "credit.to_csv('credit_regress.csv') # export into .csv for future use\n",
    "credit.head()"
   ]
  },
  {
   "cell_type": "code",
   "execution_count": 5,
   "id": "466ee4da-0943-488e-b991-9a971af45020",
   "metadata": {},
   "outputs": [
    {
     "name": "stdout",
     "output_type": "stream",
     "text": [
      "                            OLS Regression Results                            \n",
      "==============================================================================\n",
      "Dep. Variable:                  Bad_2   R-squared:                       0.142\n",
      "Model:                            OLS   Adj. R-squared:                  0.140\n",
      "Method:                 Least Squares   F-statistic:                     82.46\n",
      "Date:                Thu, 16 Sep 2021   Prob (F-statistic):           7.25e-34\n",
      "Time:                        17:30:23   Log-Likelihood:                -562.08\n",
      "No. Observations:                1000   AIC:                             1130.\n",
      "Df Residuals:                     997   BIC:                             1145.\n",
      "Df Model:                           2                                         \n",
      "Covariance Type:            nonrobust                                         \n",
      "==============================================================================\n",
      "                 coef    std err          t      P>|t|      [0.025      0.975]\n",
      "------------------------------------------------------------------------------\n",
      "const          0.2594      0.030      8.760      0.000       0.201       0.317\n",
      "VAR1_A14      -0.2908      0.028    -10.547      0.000      -0.345      -0.237\n",
      "VAR2           0.0074      0.001      6.642      0.000       0.005       0.010\n",
      "==============================================================================\n",
      "Omnibus:                      224.215   Durbin-Watson:                   2.020\n",
      "Prob(Omnibus):                  0.000   Jarque-Bera (JB):              108.836\n",
      "Skew:                           0.655   Prob(JB):                     2.33e-24\n",
      "Kurtosis:                       2.053   Cond. No.                         61.3\n",
      "==============================================================================\n",
      "\n",
      "Notes:\n",
      "[1] Standard Errors assume that the covariance matrix of the errors is correctly specified.\n",
      "count    1000.000000\n",
      "mean        0.300000\n",
      "std         0.172731\n",
      "min        -0.001686\n",
      "25%         0.146785\n",
      "50%         0.348471\n",
      "75%         0.437554\n",
      "max         0.793884\n",
      "dtype: float64\n"
     ]
    },
    {
     "name": "stderr",
     "output_type": "stream",
     "text": [
      "C:\\Users\\goodsma\\anaconda3\\lib\\site-packages\\statsmodels\\tsa\\tsatools.py:142: FutureWarning: In a future version of pandas all arguments of concat except for the argument 'objs' will be keyword-only\n",
      "  x = pd.concat(x[::order], 1)\n"
     ]
    }
   ],
   "source": [
    "# Let's take one dummy predictor - 'No checking account' (VAR1_A14) and one continuous - 'Loan duration in months' (VAR2)\n",
    "# For simplicity I am using just one dummy,\n",
    "# that means its effect shoud be interpreted in relation to all other categories for this variable, i.e 'having a checking account'\n",
    "\n",
    "# Add the intercept\n",
    "credit = sm.add_constant(credit)\n",
    "\n",
    "linreg = sm.OLS(credit[['Bad_2']],credit[['const','VAR1_A14','VAR2']]).fit()\n",
    "pred_stats = linreg.predict(credit[['const','VAR1_A14','VAR2']])\n",
    "\n",
    "print(linreg.summary())\n",
    "print(pred_stats.describe())"
   ]
  },
  {
   "cell_type": "code",
   "execution_count": 7,
   "id": "058a372a-3899-4283-8dd2-a7e237fa17dc",
   "metadata": {},
   "outputs": [
    {
     "data": {
      "image/png": "[encoded data removed]",
      "text/plain": [
       "<Figure size 432x288 with 1 Axes>"
      ]
     },
     "metadata": {
      "needs_background": "light"
     },
     "output_type": "display_data"
    }
   ],
   "source": [
    "# Let us plot the predictions against the actual y-values\n",
    "#Make a scatter plot of the y and x1\n",
    "x_plot = credit[['VAR2']]\n",
    "y_plot = credit[['Bad_2']]\n",
    "plt.scatter(x_plot, y_plot, color = 'blue')\n",
    "plt.ylabel('Y Bad_2')\n",
    "plt.xlabel('VAR2 Duration')\n",
    "\n",
    "#Add the regression line for those without a checking account Var1_A14=0\n",
    "plt.plot(x_plot, linreg.params[0] + linreg.params[2]*x_plot, color = 'black')\n",
    "\n",
    "#Add the regression line for those with a checking account Var1_A14=1 (params[1])\n",
    "plt.plot(x_plot, linreg.params[0] + linreg.params[2]*x_plot + linreg.params[1], color = 'red')\n",
    "plt.show()"
   ]
  },
  {
   "cell_type": "markdown",
   "id": "a848ef7a-9a1a-490b-92a5-444b9b2ec516",
   "metadata": {},
   "source": [
    "The chart shows the blue dots for different values of Duration, but they form two lines: Goods (Y=0) and Bads (Y=1).\n",
    "\n",
    "Our fitted regression tries to impose a linear model on the non-linear relationship. Not only does it create a problem with predictions going beyond (0,1), but there are serious violations of OLS assumptions that are evident without any residual diagnostics. This means that we cannot say that our model adequately describes the data.\n",
    "\n",
    "We need the link function to connect both left- and right- hand sides. Logit transformation achieves this."
   ]
  },
  {
   "cell_type": "code",
   "execution_count": 11,
   "id": "a338d1af-e402-4030-aa39-0ab2ae1bb801",
   "metadata": {},
   "outputs": [
    {
     "data": {
      "text/plain": [
       "array([[ 0. ,  0.1,  0.2,  0.3,  0.4,  0.5,  0.6,  0.7,  0.8,  0.9,  1. ],\n",
       "       [ 0. ,  0.1,  0.2,  0.4,  0.7,  1. ,  1.5,  2.3,  4. ,  9. , 99. ],\n",
       "       [-4.6, -2.2, -1.4, -0.8, -0.4,  0. ,  0.4,  0.8,  1.4,  2.2,  4.6]])"
      ]
     },
     "execution_count": 11,
     "metadata": {},
     "output_type": "execute_result"
    }
   ],
   "source": [
    "# Let us plot the logit transformation \n",
    "# We start with P(Y=1) values between 0 and 1 in deciles\n",
    "P = np.array([0.01,0.1,0.2,0.3,0.4,0.5,0.6,0.7,0.8,0.9,0.99])\n",
    "\n",
    "#Then transform Probability to Odds, removing the upper bound\n",
    "Odds = P/(1-P)\n",
    "# And finally take the natural logarithm of odds, removing the lower bound\n",
    "Log_odds = np.log(Odds)\n",
    "np.around(np.vstack((P, Odds, Log_odds)), 1)\n"
   ]
  },
  {
   "cell_type": "code",
   "execution_count": 12,
   "id": "7a9b85da-70f4-4cb5-8693-a9295f907c3b",
   "metadata": {},
   "outputs": [
    {
     "data": {
      "image/png": "[encoded data removed]",
      "text/plain": [
       "<Figure size 432x288 with 1 Axes>"
      ]
     },
     "metadata": {
      "needs_background": "light"
     },
     "output_type": "display_data"
    }
   ],
   "source": [
    "# for a smoother continuous version and going backwards from Log-odds to P\n",
    "import math\n",
    "\n",
    "def sigmoid(Log_odds):\n",
    "    P = []\n",
    "    for item in Log_odds:\n",
    "        P.append(1/(1+math.exp(-item))) # here we recover P from log-odds\n",
    "    return P\n",
    "\n",
    "Log_odds = np.arange(-6,6,0.1)\n",
    "sig = sigmoid(Log_odds)\n",
    "\n",
    "plt.plot(Log_odds,sig)\n",
    "plt.ylabel('P(Y=1)')\n",
    "plt.xlabel('Log_odds')\n",
    "plt.show()\n"
   ]
  },
  {
   "cell_type": "markdown",
   "id": "e0fddd04-b02d-45e4-9450-a81fd209af02",
   "metadata": {},
   "source": [
    "This is a widely used sigmoid curve resulting from the logit transformation of the probability."
   ]
  },
  {
   "cell_type": "code",
   "execution_count": 13,
   "id": "98b397ee-4a57-4897-b5a0-b2e653748805",
   "metadata": {},
   "outputs": [
    {
     "name": "stdout",
     "output_type": "stream",
     "text": [
      "Intercept   -1.147967\n",
      "VAR1_A14    -1.701929\n",
      "VAR2         0.037755\n",
      "dtype: float64\n",
      "count    1000.000000\n",
      "mean        0.300000\n",
      "std         0.174752\n",
      "min         0.063040\n",
      "25%         0.125233\n",
      "50%         0.332941\n",
      "75%         0.439829\n",
      "max         0.827836\n",
      "dtype: float64\n"
     ]
    }
   ],
   "source": [
    "# Let us fit logistic regression to the same variables\n",
    "# We will use the glm() function from the formula submodule of (statsmodels).\n",
    "import statsmodels.formula.api as smf\n",
    "\n",
    "\n",
    "# We can define our equation in advnace\n",
    "formula = 'Bad_2 ~ VAR1_A14+VAR2'\n",
    "\n",
    "logreg = smf.glm(formula=formula, data=credit, family=sm.families.Binomial()).fit()\n",
    "print(logreg.params)\n",
    "\n",
    "#The predict() function can be used to generate predicted probabilities\n",
    "prob1 = logreg.predict(credit[['VAR1_A14', 'VAR2']])\n",
    "print(prob1.describe())"
   ]
  },
  {
   "cell_type": "markdown",
   "id": "d8f36462-3e73-4470-8abd-16f76d088e2d",
   "metadata": {},
   "source": [
    "The predicted probability is now within the boundaries. We can verify this by plotting the prediction against the actual y-values."
   ]
  },
  {
   "cell_type": "code",
   "execution_count": 18,
   "id": "efa09dec-3446-4828-8fc4-0202560eabf4",
   "metadata": {},
   "outputs": [
    {
     "data": {
      "image/png": "[encoded data removed]",
      "text/plain": [
       "<Figure size 432x288 with 1 Axes>"
      ]
     },
     "metadata": {
      "needs_background": "light"
     },
     "output_type": "display_data"
    }
   ],
   "source": [
    "x_plot = credit[['VAR2']]\n",
    "y_plot = credit[['Bad_2']]\n",
    "y_plot1 = prob1\n",
    "plt.scatter(x_plot, y_plot, color = 'blue')\n",
    "plt.ylabel('Y Bad_2')\n",
    "plt.xlabel('VAR2 Duration')\n",
    "plt.scatter(x_plot, y_plot1, color = 'red')\n",
    "plt.show()"
   ]
  },
  {
   "cell_type": "markdown",
   "id": "d93419f8-2ddc-4b9b-a33d-2cb5fef92435",
   "metadata": {},
   "source": [
    "Red dots correspond to the predicted probability of being Bad for values of 'Duration' given in the dataset. The upper curve is for those customers with a checking account Var1_A14=0, and the lower one is for those without it Var1_A14=1. Both are not exactly the same as the nice sigmoid curve shown above, but they correspond to the limited range of 'Duration' variable. An important point is that they do not cross 0 or 1."
   ]
  },
  {
   "cell_type": "code",
   "execution_count": null,
   "id": "ac69be2b-4254-4ac6-b85b-0961c0f44dcb",
   "metadata": {},
   "outputs": [],
   "source": []
  }
 ],
 "metadata": {
  "kernelspec": {
   "display_name": "Python 3",
   "language": "python",
   "name": "python3"
  },
  "language_info": {
   "codemirror_mode": {
    "name": "ipython",
    "version": 3
   },
   "file_extension": ".py",
   "mimetype": "text/x-python",
   "name": "python",
   "nbconvert_exporter": "python",
   "pygments_lexer": "ipython3",
   "version": "3.8.5"
  }
 },
 "nbformat": 4,
 "nbformat_minor": 5
}
