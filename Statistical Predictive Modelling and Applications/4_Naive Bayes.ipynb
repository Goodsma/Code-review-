{
 "cells": [
  {
   "cell_type": "markdown",
   "id": "f7c67855-af29-4752-aa83-6c0cf02e6228",
   "metadata": {},
   "source": [
    "# Assessment: Coding for Naive Bayes"
   ]
  },
  {
   "cell_type": "markdown",
   "id": "acb1e567-0cfb-404e-b2b0-8696f8303fc8",
   "metadata": {},
   "source": [
    "VAR7 (Present employment since). The categories are:\n",
    "\n",
    "A71 : unemployed;\n",
    "\n",
    "A72 : ... < 1 year;\n",
    "\n",
    "A73 : 1 <= ... < 4 years;\n",
    "\n",
    "A74 : 4 <= ... < 7 years;\n",
    "\n",
    "A75 : .. >= 7 years.\n",
    "\n",
    "VAR14 (Other installment plans). Installment plans are fixed-term loans that require fixed repayments (installments) every month. The categories are:\n",
    "\n",
    "A141 : banks;\n",
    "\n",
    "A142 : stores;\n",
    "\n",
    "A143 : none.\n",
    "\n",
    "VAR21: Status (target) : (1: Good, 2: Bad)"
   ]
  },
  {
   "cell_type": "code",
   "execution_count": 15,
   "id": "1ee366e4-ea37-4ea9-b4eb-e6c9d550d97c",
   "metadata": {},
   "outputs": [
    {
     "data": {
      "text/html": [
       "<div>\n",
       "<style scoped>\n",
       "    .dataframe tbody tr th:only-of-type {\n",
       "        vertical-align: middle;\n",
       "    }\n",
       "\n",
       "    .dataframe tbody tr th {\n",
       "        vertical-align: top;\n",
       "    }\n",
       "\n",
       "    .dataframe thead th {\n",
       "        text-align: right;\n",
       "    }\n",
       "</style>\n",
       "<table border=\"1\" class=\"dataframe\">\n",
       "  <thead>\n",
       "    <tr style=\"text-align: right;\">\n",
       "      <th></th>\n",
       "      <th>VAR7</th>\n",
       "      <th>VAR14</th>\n",
       "      <th>VAR21</th>\n",
       "    </tr>\n",
       "  </thead>\n",
       "  <tbody>\n",
       "    <tr>\n",
       "      <th>0</th>\n",
       "      <td>A75</td>\n",
       "      <td>A143</td>\n",
       "      <td>1</td>\n",
       "    </tr>\n",
       "    <tr>\n",
       "      <th>1</th>\n",
       "      <td>A73</td>\n",
       "      <td>A143</td>\n",
       "      <td>2</td>\n",
       "    </tr>\n",
       "    <tr>\n",
       "      <th>2</th>\n",
       "      <td>A74</td>\n",
       "      <td>A143</td>\n",
       "      <td>1</td>\n",
       "    </tr>\n",
       "    <tr>\n",
       "      <th>3</th>\n",
       "      <td>A74</td>\n",
       "      <td>A143</td>\n",
       "      <td>1</td>\n",
       "    </tr>\n",
       "    <tr>\n",
       "      <th>4</th>\n",
       "      <td>A73</td>\n",
       "      <td>A143</td>\n",
       "      <td>2</td>\n",
       "    </tr>\n",
       "    <tr>\n",
       "      <th>5</th>\n",
       "      <td>A73</td>\n",
       "      <td>A143</td>\n",
       "      <td>1</td>\n",
       "    </tr>\n",
       "    <tr>\n",
       "      <th>6</th>\n",
       "      <td>A75</td>\n",
       "      <td>A143</td>\n",
       "      <td>1</td>\n",
       "    </tr>\n",
       "    <tr>\n",
       "      <th>7</th>\n",
       "      <td>A73</td>\n",
       "      <td>A143</td>\n",
       "      <td>1</td>\n",
       "    </tr>\n",
       "    <tr>\n",
       "      <th>8</th>\n",
       "      <td>A74</td>\n",
       "      <td>A143</td>\n",
       "      <td>1</td>\n",
       "    </tr>\n",
       "    <tr>\n",
       "      <th>9</th>\n",
       "      <td>A71</td>\n",
       "      <td>A143</td>\n",
       "      <td>2</td>\n",
       "    </tr>\n",
       "  </tbody>\n",
       "</table>\n",
       "</div>"
      ],
      "text/plain": [
       "  VAR7 VAR14  VAR21\n",
       "0  A75  A143      1\n",
       "1  A73  A143      2\n",
       "2  A74  A143      1\n",
       "3  A74  A143      1\n",
       "4  A73  A143      2\n",
       "5  A73  A143      1\n",
       "6  A75  A143      1\n",
       "7  A73  A143      1\n",
       "8  A74  A143      1\n",
       "9  A71  A143      2"
      ]
     },
     "execution_count": 15,
     "metadata": {},
     "output_type": "execute_result"
    }
   ],
   "source": [
    "import pandas as pd\n",
    "import numpy as np\n",
    "from sklearn.naive_bayes import MultinomialNB\n",
    "from sklearn.metrics import roc_curve, auc, roc_auc_score\n",
    "from sklearn.model_selection import train_test_split\n",
    "\n",
    "# Read in the data\n",
    "\n",
    "yx = pd.read_csv('german.csv', usecols=['VAR7','VAR14', 'VAR21'])\n",
    "yx.head(10)"
   ]
  },
  {
   "cell_type": "code",
   "execution_count": 17,
   "id": "700f05f8-f94b-4a39-bf62-07d350e2271e",
   "metadata": {},
   "outputs": [
    {
     "name": "stdout",
     "output_type": "stream",
     "text": [
      "VAR7   A71  A72  A73  A74  A75   All\n",
      "VAR21                               \n",
      "1       39  102  235  135  189   700\n",
      "2       23   70  104   39   64   300\n",
      "All     62  172  339  174  253  1000\n"
     ]
    }
   ],
   "source": [
    "# Calculate frequency distributions/tables for VAR7 and VAR14 on the whole dataset\n",
    "fre_tables_VAR7 = pd.crosstab(index=yx['VAR21'], columns=[yx['VAR7']],margins = True)\n",
    "print(fre_tables_VAR7)"
   ]
  },
  {
   "cell_type": "code",
   "execution_count": 18,
   "id": "617d39f9-ee09-436e-a325-d57e5b84f5cc",
   "metadata": {},
   "outputs": [
    {
     "name": "stdout",
     "output_type": "stream",
     "text": [
      "VAR14  A141  A142  A143   All\n",
      "VAR21                        \n",
      "1        82    28   590   700\n",
      "2        57    19   224   300\n",
      "All     139    47   814  1000\n"
     ]
    }
   ],
   "source": [
    "fre_tables_VAR14 = pd.crosstab(index=yx['VAR21'], columns=[yx['VAR14']],margins = True)\n",
    "print(fre_tables_VAR14)"
   ]
  },
  {
   "cell_type": "code",
   "execution_count": 19,
   "id": "79b084ef-1d87-4709-8da8-8ffc256f70ca",
   "metadata": {},
   "outputs": [
    {
     "name": "stdout",
     "output_type": "stream",
     "text": [
      "0.3709677419354839\n",
      "0.4069767441860465\n",
      "0.30678466076696165\n",
      "0.22413793103448276\n",
      "0.25296442687747034\n",
      "####\n",
      "0.41007194244604317\n",
      "0.40425531914893614\n",
      "0.2751842751842752\n"
     ]
    }
   ],
   "source": [
    "# Calculate Probability of Default/Bad (PD) for VAR7 and VAR14 on the whole dataset\n",
    "print(fre_tables_VAR7.loc[(2),('A71')]/fre_tables_VAR7.loc[('All'),('A71')])\n",
    "print(fre_tables_VAR7.loc[(2),('A72')]/fre_tables_VAR7.loc[('All'),('A72')])\n",
    "print(fre_tables_VAR7.loc[(2),('A73')]/fre_tables_VAR7.loc[('All'),('A73')])\n",
    "print(fre_tables_VAR7.loc[(2),('A74')]/fre_tables_VAR7.loc[('All'),('A74')])\n",
    "print(fre_tables_VAR7.loc[(2),('A75')]/fre_tables_VAR7.loc[('All'),('A75')])\n",
    "\n",
    "print('####')\n",
    "print(fre_tables_VAR14.loc[(2),('A141')]/fre_tables_VAR14.loc[('All'),('A141')])\n",
    "print(fre_tables_VAR14.loc[(2),('A142')]/fre_tables_VAR14.loc[('All'),('A142')])\n",
    "print(fre_tables_VAR14.loc[(2),('A143')]/fre_tables_VAR14.loc[('All'),('A143')])\n"
   ]
  },
  {
   "cell_type": "code",
   "execution_count": 20,
   "id": "08d08937-1228-4629-973a-91356d05bd6a",
   "metadata": {},
   "outputs": [],
   "source": [
    "emp_dum=pd.get_dummies(yx['VAR7'],prefix='emp')\n",
    "inst_dum=pd.get_dummies(yx['VAR14'],prefix='inst')\n",
    "yx_dum=pd.concat([yx['VAR21'],emp_dum,inst_dum],axis=1)\n",
    "yx_dum.loc[:,'VAR21'].replace(([1,2]),[0,1],inplace=True)"
   ]
  },
  {
   "cell_type": "code",
   "execution_count": 22,
   "id": "981f93a5-3fde-4dae-b296-05cad603045f",
   "metadata": {},
   "outputs": [],
   "source": [
    "# Prepare the data for NB and split the data into train (50%)/test (50%) sets using random_state =5\n",
    "X_emp = yx_dum[['emp_A71','emp_A72','emp_A73','emp_A74','emp_A75']]\n",
    "Y_emp = yx_dum['VAR21']\n",
    "X_train_emp, X_test_emp, Y_train_emp, Y_test_emp = train_test_split(X_emp,Y_emp,test_size=0.5, random_state=2)\n",
    "\n",
    "X_inst = yx_dum[['inst_A141','inst_A142','inst_A143']]\n",
    "Y_inst = yx_dum['VAR21']\n",
    "X_train_inst, X_test_inst, Y_train_inst, Y_test_inst = train_test_split(X_inst,Y_inst,test_size=0.5, random_state=2)\n",
    "\n",
    "X_ei = yx_dum[['emp_A71','emp_A72','emp_A73','emp_A74','emp_A75','inst_A141','inst_A142','inst_A143']]\n",
    "Y_ei = yx_dum['VAR21']\n",
    "X_train_ei, X_test_ei, Y_train_ei, Y_test_ei = train_test_split(X_ei,Y_ei,test_size=0.5, random_state=2)\n"
   ]
  },
  {
   "cell_type": "code",
   "execution_count": 32,
   "id": "44c2be56-59b9-44c9-8cd4-233644ed6c26",
   "metadata": {},
   "outputs": [
    {
     "name": "stdout",
     "output_type": "stream",
     "text": [
      "AUC:0.5776982011992006\n"
     ]
    }
   ],
   "source": [
    "# build Naive Bayes classifier using VAR7 on the train set and calculate AUC on the test set\n",
    "model1 = MultinomialNB()\n",
    "model1.fit(X_train_emp, Y_train_emp.values.ravel())\n",
    "Y_prob = model1.predict_proba(X_test_emp)\n",
    "\n",
    "false_positive_rate, true_positive_rate, thresholds = roc_curve(Y_test_emp, Y_prob[:,1])\n",
    "roc_auc=auc(false_positive_rate, true_positive_rate)\n",
    "print('AUC:'+str(roc_auc))"
   ]
  },
  {
   "cell_type": "code",
   "execution_count": 33,
   "id": "3ef26257-9a34-400b-8617-b7218d5b1ae9",
   "metadata": {},
   "outputs": [
    {
     "name": "stdout",
     "output_type": "stream",
     "text": [
      "AUC:0.508364793841143\n"
     ]
    }
   ],
   "source": [
    "# build Naive Bayes classifier using VAR14 on the train set and calculate AUC on the test set\n",
    "model2 = MultinomialNB()\n",
    "model2.fit(X_train_inst, Y_train_inst.values.ravel())\n",
    "Y_prob = model2.predict_proba(X_test_inst)\n",
    "\n",
    "false_positive_rate, true_positive_rate, thresholds = roc_curve(Y_test_inst, Y_prob[:,1])\n",
    "roc_auc=auc(false_positive_rate, true_positive_rate)\n",
    "print('AUC:'+str(roc_auc))"
   ]
  },
  {
   "cell_type": "code",
   "execution_count": null,
   "id": "c4c49a74-6b75-441c-b9ee-bf98ac373bc5",
   "metadata": {},
   "outputs": [],
   "source": []
  }
 ],
 "metadata": {
  "kernelspec": {
   "display_name": "Python 3",
   "language": "python",
   "name": "python3"
  },
  "language_info": {
   "codemirror_mode": {
    "name": "ipython",
    "version": 3
   },
   "file_extension": ".py",
   "mimetype": "text/x-python",
   "name": "python",
   "nbconvert_exporter": "python",
   "pygments_lexer": "ipython3",
   "version": "3.8.5"
  }
 },
 "nbformat": 4,
 "nbformat_minor": 5
}
