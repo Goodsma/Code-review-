{
 "cells": [
  {
   "cell_type": "markdown",
   "id": "044b0558-bbef-49c1-b4b3-0f744f54907f",
   "metadata": {},
   "source": [
    "# Adding predictors"
   ]
  },
  {
   "cell_type": "markdown",
   "id": "92c809db-4265-48d7-baef-2ce36e21fdf6",
   "metadata": {},
   "source": [
    "categorical variables and interaction variables can be used in linear regression"
   ]
  },
  {
   "cell_type": "markdown",
   "id": "da28c42d-cc5b-491b-9645-c6d745f810dc",
   "metadata": {},
   "source": [
    "## Categorical variables"
   ]
  },
  {
   "cell_type": "code",
   "execution_count": 1,
   "id": "027c44dc-f80a-4785-ab4e-e550338e4891",
   "metadata": {},
   "outputs": [
    {
     "name": "stdout",
     "output_type": "stream",
     "text": [
      "                            OLS Regression Results                            \n",
      "==============================================================================\n",
      "Dep. Variable:                      y   R-squared:                       0.921\n",
      "Model:                            OLS   Adj. R-squared:                  0.881\n",
      "Method:                 Least Squares   F-statistic:                     23.31\n",
      "Date:                Fri, 10 Sep 2021   Prob (F-statistic):            0.00105\n",
      "Time:                        21:30:54   Log-Likelihood:                -31.386\n",
      "No. Observations:                  10   AIC:                             70.77\n",
      "Df Residuals:                       6   BIC:                             71.98\n",
      "Df Model:                           3                                         \n",
      "Covariance Type:            nonrobust                                         \n",
      "==============================================================================\n",
      "                 coef    std err          t      P>|t|      [0.025      0.975]\n",
      "------------------------------------------------------------------------------\n",
      "const         12.4045     10.382      1.195      0.277     -13.000      37.809\n",
      "x1             0.1880      0.040      4.723      0.003       0.091       0.285\n",
      "x2             6.1509      4.229      1.455      0.196      -4.197      16.499\n",
      "dummy        -17.6097      4.971     -3.542      0.012     -29.774      -5.445\n",
      "==============================================================================\n",
      "Omnibus:                        0.092   Durbin-Watson:                   2.439\n",
      "Prob(Omnibus):                  0.955   Jarque-Bera (JB):                0.191\n",
      "Skew:                           0.155   Prob(JB):                        0.909\n",
      "Kurtosis:                       2.400   Cond. No.                         599.\n",
      "==============================================================================\n",
      "\n",
      "Notes:\n",
      "[1] Standard Errors assume that the covariance matrix of the errors is correctly specified.\n"
     ]
    },
    {
     "name": "stderr",
     "output_type": "stream",
     "text": [
      "C:\\Users\\goodsma\\anaconda3\\lib\\site-packages\\statsmodels\\tsa\\tsatools.py:142: FutureWarning: In a future version of pandas all arguments of concat except for the argument 'objs' will be keyword-only\n",
      "  x = pd.concat(x[::order], 1)\n",
      "C:\\Users\\goodsma\\anaconda3\\lib\\site-packages\\scipy\\stats\\stats.py:1541: UserWarning: kurtosistest only valid for n>=20 ... continuing anyway, n=10\n",
      "  warnings.warn(\"kurtosistest only valid for n>=20 ... continuing \"\n"
     ]
    }
   ],
   "source": [
    "import numpy as np\n",
    "import matplotlib.pyplot as plt\n",
    "import pandas as pd\n",
    "import statsmodels.api as sm\n",
    "\n",
    "#Make the data\n",
    "#y are box office revenues, x1: advertising,x2: number of theaters, dummy: rated R\n",
    "d1 = {\"y\":[23,12,36,27,45,70,55,8,62,28],\n",
    "     \"x1\":[29,49,89,110,210,190,153,20,122,41],\n",
    "     \"x2\": [2.036,2.919,1.707,1.505,2.232,2.910,2.795,1.46,3.288,1.838],\n",
    "     \"dummy\": [1,1,0,1,1,0,0,1,0,0]\n",
    "    }\n",
    "data1 = pd.DataFrame(data = d1)\n",
    "\n",
    "data1 = sm.add_constant(data1)\n",
    "lm1 = sm.OLS(data1['y'],data1[['const', 'x1','x2','dummy']]).fit()\n",
    "print(lm1.summary())"
   ]
  },
  {
   "cell_type": "code",
   "execution_count": 8,
   "id": "75bf232a-aec9-4aab-ac51-2e49524f072f",
   "metadata": {},
   "outputs": [
    {
     "data": {
      "image/png": "[encoded data removed]",
      "text/plain": [
       "<Figure size 432x288 with 1 Axes>"
      ]
     },
     "metadata": {
      "needs_background": "light"
     },
     "output_type": "display_data"
    }
   ],
   "source": [
    "#Make the data\n",
    "#y are box office revenues, x1: advertising, dummy: rated R  \n",
    "d2 = {\"y\":[23,12,36,27,45,70,55,8,62,28],\n",
    "     \"x1\":[29,49,89,110,210,190,153,20,122,41],\n",
    "     \"dummy\": [1,1,0,1,1,0,0,1,0,0]\n",
    "    }\n",
    "data2 = pd.DataFrame(data = d2)\n",
    "\n",
    "#Make an OLS\n",
    "data2 = sm.add_constant(data2)\n",
    "lm2 = sm.OLS(data2['y'],data2[['const','x1','dummy']]).fit()\n",
    "\n",
    "#Make a plot with the two regression lines\n",
    "\n",
    "#Make a scatter plot of the y and x1\n",
    "x_plot = data2[['x1']]\n",
    "y_plot = data2[['y']]\n",
    "plt.scatter(x_plot,y_plot, color = 'blue')\n",
    "\n",
    "#Add the regression line for non R-rated movies (black)\n",
    "plt.plot(x_plot, lm2.params[0] + lm2.params[1]*x_plot, color = 'black')\n",
    "\n",
    "#Add the regression line for R-rated movies (red)\n",
    "plt.plot(x_plot, lm2.params[0] + lm2.params[1]*x_plot + lm2.params[2], color = 'red')\n",
    "\n",
    "plt.show()"
   ]
  },
  {
   "cell_type": "markdown",
   "id": "78133126-21f6-4c93-904d-dd7fccde517e",
   "metadata": {},
   "source": [
    "## Categorical variables with more than two levels"
   ]
  },
  {
   "cell_type": "markdown",
   "id": "6a97f0c7-3948-4ea2-ba1f-8318157c85ac",
   "metadata": {},
   "source": [
    "If there are more than two levels, we have to create additional dummy variables. In general, if a variable has c categories, than we create c-1 dummy variables, where each variable resolves to 1 if the the observation is equal to that category and 0 otherwise. So there will always be one less dummy variable than the number of categories. The category with no dummy variable is referred to as the 'reference class' or 'baseline'. This technique of transforming categorical variables to dummy variables is called one-hot encoding."
   ]
  },
  {
   "cell_type": "code",
   "execution_count": 27,
   "id": "67ec9ede-2a68-4fea-93d3-0226377b5c84",
   "metadata": {},
   "outputs": [],
   "source": [
    "#Make the data\n",
    "#y are box office revenues, x1: advertising, dummy: rated R  \n",
    "d3 = {\"y\":[23,12,36,27,45,70,55,8,62,28],\n",
    "     \"x1\":[29,49,89,110,210,190,153,20,122,41],\n",
    "     \"dummy\": [\"Action\",\"Drama\",\"Adventure\",\"Action\",\"Comedy\",\"Sci-Fi\",\"Drama\",\"Horror\",\"Comedy\",\"Action\"]\n",
    "    }\n",
    "data3 = pd.DataFrame(data = d3)\n",
    "\n",
    "#This function will create a dummy for every genre\n",
    "dummies = pd.get_dummies(data3['dummy'])\n",
    "\n",
    "#Delete one genre as reference category (e.g Horror)\n",
    "dummies = dummies.drop('Horror', axis = 1)\n",
    "\n",
    "#Add the dummies to the original data\n",
    "final = pd.concat([data3, dummies], axis = 1)\n",
    "final = final.drop('dummy', axis = 1)\n"
   ]
  },
  {
   "cell_type": "markdown",
   "id": "544d56ee-2105-4891-93f7-72608c0f6716",
   "metadata": {},
   "source": [
    "## Interaction variables"
   ]
  },
  {
   "cell_type": "code",
   "execution_count": 30,
   "id": "351c1e05-02e0-42b2-b2ff-8e17e464dbcc",
   "metadata": {},
   "outputs": [
    {
     "name": "stdout",
     "output_type": "stream",
     "text": [
      "                            OLS Regression Results                            \n",
      "==============================================================================\n",
      "Dep. Variable:                      y   R-squared:                       0.922\n",
      "Model:                            OLS   Adj. R-squared:                  0.884\n",
      "Method:                 Least Squares   F-statistic:                     23.76\n",
      "Date:                Fri, 10 Sep 2021   Prob (F-statistic):           0.000993\n",
      "Time:                        22:26:17   Log-Likelihood:                -31.298\n",
      "No. Observations:                  10   AIC:                             70.60\n",
      "Df Residuals:                       6   BIC:                             71.81\n",
      "Df Model:                           3                                         \n",
      "Covariance Type:            nonrobust                                         \n",
      "==============================================================================\n",
      "                 coef    std err          t      P>|t|      [0.025      0.975]\n",
      "------------------------------------------------------------------------------\n",
      "const         16.2593      8.062      2.017      0.090      -3.468      35.986\n",
      "x1             0.2852      0.062      4.585      0.004       0.133       0.437\n",
      "dummy         -7.4326      9.462     -0.786      0.462     -30.585      15.720\n",
      "x1dummy       -0.1157      0.077     -1.504      0.183      -0.304       0.073\n",
      "==============================================================================\n",
      "Omnibus:                        2.817   Durbin-Watson:                   1.976\n",
      "Prob(Omnibus):                  0.244   Jarque-Bera (JB):                1.550\n",
      "Skew:                           0.942   Prob(JB):                        0.461\n",
      "Kurtosis:                       2.591   Cond. No.                         701.\n",
      "==============================================================================\n",
      "\n",
      "Notes:\n",
      "[1] Standard Errors assume that the covariance matrix of the errors is correctly specified.\n"
     ]
    },
    {
     "name": "stderr",
     "output_type": "stream",
     "text": [
      "C:\\Users\\goodsma\\anaconda3\\lib\\site-packages\\scipy\\stats\\stats.py:1541: UserWarning: kurtosistest only valid for n>=20 ... continuing anyway, n=10\n",
      "  warnings.warn(\"kurtosistest only valid for n>=20 ... continuing \"\n"
     ]
    }
   ],
   "source": [
    "#Use data2 but add the interaction effect\n",
    "data4 = data2\n",
    "data4['x1dummy'] = data4['x1']*data4['dummy']\n",
    "\n",
    "#Make an OLS model\n",
    "lm4 = sm.OLS(data4['y'],data4[['const','x1','dummy','x1dummy']]).fit()\n",
    "print(lm4.summary())"
   ]
  },
  {
   "cell_type": "markdown",
   "id": "8ac04ae7-bc32-4a0f-ad26-a92de3a59dcf",
   "metadata": {},
   "source": [
    "We discover from the output that the intercept changes when the movie is R-rated (16.26 - 7.43). The slope also changes (0.29 - 0.12). This means that the effect of advertising spent on box office sales is higher for non R-rated movies. This is also clear when we make a plot of the regression lines:"
   ]
  },
  {
   "cell_type": "code",
   "execution_count": 31,
   "id": "b7274996-a379-47b5-973d-2d585dca1731",
   "metadata": {},
   "outputs": [
    {
     "data": {
      "image/png": "[encoded data removed]",
      "text/plain": [
       "<Figure size 432x288 with 1 Axes>"
      ]
     },
     "metadata": {
      "needs_background": "light"
     },
     "output_type": "display_data"
    }
   ],
   "source": [
    "#Make a plot with the two regression lines\n",
    "#Make a scatter plot of the y and x1\n",
    "\n",
    "x_plot = data4[['x1']]\n",
    "y_plot = data4[['y']]\n",
    "plt.scatter(x_plot,y_plot, color ='blue')\n",
    "\n",
    "#Add the regression line for non R-rated movies (black)\n",
    "plt.plot(x_plot, lm4.params[0] + lm4.params[1]*x_plot, color = \"black\")\n",
    "\n",
    "#Add the regression line for R-rated movies (red)\n",
    "plt.plot(x_plot, lm2.params[0] + lm2.params[1]*x_plot + lm4.params[2] + lm4.params[3]*x_plot,color = \"red\")\n",
    "\n",
    "plt.show()"
   ]
  },
  {
   "cell_type": "code",
   "execution_count": null,
   "id": "64b5a6f1-20a6-4772-8120-2635cd8f22df",
   "metadata": {},
   "outputs": [],
   "source": []
  }
 ],
 "metadata": {
  "kernelspec": {
   "display_name": "Python 3",
   "language": "python",
   "name": "python3"
  },
  "language_info": {
   "codemirror_mode": {
    "name": "ipython",
    "version": 3
   },
   "file_extension": ".py",
   "mimetype": "text/x-python",
   "name": "python",
   "nbconvert_exporter": "python",
   "pygments_lexer": "ipython3",
   "version": "3.8.5"
  }
 },
 "nbformat": 4,
 "nbformat_minor": 5
}
