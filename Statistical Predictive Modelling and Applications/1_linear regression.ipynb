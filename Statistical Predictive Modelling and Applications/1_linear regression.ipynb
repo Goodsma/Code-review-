{
 "cells": [
  {
   "cell_type": "markdown",
   "id": "9b8eddee-a67a-4bc5-94e5-a0d763a4eddd",
   "metadata": {},
   "source": [
    "# How to code simple linear regression\n",
    "\n",
    "First, let's build a linear regression model using the *statsmodels* package. This package builds several statistical models and provides a nice output summary of the linear regression model."
   ]
  },
  {
   "cell_type": "code",
   "execution_count": 10,
   "id": "8a702c70-aae0-4fe3-8898-d46094ab771a",
   "metadata": {},
   "outputs": [],
   "source": [
    "import numpy as np\n",
    "import matplotlib.pyplot as plt\n",
    "import pandas as pd\n",
    "import statsmodels.api as sm\n",
    "\n",
    "#We will build a statistical linear regression model first\n",
    "#If we would be using linear regression just for prediction, we use sklearn\n",
    "\n",
    "#Make the data\n",
    "#y are box offce revenues, x: advertising. All variables are expressed in 000s\n",
    "#Linear regression accepts Pandas DataFrame \n",
    "d = {\"y\":[23,12,36,27,45],\"x\":[29,49,89,110,210]}\n",
    "data = pd.DataFrame(data = d)\n",
    "\n",
    "#We seperate the predictor and the response\n",
    "#Linear regression only accepts a dataframe as input for the predictors\n",
    "#so we use [[]] to select x from the data\n",
    "#[] does also work : data['x']\n",
    "x = data[['x']]\n",
    "y = data['y']"
   ]
  },
  {
   "cell_type": "code",
   "execution_count": 11,
   "id": "85e3c5e2-53f7-4fd1-b2b1-f7d98db8a5fd",
   "metadata": {},
   "outputs": [
    {
     "data": {
      "image/png": "[encoded data removed]",
      "text/plain": [
       "<Figure size 432x288 with 1 Axes>"
      ]
     },
     "metadata": {
      "needs_background": "light"
     },
     "output_type": "display_data"
    }
   ],
   "source": [
    "#Make a scatterplot of the data and add the regression line: y_i =14.179+0.1481x_i\n",
    "plt.scatter(x,y)\n",
    "plt.plot(x,14.179 + 0.1481*x, 'b-')\n",
    "plt.show()"
   ]
  },
  {
   "cell_type": "code",
   "execution_count": 14,
   "id": "b72c3a91-8bb5-4d4e-b5de-e0bbad661fe7",
   "metadata": {
    "tags": []
   },
   "outputs": [
    {
     "name": "stdout",
     "output_type": "stream",
     "text": [
      "                            OLS Regression Results                            \n",
      "==============================================================================\n",
      "Dep. Variable:                      y   R-squared:                       0.690\n",
      "Model:                            OLS   Adj. R-squared:                  0.587\n",
      "Method:                 Least Squares   F-statistic:                     6.677\n",
      "Date:                Sun, 05 Sep 2021   Prob (F-statistic):             0.0815\n",
      "Time:                        18:18:04   Log-Likelihood:                -16.270\n",
      "No. Observations:                   5   AIC:                             36.54\n",
      "Df Residuals:                       3   BIC:                             35.76\n",
      "Df Model:                           1                                         \n",
      "Covariance Type:            nonrobust                                         \n",
      "==============================================================================\n",
      "                 coef    std err          t      P>|t|      [0.025      0.975]\n",
      "------------------------------------------------------------------------------\n",
      "const         14.1786      6.651      2.132      0.123      -6.987      35.344\n",
      "x              0.1481      0.057      2.584      0.081      -0.034       0.330\n",
      "==============================================================================\n",
      "Omnibus:                          nan   Durbin-Watson:                   3.457\n",
      "Prob(Omnibus):                    nan   Jarque-Bera (JB):                0.299\n",
      "Skew:                          -0.116   Prob(JB):                        0.861\n",
      "Kurtosis:                       1.825   Cond. No.                         213.\n",
      "==============================================================================\n",
      "\n",
      "Notes:\n",
      "[1] Standard Errors assume that the covariance matrix of the errors is correctly specified.\n"
     ]
    },
    {
     "name": "stderr",
     "output_type": "stream",
     "text": [
      "C:\\Users\\goodsma\\anaconda3\\lib\\site-packages\\statsmodels\\tsa\\tsatools.py:142: FutureWarning: In a future version of pandas all arguments of concat except for the argument 'objs' will be keyword-only\n",
      "  x = pd.concat(x[::order], 1)\n",
      "C:\\Users\\goodsma\\anaconda3\\lib\\site-packages\\statsmodels\\stats\\stattools.py:74: ValueWarning: omni_normtest is not valid with less than 8 observations; 5 samples were given.\n",
      "  warn(\"omni_normtest is not valid with less than 8 observations; %i \"\n"
     ]
    }
   ],
   "source": [
    "#The statsmodels package does not add an intercept by default\n",
    "#First,we need to add a constant\n",
    "\n",
    "x = sm.add_constant(x)\n",
    "\n",
    "#Fit an OLS model\n",
    "linreg = sm.OLS(y,x).fit()\n",
    "print(linreg.summary())"
   ]
  },
  {
   "cell_type": "markdown",
   "id": "6aa51607-2d75-4f0f-b2bf-9eef72c10e66",
   "metadata": {},
   "source": [
    "If we would calculate our estimates on another set of observations, we would get another regression line. Hence, our coefficient estimates will also vary with different sets of observations. This is exactly what the standard error (std err) is telling us: ‘How much will the coefficient estimates vary when using different samples?’\n",
    "\n",
    "The Df Model represents the degrees of freedom of the model. In this case, we have 1 degree of freedom, since we have 1 predictor. The degrees of freedom of the residuals (Df Residuals) is equal to 3, since we have 5 observations but have to estimate the intercept and the slope (so 5-2=3).\n",
    "\n",
    "The R^2 is a measure of goodness-of-fit and shows us the explanatory power of our model. The R^2 indicates how much variance in the response variable (Y) is explained by the regressed model.\n",
    "\n",
    "The  is a number between 0 and 1. The closer to 0 (1) means that the model does not explain (explains) a lot of the variability in the response. A low value for the might be an indication that the relationship is not linear."
   ]
  },
  {
   "cell_type": "code",
   "execution_count": null,
   "id": "c74696fb-d697-4b67-bf2d-d03c3d6cc370",
   "metadata": {},
   "outputs": [],
   "source": []
  }
 ],
 "metadata": {
  "kernelspec": {
   "display_name": "Python 3",
   "language": "python",
   "name": "python3"
  },
  "language_info": {
   "codemirror_mode": {
    "name": "ipython",
    "version": 3
   },
   "file_extension": ".py",
   "mimetype": "text/x-python",
   "name": "python",
   "nbconvert_exporter": "python",
   "pygments_lexer": "ipython3",
   "version": "3.8.5"
  }
 },
 "nbformat": 4,
 "nbformat_minor": 5
}
