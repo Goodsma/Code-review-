{
 "cells": [
  {
   "cell_type": "markdown",
   "id": "84150076-6821-4be7-acb3-cf8464b8eeec",
   "metadata": {},
   "source": [
    "# Coding and interpreting logistic regression"
   ]
  },
  {
   "cell_type": "code",
   "execution_count": 8,
   "id": "f22e70a3-e3f5-462e-b482-34d563b7847b",
   "metadata": {},
   "outputs": [
    {
     "name": "stdout",
     "output_type": "stream",
     "text": [
      "Parameters\n",
      "Intercept    -1.112136\n",
      "No_account   -1.578525\n",
      "Duration      0.033985\n",
      "dtype: float64\n",
      "Odds Ratios\n",
      "Intercept     0.328856\n",
      "No_account    0.206279\n",
      "Duration      1.034569\n",
      "dtype: float64\n"
     ]
    }
   ],
   "source": [
    "import numpy as np\n",
    "import pandas as pd\n",
    "import statsmodels.api as sm\n",
    "import statsmodels.formula.api as smf\n",
    "from sklearn.metrics import roc_auc_score, recall_score, precision_score\n",
    "from sklearn.model_selection import train_test_split\n",
    "import math\n",
    "\n",
    "credit = pd.read_csv(\"credit_regress.csv\")\n",
    "credit.rename(columns = {'VAR1_A14' : 'No_account', 'VAR2' : 'Duration'}, inplace=True)\n",
    "\n",
    "train, test = train_test_split(credit, test_size=0.3, random_state=2)\n",
    "\n",
    "formula = 'Bad_2 ~ No_account + Duration'\n",
    "\n",
    "logreg = smf.glm(formula=formula, data=train, family=sm.families.Binomial()).fit()\n",
    "print('Parameters')\n",
    "print(logreg.params)\n",
    "print('Odds Ratios')\n",
    "print(np.exp(logreg.params))"
   ]
  },
  {
   "cell_type": "markdown",
   "id": "558b1cf4-8ad6-4fb8-afda-0caa883d73cd",
   "metadata": {},
   "source": [
    "Parameters give the effects on logit. Odds ratios give the effects on odds. Intercept is of little interest usually.\n",
    "\n",
    "Not having a checking account decreases logit by -1.58 as compared to having it. It also means that Odds are reduced by a factor of 0.21. In other words, Odds of Default/Bad are almost 5 times lower for those without a checking account.\n",
    "\n",
    "For Duration an increase of one month (one unit) means an increase in logit of 0.03. Or an increase in odds by a factor of 1.03. A convenient way of interpreting the effect on odds for a numeric variable is to think of percentage deviation from 1, i.e. (exp(beta) - 1) x 100 indicates the percentage increase or decrease due to a one-unit change in the predictor. So for Duration, a one month increase leads to a 3% increase in odds. Therefore, loans with longer duration are higher risks."
   ]
  },
  {
   "cell_type": "code",
   "execution_count": 15,
   "id": "b4cf0258-ead8-4a95-8965-7fbec3ba6196",
   "metadata": {},
   "outputs": [
    {
     "name": "stdout",
     "output_type": "stream",
     "text": [
      "AUC for 30% holdout:0.7712950399517564\n",
      "Recall for 30% holdout:0.31313131313131315\n",
      "Precision for 30% holdout:0.6458333333333334\n"
     ]
    }
   ],
   "source": [
    "# Let's check the predictive accuracy on a test sample:\n",
    "# AUC, recall (correctly predicted Bads out of all true Bads), \n",
    "# precision (correctly predicted Bads out of all predicted as Bads).\n",
    "# In credit scoring, we are more interested in correctly predicting Bads, hence the choice of measures\n",
    "\n",
    "prob_test = logreg.predict(test[['No_account', 'Duration']])\n",
    "pred = [1 if x > 0.5 else 0 for x in prob_test] # 0.5 cutoff is a default setting in all software\n",
    "\n",
    "roc_auc = roc_auc_score(y_true=test['Bad_2'], y_score=prob_test)\n",
    "recall = recall_score(y_true=test['Bad_2'], y_pred=pred)\n",
    "precision = precision_score(y_true=test['Bad_2'], y_pred=pred)\n",
    "\n",
    "print ('AUC for 50% holdout:'+str(roc_auc))\n",
    "print (\"Recall for 50% holdout:\" +str(recall))\n",
    "print (\"Precision for 50% holdout:\" +str(precision))"
   ]
  },
  {
   "cell_type": "code",
   "execution_count": 16,
   "id": "2bba9341-b707-4f1c-b3b2-e6256306d62d",
   "metadata": {},
   "outputs": [
    {
     "name": "stdout",
     "output_type": "stream",
     "text": [
      "fit_time value: [0.01500297 0.00300193 0.0030005 ]\n",
      "score_time value: [0.01400065 0.00699854 0.00699854]\n",
      "test_roc_auc value: [0.74431624 0.73100858 0.7366309 ]\n",
      "train_roc_auc value: [0.73497854 0.74066381 0.73784797]\n",
      "test_recall value: [0.28 0.17 0.26]\n",
      "train_recall value: [0.215 0.27  0.225]\n",
      "test_precision value: [0.60869565 0.5862069  0.65      ]\n",
      "train_precision value: [0.62318841 0.62790698 0.6       ]\n"
     ]
    }
   ],
   "source": [
    "# To check how predictive accuracy varies for different samples one can use cross_validate module \n",
    "# You need to fit logistic using a different module, since cross_validate does not accept statsmodels\n",
    "# In credit modelling, one often compares predictive accuracy between test and train set\n",
    "# Large differences would indicate overfitting\n",
    "# I will use a default setting of cv=3 \n",
    "# This is because of a relatively small sample with only 300 events (Bads)\n",
    "# cross_validate cv:int - to specify the number of folds in a (Stratified)KFold\n",
    "\n",
    "from sklearn.model_selection import cross_validate\n",
    "from sklearn.linear_model import LogisticRegression\n",
    "\n",
    "X = credit[['No_account', 'Duration']]\n",
    "Y = credit['Bad_2']\n",
    "\n",
    "classifier = LogisticRegression(solver='liblinear')\n",
    "metrics = ['roc_auc','recall','precision']\n",
    "\n",
    "outcomes = cross_validate(classifier, X, Y, scoring=metrics, cv=3, return_train_score=True)\n",
    "\n",
    "for metric in outcomes.keys():\n",
    "    print(metric+' value: '+str(outcomes[metric]))"
   ]
  }
 ],
 "metadata": {
  "kernelspec": {
   "display_name": "Python 3",
   "language": "python",
   "name": "python3"
  },
  "language_info": {
   "codemirror_mode": {
    "name": "ipython",
    "version": 3
   },
   "file_extension": ".py",
   "mimetype": "text/x-python",
   "name": "python",
   "nbconvert_exporter": "python",
   "pygments_lexer": "ipython3",
   "version": "3.8.5"
  }
 },
 "nbformat": 4,
 "nbformat_minor": 5
}
