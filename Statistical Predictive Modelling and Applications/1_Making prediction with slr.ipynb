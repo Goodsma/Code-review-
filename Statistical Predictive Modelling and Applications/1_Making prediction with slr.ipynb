{
 "cells": [
  {
   "cell_type": "markdown",
   "id": "0d692c7e-4f75-44b1-8cc9-4015dab1f239",
   "metadata": {},
   "source": [
    "# Making predictions with simple linear regression"
   ]
  },
  {
   "cell_type": "code",
   "execution_count": 2,
   "id": "d492e7cf-9b53-4ee3-9024-a87ceea3b4ae",
   "metadata": {},
   "outputs": [
    {
     "name": "stdout",
     "output_type": "stream",
     "text": [
      "8    36.895146\n",
      "1    23.789109\n",
      "5    49.103509\n",
      "dtype: float64\n"
     ]
    }
   ],
   "source": [
    "import numpy as np\n",
    "import matplotlib.pyplot as plt\n",
    "import pandas as pd\n",
    "import statsmodels.api as sm\n",
    "\n",
    "#Import the data box office revenues\n",
    "#Since we will be making predictions, let's load 10 observations\n",
    "d = {\"y\":[23,12,36,27,45,70,55,8,62,28],\"x\":[29,49,89,110,210,190,153,20,122,41]}\n",
    "data = pd.DataFrame(data = d)\n",
    "\n",
    "#To make predictions, we have to make a split between a train and a test set\n",
    "#Use the train_test_split function from sklearn to do so\n",
    "from sklearn.model_selection import train_test_split\n",
    "\n",
    "#Make a train and test split (70/30)\n",
    "train, test = train_test_split(data, test_size=0.30, random_state=42)\n",
    "\n",
    "#Build a statsmodels SLR\n",
    "#Add the intercept\n",
    "train = sm.add_constant(train)\n",
    "test = sm.add_constant(test)\n",
    "\n",
    "#Fit an OLS model and make a prediction\n",
    "linreg = sm.OLS(train[['y']],train[['const','x']]).fit()\n",
    "pred_stats = linreg.predict(test[['const','x']])\n",
    "print(pred_stats)"
   ]
  },
  {
   "cell_type": "code",
   "execution_count": 4,
   "id": "08fd5cdb-0df7-4c4b-a2ac-6c7d8e3382ca",
   "metadata": {},
   "outputs": [
    {
     "name": "stdout",
     "output_type": "stream",
     "text": [
      "MAE: 19.263484892178546\n",
      "RMSE: 20.049107665022714\n",
      "R-squared test: 0.38972664246405997\n",
      "R-squared train: 0.6787794571092658\n"
     ]
    }
   ],
   "source": [
    "from sklearn.metrics import mean_absolute_error as mae\n",
    "from sklearn.metrics import mean_squared_error as mse\n",
    "from sklearn.metrics import r2_score as r2\n",
    "\n",
    "print('MAE: '+str(mae(test[['y']],pred_stats)))\n",
    "print('RMSE: '+str(np.sqrt(mse(test[['y']],pred_stats))))\n",
    "print('R-squared test: '+str(r2(test[['y']],pred_stats)))\n",
    "print('R-squared train: '+str(linreg.rsquared))"
   ]
  },
  {
   "cell_type": "markdown",
   "id": "0791204d-a041-459b-8a61-6624d99766c4",
   "metadata": {},
   "source": [
    "Now, let's make predictions wih the sklearn package. Since it is focused on predicting, it does not have a nice output summary for simple linear regression. So, if you are interested in interpreting the model, statsmodels might be more suitable. However, for true predictive purposes, sklearn might be more convenient."
   ]
  },
  {
   "cell_type": "code",
   "execution_count": 5,
   "id": "05a181d5-2faa-4bfc-a292-bdcd8e1b7397",
   "metadata": {},
   "outputs": [
    {
     "name": "stdout",
     "output_type": "stream",
     "text": [
      "intercept: [14.99190618]\n",
      "x : [[0.17953475]]\n"
     ]
    },
    {
     "data": {
      "text/plain": [
       "True"
      ]
     },
     "execution_count": 5,
     "metadata": {},
     "output_type": "execute_result"
    }
   ],
   "source": [
    "from sklearn.linear_model import LinearRegression\n",
    "\n",
    "#Since sklearn automatically adds the intercept, let's make the train/test splits again\n",
    "train, test = train_test_split(data,test_size=0.3, random_state=42)\n",
    "\n",
    "#Initiate the linear regression model\n",
    "lm = LinearRegression()\n",
    "\n",
    "#Fit the model\n",
    "lm.fit(train[['x']],train[['y']])\n",
    "\n",
    "#We can have a look at intercept and the coefficient\n",
    "print('intercept: ' + str(lm.intercept_))\n",
    "print('x : ' + str(lm.coef_))\n",
    "\n",
    "#Make predictions\n",
    "pred_sk = lm.predict(test[['x']])\n",
    "\n",
    "#Check whether the results of statsmodels and sklearn are the same\n",
    "pred_sk.all()==pred_stats.all()"
   ]
  },
  {
   "cell_type": "code",
   "execution_count": 6,
   "id": "9b3848fb-51ec-4d10-9f23-52668b14c3a1",
   "metadata": {},
   "outputs": [
    {
     "name": "stdout",
     "output_type": "stream",
     "text": [
      "MAE: 19.263484892178543\n",
      "RMSE1: 20.04910766502271\n",
      "R-squared test: 0.3897266424640602\n",
      "R-squared train: 0.6787794571092659\n"
     ]
    }
   ],
   "source": [
    "#Evaluate performance\n",
    "print('MAE: '+str(mae(test[['y']],pred_sk)))\n",
    "print('RMSE1: '+str(np.sqrt(mse(test[['y']],pred_sk))))\n",
    "print('R-squared test: '+str(r2(test[['y']],pred_sk)))\n",
    "print('R-squared train: '+str(lm.score(train[['x']],train[['y']])))"
   ]
  },
  {
   "cell_type": "code",
   "execution_count": 7,
   "id": "528fdbe3-50ba-432a-9982-d2d33b2a5b2f",
   "metadata": {},
   "outputs": [
    {
     "data": {
      "image/png": "[encoded data removed]",
      "text/plain": [
       "<Figure size 432x288 with 1 Axes>"
      ]
     },
     "metadata": {
      "needs_background": "light"
     },
     "output_type": "display_data"
    }
   ],
   "source": [
    "#Make a plot of the training set and regression line\n",
    "plt.scatter(train[['x']], train[['y']], color='black')\n",
    "\n",
    "regression_line = lm.intercept_ + lm.coef_*train[['x']]\n",
    "plt.plot(train[['x']], regression_line, color = 'blue', linewidth = 3)\n",
    "\n",
    "plt.show()"
   ]
  },
  {
   "cell_type": "code",
   "execution_count": 8,
   "id": "bfcef0e1-7aec-4d1a-b481-c194a260860c",
   "metadata": {},
   "outputs": [
    {
     "data": {
      "image/png": "[encoded data removed]",
      "text/plain": [
       "<Figure size 432x288 with 1 Axes>"
      ]
     },
     "metadata": {},
     "output_type": "display_data"
    }
   ],
   "source": [
    "#Make plot of the predictions\n",
    "plt.scatter(test[['x']],test[['y']], color='black')\n",
    "plt.plot(test[['x']], pred_sk, color='blue', linewidth=3)\n",
    "\n",
    "plt.xticks(())\n",
    "plt.yticks(())\n",
    "\n",
    "plt.show()"
   ]
  }
 ],
 "metadata": {
  "kernelspec": {
   "display_name": "Python 3",
   "language": "python",
   "name": "python3"
  },
  "language_info": {
   "codemirror_mode": {
    "name": "ipython",
    "version": 3
   },
   "file_extension": ".py",
   "mimetype": "text/x-python",
   "name": "python",
   "nbconvert_exporter": "python",
   "pygments_lexer": "ipython3",
   "version": "3.8.5"
  }
 },
 "nbformat": 4,
 "nbformat_minor": 5
}
