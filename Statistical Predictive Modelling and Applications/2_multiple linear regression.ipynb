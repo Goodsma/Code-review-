{
 "cells": [
  {
   "cell_type": "markdown",
   "id": "9a0ee295-3bf6-41cc-ab99-de3b0bee6e05",
   "metadata": {},
   "source": [
    "To summarise, multiple linear regression has 5 main assumptions:\n",
    "\n",
    "-----\n",
    "\n",
    "2 related to the predictors: linear relationship between predictors and response, no multicollinearity\n",
    "\n",
    "- The first way is to calculate the Pearson correlation matrix between all predictors. \n",
    "\n",
    "(correlation between two predictors should be smaller than 0.80.)\n",
    "- A second way is to calculate the Variance Inflation Factor (VIF). \n",
    "\n",
    "(In general, a VIF higher than 10 is a clear indication of multicollinearity, a VIF between 4 and 10 is problematic and can be addressed, a VIF lower than 4 is acceptable.)\n",
    "\n",
    "-----\n",
    "1 related to the predictors and the error terms: multivariate normality\n",
    "\n",
    "- A first assumption of the error terms is called multivariate normality. This assumes that the residuals are normally distributed, which automatically also implies that the variables should be normally distributed. Normality can be tested with Q-Q-plots or simple histograms. You can also use a goodness-of-fit test (e.g., a Kolmogorov-Smirnov test) on the residuals to test for normality. The null hypothesis of such a test is that the data is normally distributed.\n",
    "\n",
    "- If there is no multivariate normality, then a transformation of the variables (e.g., a logarithmic transformation) is advised.\n",
    "\n",
    "-----\n",
    "\n",
    "2 related to the error terms: no autocorrelation and homoscedasticity\n",
    "\n",
    "- we assume that the error terms are independent, in other words, there is no autocorrelation between the error terms. Autocorrelation can be tested with a scatterplot or with an autocorrelation test (Durbin-Watson test). The null hypothesis for this test is that there is no linear autocorrelation between the error terms.\n",
    "\n",
    "-  If the error terms are homoscedastic, we see a chaotic scatterplot of the error terms with no real relationship. If there is no homoscedasticity (or heteroscedasticity), we see a pattern in the scatter plot. Often this pattern has a funnel shape and this represents a changing spread of the error terms.\n",
    "\n",
    "-----"
   ]
  },
  {
   "cell_type": "markdown",
   "id": "1a47b330-7eef-4c6e-83c5-404726a88777",
   "metadata": {},
   "source": [
    "F statistic\n",
    "If there is no relationship between predictors and response, we expect that  would approximately equal to 1. So, if the alternative hypothesis is true, we expect the F-statistic to be bigger than 1. Another option is to reject the null hypothesis when the p-value is smaller than 0.05.\n",
    "\n",
    "other question you might ask yourself is: Why not just look at the p-values and if there is one predictor that is significant, we know that at least one predictor is related to the response?\n",
    "\n",
    "Let us assume that we have many variables (200). There is a rule that states that 5% of the predictors will have very low p-values by chance. Therefore, if we used the p-values on the predictors to test the null hypothesis of our F-test, we would see that 10 variables have a very low p-value. Hence, we would conclude that at least one of the predictors is related to the response. However, this says nothing about the relationship between the predictors and response, because 5% just have a very low p-value by chance."
   ]
  },
  {
   "cell_type": "markdown",
   "id": "61eb9db9-5a63-4f37-b653-044020c07456",
   "metadata": {},
   "source": [
    "# Data exploration"
   ]
  },
  {
   "cell_type": "markdown",
   "id": "7b84f90e-d6ad-44a4-8785-76b3d0b2316a",
   "metadata": {},
   "source": [
    "Read in the data and make scatter plots between the predictors and the response."
   ]
  },
  {
   "cell_type": "code",
   "execution_count": 4,
   "id": "9c9790dc-9177-4a74-881a-fb070a7d4790",
   "metadata": {},
   "outputs": [
    {
     "data": {
      "image/png": "[encoded data removed]",
      "text/plain": [
       "<Figure size 540x540 with 12 Axes>"
      ]
     },
     "metadata": {
      "needs_background": "light"
     },
     "output_type": "display_data"
    }
   ],
   "source": [
    "import numpy as np\n",
    "import matplotlib.pyplot as plt\n",
    "import pandas as pd\n",
    "\n",
    "#Make the data\n",
    "#y are box office revenues, x1: advertising,x2: number of theaters  \n",
    "#All variables are expressed in 000s\n",
    "#Linear regression accepts Pandas DataFrame\n",
    "d = {\"y\":[23,12,36,27,45,70,55,8,62,28],\n",
    "     \"x1\":[29,49,89,110,210,190,153,20,122,41],\n",
    "     \"x2\": [2.036,2.919,1.707,1.505,2.232,2.910,2.795,1.46,3.288,1.838]\n",
    "    }\n",
    "data = pd.DataFrame(data=d)\n",
    "\n",
    "#To make a scatter plot of all predictors and response, you can use the seaborn package\n",
    "import seaborn as sea\n",
    "sea.pairplot(data)\n",
    "plt.show()"
   ]
  },
  {
   "cell_type": "markdown",
   "id": "6d000267-dd4f-4fba-9958-16f2a216a2cf",
   "metadata": {},
   "source": [
    " From those scatters, there seems to be little correlation between x1 and x2. To be sure about the correlation between x1 and x2, make a correlation matrix."
   ]
  },
  {
   "cell_type": "code",
   "execution_count": 7,
   "id": "180a6c69-4287-4e8f-8ec8-ad8f8e2eff5f",
   "metadata": {},
   "outputs": [
    {
     "data": {
      "text/html": [
       "<div>\n",
       "<style scoped>\n",
       "    .dataframe tbody tr th:only-of-type {\n",
       "        vertical-align: middle;\n",
       "    }\n",
       "\n",
       "    .dataframe tbody tr th {\n",
       "        vertical-align: top;\n",
       "    }\n",
       "\n",
       "    .dataframe thead th {\n",
       "        text-align: right;\n",
       "    }\n",
       "</style>\n",
       "<table border=\"1\" class=\"dataframe\">\n",
       "  <thead>\n",
       "    <tr style=\"text-align: right;\">\n",
       "      <th></th>\n",
       "      <th>y</th>\n",
       "      <th>x1</th>\n",
       "      <th>x2</th>\n",
       "    </tr>\n",
       "  </thead>\n",
       "  <tbody>\n",
       "    <tr>\n",
       "      <th>y</th>\n",
       "      <td>1.000000</td>\n",
       "      <td>0.814852</td>\n",
       "      <td>0.628218</td>\n",
       "    </tr>\n",
       "    <tr>\n",
       "      <th>x1</th>\n",
       "      <td>0.814852</td>\n",
       "      <td>1.000000</td>\n",
       "      <td>0.436513</td>\n",
       "    </tr>\n",
       "    <tr>\n",
       "      <th>x2</th>\n",
       "      <td>0.628218</td>\n",
       "      <td>0.436513</td>\n",
       "      <td>1.000000</td>\n",
       "    </tr>\n",
       "  </tbody>\n",
       "</table>\n",
       "</div>"
      ],
      "text/plain": [
       "           y        x1        x2\n",
       "y   1.000000  0.814852  0.628218\n",
       "x1  0.814852  1.000000  0.436513\n",
       "x2  0.628218  0.436513  1.000000"
      ]
     },
     "execution_count": 7,
     "metadata": {},
     "output_type": "execute_result"
    }
   ],
   "source": [
    "# In pandas, correlation can be calculated fairly easy\n",
    "# By default the pearson correlation is calculated\n",
    "data.corr()"
   ]
  },
  {
   "cell_type": "markdown",
   "id": "327c78fe-90dd-464b-974f-fe6658b1f5d8",
   "metadata": {},
   "source": [
    "Correlation between advertising and number of theatres is low: 0.44.\n",
    "\n",
    "We also see that the correlation between x1 and x2 and y are bigger than 0.50, which is good since we want to perform regression."
   ]
  },
  {
   "cell_type": "markdown",
   "id": "801b515e-0f42-47be-94fd-92a315b6d567",
   "metadata": {},
   "source": [
    "## Simple linear regression"
   ]
  },
  {
   "cell_type": "code",
   "execution_count": 8,
   "id": "44da0b02-8760-43cf-89ed-535037803d5f",
   "metadata": {},
   "outputs": [
    {
     "name": "stdout",
     "output_type": "stream",
     "text": [
      "                            OLS Regression Results                            \n",
      "==============================================================================\n",
      "Dep. Variable:                      y   R-squared:                       0.664\n",
      "Model:                            OLS   Adj. R-squared:                  0.622\n",
      "Method:                 Least Squares   F-statistic:                     15.81\n",
      "Date:                Thu, 09 Sep 2021   Prob (F-statistic):            0.00408\n",
      "Time:                        16:54:12   Log-Likelihood:                -38.624\n",
      "No. Observations:                  10   AIC:                             81.25\n",
      "Df Residuals:                       8   BIC:                             81.85\n",
      "Df Model:                           1                                         \n",
      "Covariance Type:            nonrobust                                         \n",
      "==============================================================================\n",
      "                 coef    std err          t      P>|t|      [0.025      0.975]\n",
      "------------------------------------------------------------------------------\n",
      "const         11.0657      7.603      1.455      0.184      -6.468      28.599\n",
      "x1             0.2521      0.063      3.976      0.004       0.106       0.398\n",
      "==============================================================================\n",
      "Omnibus:                        0.250   Durbin-Watson:                   2.119\n",
      "Prob(Omnibus):                  0.883   Jarque-Bera (JB):                0.401\n",
      "Skew:                          -0.026   Prob(JB):                        0.818\n",
      "Kurtosis:                       2.021   Cond. No.                         224.\n",
      "==============================================================================\n",
      "\n",
      "Notes:\n",
      "[1] Standard Errors assume that the covariance matrix of the errors is correctly specified.\n"
     ]
    },
    {
     "name": "stderr",
     "output_type": "stream",
     "text": [
      "C:\\Users\\goodsma\\anaconda3\\lib\\site-packages\\statsmodels\\tsa\\tsatools.py:142: FutureWarning: In a future version of pandas all arguments of concat except for the argument 'objs' will be keyword-only\n",
      "  x = pd.concat(x[::order], 1)\n",
      "C:\\Users\\goodsma\\anaconda3\\lib\\site-packages\\scipy\\stats\\stats.py:1541: UserWarning: kurtosistest only valid for n>=20 ... continuing anyway, n=10\n",
      "  warnings.warn(\"kurtosistest only valid for n>=20 ... continuing \"\n"
     ]
    }
   ],
   "source": [
    "import statsmodels.api as sm\n",
    "\n",
    "#Add a constant\n",
    "data_const = sm.add_constant(data)\n",
    "\n",
    "#Fit an OLS for advertising\n",
    "lm_ads = sm.OLS(data_const['y'],data_const[['const','x1']]).fit()\n",
    "print(lm_ads.summary())"
   ]
  },
  {
   "cell_type": "code",
   "execution_count": 9,
   "id": "c90bc6c0-d5ca-4463-a573-32bb26f75177",
   "metadata": {},
   "outputs": [
    {
     "name": "stdout",
     "output_type": "stream",
     "text": [
      "                            OLS Regression Results                            \n",
      "==============================================================================\n",
      "Dep. Variable:                      y   R-squared:                       0.395\n",
      "Model:                            OLS   Adj. R-squared:                  0.319\n",
      "Method:                 Least Squares   F-statistic:                     5.216\n",
      "Date:                Thu, 09 Sep 2021   Prob (F-statistic):             0.0518\n",
      "Time:                        16:57:36   Log-Likelihood:                -41.567\n",
      "No. Observations:                  10   AIC:                             87.13\n",
      "Df Residuals:                       8   BIC:                             87.74\n",
      "Df Model:                           1                                         \n",
      "Covariance Type:            nonrobust                                         \n",
      "==============================================================================\n",
      "                 coef    std err          t      P>|t|      [0.025      0.975]\n",
      "------------------------------------------------------------------------------\n",
      "const         -8.4790     20.481     -0.414      0.690     -55.708      38.750\n",
      "x2            19.8673      8.699      2.284      0.052      -0.193      39.928\n",
      "==============================================================================\n",
      "Omnibus:                        6.901   Durbin-Watson:                   1.766\n",
      "Prob(Omnibus):                  0.032   Jarque-Bera (JB):                2.691\n",
      "Skew:                          -1.190   Prob(JB):                        0.260\n",
      "Kurtosis:                       3.892   Cond. No.                         10.3\n",
      "==============================================================================\n",
      "\n",
      "Notes:\n",
      "[1] Standard Errors assume that the covariance matrix of the errors is correctly specified.\n"
     ]
    },
    {
     "name": "stderr",
     "output_type": "stream",
     "text": [
      "C:\\Users\\goodsma\\anaconda3\\lib\\site-packages\\scipy\\stats\\stats.py:1541: UserWarning: kurtosistest only valid for n>=20 ... continuing anyway, n=10\n",
      "  warnings.warn(\"kurtosistest only valid for n>=20 ... continuing \"\n"
     ]
    }
   ],
   "source": [
    "#Fit an OLS for number of theaters\n",
    "lm_theaters = sm.OLS(data_const['y'], data_const[['const','x2']]).fit()\n",
    "print(lm_theaters.summary())"
   ]
  },
  {
   "cell_type": "markdown",
   "id": "30fc0a0e-786d-4cc9-883a-2ff07c63c9a9",
   "metadata": {},
   "source": [
    "We see that the lm_ads model has more explanatory power than the lm_theaters model (high R-squared). Also the number of theatres is only significant on the 10% significance level."
   ]
  },
  {
   "cell_type": "markdown",
   "id": "2c804b17-1071-4f63-b0f7-0dcbe10d15fc",
   "metadata": {},
   "source": [
    "## Multiple linear regression"
   ]
  },
  {
   "cell_type": "code",
   "execution_count": 12,
   "id": "7ba8e1d8-d6f4-4764-9696-62673706dfdc",
   "metadata": {},
   "outputs": [],
   "source": [
    "#Function that fits an OLS for advertising and theaters.\n",
    "#This is done in exactly the same fashion as SLR\n",
    "def make_mlr(data, xvars, yvars):\n",
    "    \n",
    "    lm = sm.OLS(data[yvars], data[xvars]).fit()\n",
    "    \n",
    "    return lm"
   ]
  },
  {
   "cell_type": "code",
   "execution_count": 13,
   "id": "3eedb8c4-3d6d-4a8a-8258-ce32ec2af315",
   "metadata": {},
   "outputs": [
    {
     "name": "stdout",
     "output_type": "stream",
     "text": [
      "                            OLS Regression Results                            \n",
      "==============================================================================\n",
      "Dep. Variable:                      y   R-squared:                       0.756\n",
      "Model:                            OLS   Adj. R-squared:                  0.686\n",
      "Method:                 Least Squares   F-statistic:                     10.83\n",
      "Date:                Thu, 09 Sep 2021   Prob (F-statistic):            0.00720\n",
      "Time:                        17:06:47   Log-Likelihood:                -37.029\n",
      "No. Observations:                  10   AIC:                             80.06\n",
      "Df Residuals:                       7   BIC:                             80.97\n",
      "Df Model:                           2                                         \n",
      "Covariance Type:            nonrobust                                         \n",
      "==============================================================================\n",
      "                 coef    std err          t      P>|t|      [0.025      0.975]\n",
      "------------------------------------------------------------------------------\n",
      "const         -8.4879     13.908     -0.610      0.561     -41.376      24.400\n",
      "x1             0.2066      0.064      3.217      0.015       0.055       0.358\n",
      "x2            10.6473      6.566      1.622      0.149      -4.879      26.174\n",
      "==============================================================================\n",
      "Omnibus:                        2.741   Durbin-Watson:                   2.477\n",
      "Prob(Omnibus):                  0.254   Jarque-Bera (JB):                1.466\n",
      "Skew:                          -0.920   Prob(JB):                        0.480\n",
      "Kurtosis:                       2.631   Cond. No.                         488.\n",
      "==============================================================================\n",
      "\n",
      "Notes:\n",
      "[1] Standard Errors assume that the covariance matrix of the errors is correctly specified.\n"
     ]
    },
    {
     "name": "stderr",
     "output_type": "stream",
     "text": [
      "C:\\Users\\goodsma\\anaconda3\\lib\\site-packages\\scipy\\stats\\stats.py:1541: UserWarning: kurtosistest only valid for n>=20 ... continuing anyway, n=10\n",
      "  warnings.warn(\"kurtosistest only valid for n>=20 ... continuing \"\n"
     ]
    }
   ],
   "source": [
    "lm_full = make_mlr(data_const,['const','x1','x2'],'y')\n",
    "print(lm_full.summary())\n",
    "\n",
    "assert np.allclose(lm_full.params, (-8.48785663,0.20660479,10.64733005))"
   ]
  },
  {
   "cell_type": "markdown",
   "id": "7932a6c7-3321-4a4c-8e38-ba93d52edc34",
   "metadata": {},
   "source": [
    "Coefficients\n",
    "\n",
    "We see that x1 (advertising) is significant at the 5% signifance level. If the advertising spending increases with 1 unit (or 1000 Sterling) this implies that the box office revenues would increase on average with 0.2066 (or 206.6 Sterling), while keeping the number of theatres constant.\n",
    "We see that x2 (number of theatres) is not significant. In the SLR model it was still partially significant (p-value: 0.052), why? This is because advertising and number of theatres are correlated. In the SLR, the effect of number of theatres is actually not due to the number of theatres. It is because producers are spending more money on advertising that more theatres are playing the film, which is driving box office sales. In the SLR model, the number of theatres is getting credit for the effect of advertising on box office sales."
   ]
  },
  {
   "cell_type": "markdown",
   "id": "7aa497f4-401a-4820-baff-e8e7b272dc51",
   "metadata": {},
   "source": [
    "Performance\n",
    "\n",
    "The model performance of the MLR model is better than the two seperate models in terms of R-squared (0.76 vs 0.66 and 0.40). However, when comparing models, it is better to look at the adjusted R-squared since this corrects the R-squared for adding extra variables. When we look at the adjusted R-squared, we see that the MLR model improves model performance. However the difference with the SLR model on advertising is small (0.68 vs 0.62)\n",
    "The F-test is significant (p-value: 0.007), so this tells us that at least 1 of the predictors is related to the response (advertising in this case)."
   ]
  },
  {
   "cell_type": "markdown",
   "id": "78ba162b-7d72-4e30-84c5-693331e368ec",
   "metadata": {},
   "source": [
    "Assumptions\n",
    "\n",
    "The linear relationship betwen predictors and response is already tested by the pair plots in the data exploration part.\n",
    "Multicollinearity is also tested in the data exploration part. We saw that the correlation between advertising and number of theatres was 0.44 which is smaller than 0.80. However, a better way is to calculate the VIF (variance inflation factor). The VIFs of the predictors are low (below 4), only the VIF of the intercept is high. We are only interested in the VIF of the predictors, so a large VIF for the intercept is not problematic."
   ]
  },
  {
   "cell_type": "code",
   "execution_count": 23,
   "id": "82833edf-0d97-42c4-9de0-541b09b1fe53",
   "metadata": {},
   "outputs": [],
   "source": [
    "#Use the variance inflation factor from the statsmodels package\n",
    "from statsmodels.stats.outliers_influence import variance_inflation_factor\n",
    "\n",
    "#Extract the predictors and calculate the VIFs\n",
    "variables = lm_full.model.exog\n",
    "\n",
    "def calculate_vif(variables):\n",
    "    vif = pd.DataFrame()\n",
    "    vif['VIF'] = [variance_inflation_factor(variables,i) for i in range(variables.shape[1])]\n",
    "    vif['Predictor'] = lm_full.model.exog_names\n",
    "    \n",
    "    return vif"
   ]
  },
  {
   "cell_type": "code",
   "execution_count": 24,
   "id": "09a85fc9-ca4d-466e-bad7-eed4983319fc",
   "metadata": {},
   "outputs": [
    {
     "name": "stdout",
     "output_type": "stream",
     "text": [
      "         VIF Predictor\n",
      "0  14.054124     const\n",
      "1   1.235397        x1\n",
      "2   1.235397        x2\n"
     ]
    }
   ],
   "source": [
    "vifs = calculate_vif(variables)\n",
    "print(vifs)"
   ]
  },
  {
   "cell_type": "markdown",
   "id": "53e92d06-08f4-4510-8aa2-a6c415685875",
   "metadata": {},
   "source": [
    "Multivariate normality can be tested in a couple of ways. First, the histograms in the data exploration phase did not really show a normal distribution. Second, we can make a QQ-plot of the residuals. We see that the blue dots are not exactly on the red line, which is also an indication of no normal distribution. Finally, we can perform a normality test such as a Kolmogorov–Smirnov test. This test has as a null hypothesis that the data is normally distributed. We see that the p-value of the K-S test is 0.0009 thereby rejecting the null hypothesis of a normal distribution. To mitigate this problem, we could do variable transformations like a log transformation. However, in this case, we only have 10 observations, so gathering more obsverations might be a good solution."
   ]
  },
  {
   "cell_type": "code",
   "execution_count": 27,
   "id": "f68c1f9e-e333-45bd-80db-f9a6c75ee197",
   "metadata": {},
   "outputs": [
    {
     "data": {
      "image/png": "[encoded data removed]",
      "text/plain": [
       "<Figure size 432x288 with 1 Axes>"
      ]
     },
     "metadata": {
      "needs_background": "light"
     },
     "output_type": "display_data"
    },
    {
     "data": {
      "text/plain": [
       "KstestResult(statistic=0.5829140326147028, pvalue=0.000931893288038146)"
      ]
     },
     "execution_count": 27,
     "metadata": {},
     "output_type": "execute_result"
    }
   ],
   "source": [
    "#Make a QQ-plot of the residuals\n",
    "from scipy import stats\n",
    "\n",
    "stats.probplot(lm_full.resid, plot=plt)\n",
    "plt.title('Model1 Residuals Probability Plot')\n",
    "plt.show()\n",
    "\n",
    "#Do a K-S test\n",
    "stats.kstest(lm_full.resid, 'norm')"
   ]
  },
  {
   "cell_type": "markdown",
   "id": "0b388366-55d7-4196-941a-6fcca514c695",
   "metadata": {},
   "source": [
    "Autocorrelation can be tested with the Durbin-Watson test. The D-B test statistic can be seen in the output of MLR. Values between 1.5 and 2.5 are often seen as normal and serve as an indication for no autocorrelation problem."
   ]
  },
  {
   "cell_type": "markdown",
   "id": "bce27e4c-e8f3-4bf0-be3d-6ccdbe9a73cb",
   "metadata": {},
   "source": [
    "Finally, we want to test for heteroscedasticity. This can be tested by making a residual plot, which plots the residuals against the fitted values. If there is no pattern in the residuals, then there is no heteroscedasticity. From the residual plot, we cannot detect a funnel shape."
   ]
  },
  {
   "cell_type": "code",
   "execution_count": 32,
   "id": "b4657c80-6f7d-4c56-9323-eadc1b525506",
   "metadata": {},
   "outputs": [
    {
     "name": "stderr",
     "output_type": "stream",
     "text": [
      "C:\\Users\\goodsma\\anaconda3\\lib\\site-packages\\seaborn\\_decorators.py:36: FutureWarning: Pass the following variables as keyword args: x, y. From version 0.12, the only valid positional argument will be `data`, and passing other arguments without an explicit keyword will result in an error or misinterpretation.\n",
      "  warnings.warn(\n"
     ]
    },
    {
     "data": {
      "image/png": "[encoded data removed]",
      "text/plain": [
       "<Figure size 432x288 with 1 Axes>"
      ]
     },
     "metadata": {
      "needs_background": "light"
     },
     "output_type": "display_data"
    }
   ],
   "source": [
    "#Make a residual plot with the seaborn package\n",
    "#Lowess adds a scatter smoother\n",
    "plot_resid = sea.residplot(lm_full.fittedvalues, 'y', data=data_const,lowess=True,scatter_kws={'color':'blue'}, line_kws={'color':'red','lw':1,'alpha':0.8})\n",
    "\n",
    "plot_resid.axes.set_title('Residual Plot')\n",
    "plot_resid.axes.set_xlabel('Fitted values')\n",
    "plot_resid.axes.set_ylabel('Residuals')\n",
    "\n",
    "plt.show()"
   ]
  }
 ],
 "metadata": {
  "kernelspec": {
   "display_name": "Python 3",
   "language": "python",
   "name": "python3"
  },
  "language_info": {
   "codemirror_mode": {
    "name": "ipython",
    "version": 3
   },
   "file_extension": ".py",
   "mimetype": "text/x-python",
   "name": "python",
   "nbconvert_exporter": "python",
   "pygments_lexer": "ipython3",
   "version": "3.8.5"
  }
 },
 "nbformat": 4,
 "nbformat_minor": 5
}
