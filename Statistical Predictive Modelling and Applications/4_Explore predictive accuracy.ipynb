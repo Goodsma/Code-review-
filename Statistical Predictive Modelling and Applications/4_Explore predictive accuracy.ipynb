{
 "cells": [
  {
   "cell_type": "markdown",
   "id": "ce581e9e-326c-4676-960c-422605c03943",
   "metadata": {},
   "source": [
    "# Activity 6: Explore predictive accuracy"
   ]
  },
  {
   "cell_type": "code",
   "execution_count": 48,
   "id": "dfe295c4-9008-43b6-beda-b42874040da2",
   "metadata": {},
   "outputs": [
    {
     "data": {
      "text/html": [
       "<div>\n",
       "<style scoped>\n",
       "    .dataframe tbody tr th:only-of-type {\n",
       "        vertical-align: middle;\n",
       "    }\n",
       "\n",
       "    .dataframe tbody tr th {\n",
       "        vertical-align: top;\n",
       "    }\n",
       "\n",
       "    .dataframe thead th {\n",
       "        text-align: right;\n",
       "    }\n",
       "</style>\n",
       "<table border=\"1\" class=\"dataframe\">\n",
       "  <thead>\n",
       "    <tr style=\"text-align: right;\">\n",
       "      <th></th>\n",
       "      <th>VAR19</th>\n",
       "      <th>VAR21</th>\n",
       "    </tr>\n",
       "  </thead>\n",
       "  <tbody>\n",
       "    <tr>\n",
       "      <th>0</th>\n",
       "      <td>A192</td>\n",
       "      <td>1</td>\n",
       "    </tr>\n",
       "    <tr>\n",
       "      <th>1</th>\n",
       "      <td>A191</td>\n",
       "      <td>2</td>\n",
       "    </tr>\n",
       "    <tr>\n",
       "      <th>2</th>\n",
       "      <td>A191</td>\n",
       "      <td>1</td>\n",
       "    </tr>\n",
       "    <tr>\n",
       "      <th>3</th>\n",
       "      <td>A191</td>\n",
       "      <td>1</td>\n",
       "    </tr>\n",
       "    <tr>\n",
       "      <th>4</th>\n",
       "      <td>A191</td>\n",
       "      <td>2</td>\n",
       "    </tr>\n",
       "    <tr>\n",
       "      <th>5</th>\n",
       "      <td>A192</td>\n",
       "      <td>1</td>\n",
       "    </tr>\n",
       "    <tr>\n",
       "      <th>6</th>\n",
       "      <td>A191</td>\n",
       "      <td>1</td>\n",
       "    </tr>\n",
       "    <tr>\n",
       "      <th>7</th>\n",
       "      <td>A192</td>\n",
       "      <td>1</td>\n",
       "    </tr>\n",
       "    <tr>\n",
       "      <th>8</th>\n",
       "      <td>A191</td>\n",
       "      <td>1</td>\n",
       "    </tr>\n",
       "    <tr>\n",
       "      <th>9</th>\n",
       "      <td>A191</td>\n",
       "      <td>2</td>\n",
       "    </tr>\n",
       "  </tbody>\n",
       "</table>\n",
       "</div>"
      ],
      "text/plain": [
       "  VAR19  VAR21\n",
       "0  A192      1\n",
       "1  A191      2\n",
       "2  A191      1\n",
       "3  A191      1\n",
       "4  A191      2\n",
       "5  A192      1\n",
       "6  A191      1\n",
       "7  A192      1\n",
       "8  A191      1\n",
       "9  A191      2"
      ]
     },
     "execution_count": 48,
     "metadata": {},
     "output_type": "execute_result"
    }
   ],
   "source": [
    "import pandas as pd\n",
    "import numpy as np\n",
    "from sklearn.naive_bayes import MultinomialNB\n",
    "from sklearn.metrics import roc_curve, auc, roc_auc_score\n",
    "from sklearn.metrics import confusion_matrix as cm\n",
    "from sklearn.model_selection import train_test_split\n",
    "from sklearn.naive_bayes import BernoulliNB\n",
    "# VAR19: Telephone (A191 : none; A192 : yes, registered under the customers name) \n",
    "# VAR21: Status (target) : (1: Good, 2: Bad) \n",
    "\n",
    "xy = pd.read_csv('german.csv', usecols=['VAR19','VAR21'])\n",
    "xy.head(10)"
   ]
  },
  {
   "cell_type": "code",
   "execution_count": 5,
   "id": "5e27953e-e1cd-4249-9c07-2b671e7dccfa",
   "metadata": {
    "tags": []
   },
   "outputs": [
    {
     "data": {
      "text/html": [
       "<div>\n",
       "<style scoped>\n",
       "    .dataframe tbody tr th:only-of-type {\n",
       "        vertical-align: middle;\n",
       "    }\n",
       "\n",
       "    .dataframe tbody tr th {\n",
       "        vertical-align: top;\n",
       "    }\n",
       "\n",
       "    .dataframe thead th {\n",
       "        text-align: right;\n",
       "    }\n",
       "</style>\n",
       "<table border=\"1\" class=\"dataframe\">\n",
       "  <thead>\n",
       "    <tr style=\"text-align: right;\">\n",
       "      <th></th>\n",
       "      <th>Bad</th>\n",
       "      <th>Phone_no</th>\n",
       "      <th>Phone_yes</th>\n",
       "    </tr>\n",
       "  </thead>\n",
       "  <tbody>\n",
       "    <tr>\n",
       "      <th>0</th>\n",
       "      <td>0</td>\n",
       "      <td>0</td>\n",
       "      <td>1</td>\n",
       "    </tr>\n",
       "    <tr>\n",
       "      <th>1</th>\n",
       "      <td>1</td>\n",
       "      <td>1</td>\n",
       "      <td>0</td>\n",
       "    </tr>\n",
       "    <tr>\n",
       "      <th>2</th>\n",
       "      <td>0</td>\n",
       "      <td>1</td>\n",
       "      <td>0</td>\n",
       "    </tr>\n",
       "    <tr>\n",
       "      <th>3</th>\n",
       "      <td>0</td>\n",
       "      <td>1</td>\n",
       "      <td>0</td>\n",
       "    </tr>\n",
       "    <tr>\n",
       "      <th>4</th>\n",
       "      <td>1</td>\n",
       "      <td>1</td>\n",
       "      <td>0</td>\n",
       "    </tr>\n",
       "  </tbody>\n",
       "</table>\n",
       "</div>"
      ],
      "text/plain": [
       "   Bad  Phone_no  Phone_yes\n",
       "0    0         0          1\n",
       "1    1         1          0\n",
       "2    0         1          0\n",
       "3    0         1          0\n",
       "4    1         1          0"
      ]
     },
     "execution_count": 5,
     "metadata": {},
     "output_type": "execute_result"
    }
   ],
   "source": [
    "# skikit-learn can handle three types of data/distribtuions: Bernoulli variables (yes/no), multinomial (categorical), Gaussian (numeric)\n",
    "# For categorical data we still need quantitative inputs,\n",
    "# we will convert categories into dummies, the target variable also should be coded as 0/1.\n",
    "\n",
    "xy_dum=pd.get_dummies(xy, prefix='Phone')\n",
    "\n",
    "# VAR21 is coded as a number, so 'get dummies' ignores it, we can use 'rename' and 'replace'. \n",
    "# We will model Probability of Default, so let's name target as 'Bad' (equals 1)\n",
    "# Renaming phone dummies is optional, but helps interpretation\n",
    "xy_dum.rename (columns={'VAR21':'Bad','Phone_A191':'Phone_no','Phone_A192':'Phone_yes'}, inplace=True)\n",
    "xy_dum.loc[:,'Bad'].replace(([1,2]),[0,1],inplace=True)\n",
    "xy_dum.head()"
   ]
  },
  {
   "cell_type": "code",
   "execution_count": 21,
   "id": "576ccff2-8aea-446a-8033-f2073ccc0e61",
   "metadata": {},
   "outputs": [
    {
     "name": "stdout",
     "output_type": "stream",
     "text": [
      "Confusion matrix: \n",
      "[[700   0]\n",
      " [300   0]]\n"
     ]
    }
   ],
   "source": [
    "X = xy_dum.drop('Bad', axis=1)\n",
    "Y = xy_dum['Bad']\n",
    "\n",
    "model1 = MultinomialNB()\n",
    "model1.fit(X, Y.values.ravel())\n",
    "# ravel() converts y-vector into 1d array as required by sklearn\n",
    "# Y = xy_dum[['Bad']] also works\n",
    "Y_pred = model1.predict(X)\n",
    "\n",
    "print(\"Confusion matrix: \\n\"+str(cm(Y,Y_pred)))"
   ]
  },
  {
   "cell_type": "code",
   "execution_count": 37,
   "id": "03cf6268-1fbe-4b52-b0c8-c924a0ed681f",
   "metadata": {},
   "outputs": [
    {
     "name": "stdout",
     "output_type": "stream",
     "text": [
      "Confusion matrix: \n",
      "[[291 409]\n",
      " [113 187]]\n"
     ]
    },
    {
     "data": {
      "text/html": [
       "<div>\n",
       "<style scoped>\n",
       "    .dataframe tbody tr th:only-of-type {\n",
       "        vertical-align: middle;\n",
       "    }\n",
       "\n",
       "    .dataframe tbody tr th {\n",
       "        vertical-align: top;\n",
       "    }\n",
       "\n",
       "    .dataframe thead th {\n",
       "        text-align: right;\n",
       "    }\n",
       "</style>\n",
       "<table border=\"1\" class=\"dataframe\">\n",
       "  <thead>\n",
       "    <tr style=\"text-align: right;\">\n",
       "      <th>P_Bad</th>\n",
       "      <th>0.28002314048044485</th>\n",
       "      <th>0.31356461080822495</th>\n",
       "      <th>All</th>\n",
       "    </tr>\n",
       "    <tr>\n",
       "      <th>Bad</th>\n",
       "      <th></th>\n",
       "      <th></th>\n",
       "      <th></th>\n",
       "    </tr>\n",
       "  </thead>\n",
       "  <tbody>\n",
       "    <tr>\n",
       "      <th>0</th>\n",
       "      <td>291</td>\n",
       "      <td>409</td>\n",
       "      <td>700</td>\n",
       "    </tr>\n",
       "    <tr>\n",
       "      <th>1</th>\n",
       "      <td>113</td>\n",
       "      <td>187</td>\n",
       "      <td>300</td>\n",
       "    </tr>\n",
       "    <tr>\n",
       "      <th>All</th>\n",
       "      <td>404</td>\n",
       "      <td>596</td>\n",
       "      <td>1000</td>\n",
       "    </tr>\n",
       "  </tbody>\n",
       "</table>\n",
       "</div>"
      ],
      "text/plain": [
       "P_Bad  0.28002314048044485  0.31356461080822495   All\n",
       "Bad                                                  \n",
       "0                      291                  409   700\n",
       "1                      113                  187   300\n",
       "All                    404                  596  1000"
      ]
     },
     "execution_count": 37,
     "metadata": {},
     "output_type": "execute_result"
    }
   ],
   "source": [
    "# This happens because of imbalanced classes, as discussed before, since everyone is classified into 'Good'\n",
    "# From business point, it means we should accept everyone, and our PD will be as before 300/1000=0.3\n",
    "\n",
    "Y_prob = model1.predict_proba(X) # this produces predicted probabilities, column0 for 0 (Good), Column1 - for 1(Bad)\n",
    "Y_pred1 = np.where(Y_prob[:,1]>=0.3,1,0)\n",
    "# define cut-off at PD =0.3\n",
    "print('Confusion matrix: \\n'+str(cm(Y,Y_pred1)))\n",
    "\n",
    "Y_pr = pd.DataFrame({'Bad':Y, 'P_Bad':Y_prob[:,1], 'Bad_hat':Y_pred1})\n",
    "phone_cross = pd.crosstab(index=Y_pr['Bad'], columns=Y_pr['P_Bad'], margins=True)\n",
    "\n",
    "phone_cross"
   ]
  },
  {
   "cell_type": "code",
   "execution_count": 38,
   "id": "b67318e1-610d-436d-9a05-f646c54a47c1",
   "metadata": {},
   "outputs": [
    {
     "name": "stdout",
     "output_type": "stream",
     "text": [
      "AUC:0.5195238095238095\n"
     ]
    }
   ],
   "source": [
    "# the accuracy is lower, since now we mis-classify 409+113 customers as compared to 300 in the previous step\n",
    "# however, from a business point of view we will only accept those that are predicted Good (404 or c.40%),\n",
    "# and our PD among accepted (predicted as Good) is 0.28\n",
    "# which is slighly lower than 0.3, but we will have to reject 60% of applicants\n",
    "\n",
    "# We can also calculate the area under the ROC curve\n",
    "false_positive_rate, true_positive_rate, thresholds = roc_curve(Y, Y_prob[:,1])\n",
    "roc_auc=auc(false_positive_rate, true_positive_rate)\n",
    "print('AUC:'+str(roc_auc))"
   ]
  },
  {
   "cell_type": "code",
   "execution_count": 49,
   "id": "62a64479-b465-4157-a4a7-2efc3f7f6cc2",
   "metadata": {},
   "outputs": [
    {
     "name": "stdout",
     "output_type": "stream",
     "text": [
      "Confusion matrix: \n",
      "[[ 82 119]\n",
      " [ 40  59]]\n",
      "AUC:0.5019598974822855\n"
     ]
    }
   ],
   "source": [
    "X_train, X_test, Y_train, Y_test = train_test_split(X,Y,test_size=0.3,random_state=2)\n",
    "# 70% training and 30% test \n",
    "# random_state fixes the split, so if we want to compare the models, we compare then on the same sample\n",
    "\n",
    "model2 = BernoulliNB()\n",
    "model2.fit(X_train, Y_train.values.ravel())\n",
    "\n",
    "Y_prob2 = model2.predict_proba(X_test) # this produces predicted probablities\n",
    "Y_pred2 = np.where(Y_prob2[:,1]>=0.3, 1, 0) # define cut-off at PD =0.3 instead of 0.5\n",
    "print(\"Confusion matrix: \\n\"+str(cm(Y_test,Y_pred2)))\n",
    "\n",
    "# Model AUC?\n",
    "false_positive_rate, true_positive_rate, thresholds = roc_curve(Y_test, Y_prob2[:,1])\n",
    "roc_auc=auc(false_positive_rate, true_positive_rate)\n",
    "print('AUC:' + str(roc_auc))"
   ]
  },
  {
   "cell_type": "markdown",
   "id": "84514a47-5171-4e88-950a-63e27de1e7f8",
   "metadata": {},
   "source": [
    "As expected measures of predictive accuracy on the test sample are worse as compared to the training/whole. The deviation of AUC from 0.5 is small anyway, and estimated PD is now 0.32. Therefore, 'Telephone' is perhaps not a very strong predictor."
   ]
  }
 ],
 "metadata": {
  "kernelspec": {
   "display_name": "Python 3",
   "language": "python",
   "name": "python3"
  },
  "language_info": {
   "codemirror_mode": {
    "name": "ipython",
    "version": 3
   },
   "file_extension": ".py",
   "mimetype": "text/x-python",
   "name": "python",
   "nbconvert_exporter": "python",
   "pygments_lexer": "ipython3",
   "version": "3.8.5"
  }
 },
 "nbformat": 4,
 "nbformat_minor": 5
}
