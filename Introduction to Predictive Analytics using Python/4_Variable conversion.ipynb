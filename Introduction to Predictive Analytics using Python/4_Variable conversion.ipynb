{
 "cells": [
  {
   "cell_type": "markdown",
   "id": "04621083-26e9-46a9-9827-708a20997487",
   "metadata": {},
   "source": [
    "# Variable conversion"
   ]
  },
  {
   "cell_type": "markdown",
   "id": "c90f5836-8ec0-4e1c-b815-c24987773142",
   "metadata": {},
   "source": [
    "In this activity you will learn to convert variables from one type into the other."
   ]
  },
  {
   "cell_type": "markdown",
   "id": "04eed2f5-9e8f-4686-8eb4-05bb21bcc767",
   "metadata": {},
   "source": [
    "# Numeric to categorical"
   ]
  },
  {
   "cell_type": "markdown",
   "id": "03515578-295e-44b3-96d5-8c10e3923eb5",
   "metadata": {},
   "source": [
    "Consider the wine dataset we used earlier:"
   ]
  },
  {
   "cell_type": "code",
   "execution_count": 1,
   "id": "ff2847ce-f264-4b13-b70d-356cf70dbd69",
   "metadata": {},
   "outputs": [
    {
     "name": "stdout",
     "output_type": "stream",
     "text": [
      "   alcohol  malic_acid   ash  alcalinity_of_ash  magnesium  total_phenols  \\\n",
      "0    14.23        1.71  2.43               15.6      127.0           2.80   \n",
      "1    13.20        1.78  2.14               11.2      100.0           2.65   \n",
      "2    13.16        2.36  2.67               18.6      101.0           2.80   \n",
      "3    14.37        1.95  2.50               16.8      113.0           3.85   \n",
      "4    13.24        2.59  2.87               21.0      118.0           2.80   \n",
      "\n",
      "   flavanoids  nonflavanoid_phenols  proanthocyanins  color_intensity   hue  \\\n",
      "0        3.06                  0.28             2.29             5.64  1.04   \n",
      "1        2.76                  0.26             1.28             4.38  1.05   \n",
      "2        3.24                  0.30             2.81             5.68  1.03   \n",
      "3        3.49                  0.24             2.18             7.80  0.86   \n",
      "4        2.69                  0.39             1.82             4.32  1.04   \n",
      "\n",
      "   od280/od315_of_diluted_wines  proline  \n",
      "0                          3.92   1065.0  \n",
      "1                          3.40   1050.0  \n",
      "2                          3.17   1185.0  \n",
      "3                          3.45   1480.0  \n",
      "4                          2.93    735.0  \n"
     ]
    }
   ],
   "source": [
    "import sklearn.datasets as datasets\n",
    "import pandas as pd\n",
    "import numpy as np\n",
    "\n",
    "dataset = datasets.load_wine()\n",
    "X = pd.DataFrame(data=dataset['data'], columns=dataset['feature_names'])\n",
    "\n",
    "print(X.head())"
   ]
  },
  {
   "cell_type": "markdown",
   "id": "59946b89-30f4-46cb-a731-ce7e11887b50",
   "metadata": {},
   "source": [
    "Let's first bin the variable 'flavanoids' into 5 bins using pandas.\n",
    "\n",
    "equal-width."
   ]
  },
  {
   "cell_type": "code",
   "execution_count": 2,
   "id": "e30cd629-7189-432d-a709-a92d0da58a80",
   "metadata": {},
   "outputs": [
    {
     "name": "stdout",
     "output_type": "stream",
     "text": [
      "(2.236, 3.184]    64\n",
      "(0.335, 1.288]    51\n",
      "(1.288, 2.236]    43\n",
      "(3.184, 4.132]    19\n",
      "(4.132, 5.08]      1\n",
      "Name: flavanoids, dtype: int64\n"
     ]
    }
   ],
   "source": [
    "flavanoids = pd.cut(X['flavanoids'],5)\n",
    "print(flavanoids.value_counts())"
   ]
  },
  {
   "cell_type": "markdown",
   "id": "9a4398cf-cd5e-48b6-a3ca-cd0de23d0188",
   "metadata": {},
   "source": [
    "equal size"
   ]
  },
  {
   "cell_type": "code",
   "execution_count": 3,
   "id": "cb8e6950-dfd9-4f54-8e46-2381e15efd87",
   "metadata": {},
   "outputs": [
    {
     "name": "stdout",
     "output_type": "stream",
     "text": [
      "(0.339, 0.872]    36\n",
      "(1.738, 2.46]     36\n",
      "(2.46, 2.98]      36\n",
      "(0.872, 1.738]    35\n",
      "(2.98, 5.08]      35\n",
      "Name: flavanoids, dtype: int64\n"
     ]
    }
   ],
   "source": [
    "flavanoids = pd.qcut(X['flavanoids'], 5)\n",
    "print(flavanoids.value_counts())"
   ]
  },
  {
   "cell_type": "markdown",
   "id": "2a19b9e0-48df-4fac-a7f0-00348ce024e2",
   "metadata": {},
   "source": [
    "# Categorical to numeric"
   ]
  },
  {
   "cell_type": "code",
   "execution_count": 4,
   "id": "daeac41e-6181-472b-8f95-2208f7d169da",
   "metadata": {},
   "outputs": [
    {
     "name": "stdout",
     "output_type": "stream",
     "text": [
      "['blue' 'yellow' 'yellow' 'blue' 'yellow' 'red' 'yellow' 'yellow' 'blue'\n",
      " 'blue' 'blue' 'green' 'blue' 'yellow' 'red' 'yellow' 'blue' 'red'\n",
      " 'yellow' 'blue' 'green' 'yellow' 'blue' 'yellow' 'yellow' 'blue' 'blue'\n",
      " 'blue' 'blue' 'yellow' 'green' 'yellow' 'blue' 'blue' 'green' 'blue'\n",
      " 'red' 'red' 'blue' 'blue' 'blue' 'green' 'blue' 'yellow' 'yellow' 'red'\n",
      " 'blue' 'blue' 'yellow' 'yellow' 'blue' 'green' 'yellow' 'green' 'blue'\n",
      " 'blue' 'green' 'blue' 'blue' 'yellow' 'blue' 'red' 'yellow' 'yellow'\n",
      " 'yellow' 'blue' 'blue' 'yellow' 'yellow' 'blue' 'blue' 'yellow' 'blue'\n",
      " 'blue' 'blue' 'red' 'green' 'red' 'green' 'green' 'blue' 'yellow' 'blue'\n",
      " 'blue' 'blue' 'yellow' 'blue' 'blue' 'blue' 'red' 'blue' 'yellow'\n",
      " 'yellow' 'green' 'yellow' 'red' 'yellow' 'yellow' 'blue' 'yellow']\n"
     ]
    }
   ],
   "source": [
    "colours = ['blue', 'red', 'green', 'yellow']\n",
    "colour_array = np.random.choice(colours, 100, p =[0.5,0.1,0.1,0.3])\n",
    "print(colour_array)"
   ]
  },
  {
   "cell_type": "markdown",
   "id": "1bf521f1-ddce-4c39-be4e-dae22c7277c0",
   "metadata": {},
   "source": [
    "We can easily obtain dummies by using the following code:"
   ]
  },
  {
   "cell_type": "code",
   "execution_count": 7,
   "id": "d69b3a50-adb7-4728-aeb7-c301dc8069c2",
   "metadata": {
    "collapsed": true,
    "jupyter": {
     "outputs_hidden": true
    },
    "tags": []
   },
   "outputs": [
    {
     "data": {
      "text/html": [
       "<div>\n",
       "<style scoped>\n",
       "    .dataframe tbody tr th:only-of-type {\n",
       "        vertical-align: middle;\n",
       "    }\n",
       "\n",
       "    .dataframe tbody tr th {\n",
       "        vertical-align: top;\n",
       "    }\n",
       "\n",
       "    .dataframe thead th {\n",
       "        text-align: right;\n",
       "    }\n",
       "</style>\n",
       "<table border=\"1\" class=\"dataframe\">\n",
       "  <thead>\n",
       "    <tr style=\"text-align: right;\">\n",
       "      <th></th>\n",
       "      <th>color_green</th>\n",
       "      <th>color_red</th>\n",
       "      <th>color_yellow</th>\n",
       "    </tr>\n",
       "  </thead>\n",
       "  <tbody>\n",
       "    <tr>\n",
       "      <th>0</th>\n",
       "      <td>0</td>\n",
       "      <td>0</td>\n",
       "      <td>0</td>\n",
       "    </tr>\n",
       "    <tr>\n",
       "      <th>1</th>\n",
       "      <td>0</td>\n",
       "      <td>0</td>\n",
       "      <td>1</td>\n",
       "    </tr>\n",
       "    <tr>\n",
       "      <th>2</th>\n",
       "      <td>0</td>\n",
       "      <td>0</td>\n",
       "      <td>1</td>\n",
       "    </tr>\n",
       "    <tr>\n",
       "      <th>3</th>\n",
       "      <td>0</td>\n",
       "      <td>0</td>\n",
       "      <td>0</td>\n",
       "    </tr>\n",
       "    <tr>\n",
       "      <th>4</th>\n",
       "      <td>0</td>\n",
       "      <td>0</td>\n",
       "      <td>1</td>\n",
       "    </tr>\n",
       "  </tbody>\n",
       "</table>\n",
       "</div>"
      ],
      "text/plain": [
       "   color_green  color_red  color_yellow\n",
       "0            0          0             0\n",
       "1            0          0             1\n",
       "2            0          0             1\n",
       "3            0          0             0\n",
       "4            0          0             1"
      ]
     },
     "execution_count": 7,
     "metadata": {},
     "output_type": "execute_result"
    }
   ],
   "source": [
    "dummy_colours = pd.get_dummies(colour_array, prefix='color',drop_first=True)\n",
    "dummy_colours.head()"
   ]
  },
  {
   "cell_type": "code",
   "execution_count": 8,
   "id": "7f3a9647-2ca7-4cb1-9f1c-f0ed9854302a",
   "metadata": {},
   "outputs": [
    {
     "name": "stdout",
     "output_type": "stream",
     "text": [
      "[0 3 3 0 3 2 3 3 0 0 0 1 0 3 2 3 0 2 3 0 1 3 0 3 3 0 0 0 0 3 1 3 0 0 1 0 2\n",
      " 2 0 0 0 1 0 3 3 2 0 0 3 3 0 1 3 1 0 0 1 0 0 3 0 2 3 3 3 0 0 3 3 0 0 3 0 0\n",
      " 0 2 1 2 1 1 0 3 0 0 0 3 0 0 0 2 0 3 3 1 3 2 3 3 0 3]\n"
     ]
    }
   ],
   "source": [
    "from sklearn.preprocessing import LabelEncoder,OneHotEncoder\n",
    "\n",
    "# We can use a label encoder to transform categories into numbers\n",
    "enc = LabelEncoder()\n",
    "colour_label = enc.fit_transform(colour_array)\n",
    "print(colour_label)"
   ]
  },
  {
   "cell_type": "code",
   "execution_count": null,
   "id": "2831f5ce-e607-404b-8341-ff6403479254",
   "metadata": {},
   "outputs": [],
   "source": []
  }
 ],
 "metadata": {
  "kernelspec": {
   "display_name": "Python 3",
   "language": "python",
   "name": "python3"
  },
  "language_info": {
   "codemirror_mode": {
    "name": "ipython",
    "version": 3
   },
   "file_extension": ".py",
   "mimetype": "text/x-python",
   "name": "python",
   "nbconvert_exporter": "python",
   "pygments_lexer": "ipython3",
   "version": "3.8.5"
  }
 },
 "nbformat": 4,
 "nbformat_minor": 5
}
