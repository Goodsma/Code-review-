{
 "cells": [
  {
   "cell_type": "markdown",
   "id": "b9a75cba-aa1e-4e50-aca2-75f8e0bf91e9",
   "metadata": {},
   "source": [
    "# Clustering data"
   ]
  },
  {
   "cell_type": "markdown",
   "id": "e5977306-9cee-4ebe-ae32-5efffbff845f",
   "metadata": {},
   "source": [
    "Let's have a look at some numeric data we can cluster. First, we generate data:"
   ]
  },
  {
   "cell_type": "code",
   "execution_count": 4,
   "id": "c0e2f53b-641e-4f40-9913-64d1a1ab9074",
   "metadata": {},
   "outputs": [
    {
     "name": "stdout",
     "output_type": "stream",
     "text": [
      "       var1      var2\n",
      "0 -5.094102  4.863336\n",
      "1  5.434666  5.106170\n",
      "2  5.462461  4.260063\n",
      "3  3.736881  5.354560\n",
      "4 -4.962616  5.189325\n"
     ]
    },
    {
     "data": {
      "image/png": "[encoded data removed]",
      "text/plain": [
       "<Figure size 432x288 with 1 Axes>"
      ]
     },
     "metadata": {
      "needs_background": "light"
     },
     "output_type": "display_data"
    }
   ],
   "source": [
    "import pandas as pd\n",
    "import numpy as np\n",
    "import matplotlib.pyplot as plt\n",
    "from sklearn.datasets import make_classification\n",
    "\n",
    "np.random.seed(5)\n",
    "\n",
    "data = make_classification(n_samples=100, n_features=2, n_informative=2, n_redundant=0, n_repeated=0, n_classes=4,\n",
    "                          n_clusters_per_class=1, class_sep=5.0, shuffle=True, random_state=6)\n",
    "\n",
    "X = pd.DataFrame(data = data[0], columns = ['var1','var2'])\n",
    "print(X.head())\n",
    "\n",
    "plt.scatter(X['var1'], X['var2'])\n",
    "plt.show()"
   ]
  },
  {
   "cell_type": "code",
   "execution_count": 2,
   "id": "9ea01b0b-1365-43a8-8fe9-c13eb78914a7",
   "metadata": {},
   "outputs": [
    {
     "data": {
      "text/plain": [
       "(array([[-5.09410244,  4.86333632],\n",
       "        [ 5.43466624,  5.10616961],\n",
       "        [ 5.46246094,  4.26006308],\n",
       "        [ 3.7368807 ,  5.35455971],\n",
       "        [-4.96261596,  5.18932548],\n",
       "        [ 4.81354012,  4.64833891],\n",
       "        [ 4.76767008,  5.28514094],\n",
       "        [ 5.03343726, -4.16564495],\n",
       "        [ 4.93757183, -3.91852153],\n",
       "        [-4.71305444,  4.77660765],\n",
       "        [-4.00996756,  5.08594209],\n",
       "        [-4.99331571, -5.05882231],\n",
       "        [-5.19386849,  4.91411934],\n",
       "        [-4.63478116,  4.80447408],\n",
       "        [ 4.44283553, -6.30400405],\n",
       "        [-4.74138916, -5.00141504],\n",
       "        [-6.38548573, -4.43128727],\n",
       "        [-4.23319745, -5.46557562],\n",
       "        [ 4.76483506,  5.50007605],\n",
       "        [ 4.8243683 , -4.40744045],\n",
       "        [-4.40673063, -5.3686445 ],\n",
       "        [ 5.63431327,  4.65759563],\n",
       "        [-5.71703136, -4.50217617],\n",
       "        [-4.99090695,  5.28455108],\n",
       "        [-4.89901166, -5.0618314 ],\n",
       "        [ 5.09288136, -4.8274979 ],\n",
       "        [ 5.1987837 ,  5.13633976],\n",
       "        [-5.81594117,  4.56133371],\n",
       "        [ 4.837196  , -5.22206583],\n",
       "        [ 4.90055149,  4.41597163],\n",
       "        [-4.04711358, -5.41177678],\n",
       "        [ 4.41815108, -4.90433611],\n",
       "        [ 5.21361371,  5.18932297],\n",
       "        [ 4.35254531,  4.27380693],\n",
       "        [-5.03243271, -5.06036366],\n",
       "        [-4.43558123,  5.32446817],\n",
       "        [ 4.79033374, -5.83624664],\n",
       "        [-5.39595459, -4.66779731],\n",
       "        [-5.09328599,  4.75327284],\n",
       "        [ 4.30657701,  4.83927727],\n",
       "        [-5.11800984,  5.25452718],\n",
       "        [-4.87650745,  5.19927756],\n",
       "        [-4.62500074, -5.02202111],\n",
       "        [-4.48753709,  5.02153272],\n",
       "        [-5.06695425, -4.87430994],\n",
       "        [ 4.94744812, -6.54602632],\n",
       "        [ 4.28925678,  4.77670764],\n",
       "        [ 5.85171741,  4.68898241],\n",
       "        [-4.41539983, -5.19080583],\n",
       "        [ 5.76795919,  4.26117684],\n",
       "        [-5.0335311 ,  5.01580346],\n",
       "        [-5.59782902, -4.60596667],\n",
       "        [-4.00629343,  4.79367158],\n",
       "        [ 4.15276377,  4.88956901],\n",
       "        [-5.28082691, -4.9649495 ],\n",
       "        [-4.35565071, -5.49743689],\n",
       "        [ 5.58364024,  5.48417281],\n",
       "        [-4.96227246,  5.24875385],\n",
       "        [ 4.73777799, -5.12922169],\n",
       "        [-4.74616595,  5.27703797],\n",
       "        [ 4.58013544, -3.47661697],\n",
       "        [ 3.85296932,  5.10174344],\n",
       "        [ 5.03711128, -4.19409534],\n",
       "        [-4.23086611, -5.31439642],\n",
       "        [ 4.52124466, -5.47890587],\n",
       "        [ 5.04287586, -5.18808434],\n",
       "        [ 5.03388205,  5.48781578],\n",
       "        [ 4.57463665,  5.31717136],\n",
       "        [-5.97686252, -4.48370393],\n",
       "        [-5.04259813,  5.07068213],\n",
       "        [ 4.87144286, -5.12364586],\n",
       "        [ 5.28322094, -6.36875744],\n",
       "        [ 4.54574413, -3.67495507],\n",
       "        [-5.29596507,  5.3193517 ],\n",
       "        [-4.98682285, -4.99016165],\n",
       "        [-5.92806264,  4.6902747 ],\n",
       "        [ 4.70998976,  5.80754148],\n",
       "        [-4.93162572, -5.03047265],\n",
       "        [ 3.55540071,  5.07884872],\n",
       "        [ 4.89439204,  5.25727858],\n",
       "        [ 4.16958024, -8.11102574],\n",
       "        [-5.24492579, -4.90698734],\n",
       "        [ 4.91106611, -4.62204903],\n",
       "        [-4.7695562 ,  4.41552113],\n",
       "        [ 5.02777288, -4.43734818],\n",
       "        [ 5.1064127 , -5.13396837],\n",
       "        [-4.93540542,  4.81619999],\n",
       "        [-4.58373084,  4.85605458],\n",
       "        [-3.17349173, -5.9377571 ],\n",
       "        [ 4.6712847 , -5.56789481],\n",
       "        [ 5.5339564 , -3.04670165],\n",
       "        [ 4.68997177, -5.1659009 ],\n",
       "        [-4.69362152,  4.62416151],\n",
       "        [-3.83242018, -5.63360346],\n",
       "        [-4.93093516, -5.16196042],\n",
       "        [ 4.49877326,  5.46061607],\n",
       "        [-6.5565414 , -4.16737014],\n",
       "        [ 4.94724308, -4.79896786],\n",
       "        [ 6.97439328,  5.488419  ],\n",
       "        [-4.95159091,  5.22434146]]),\n",
       " array([1, 3, 3, 3, 1, 3, 3, 2, 2, 1, 1, 0, 1, 1, 2, 0, 0, 0, 3, 2, 0, 3,\n",
       "        0, 1, 0, 2, 3, 1, 2, 3, 0, 2, 3, 3, 0, 1, 2, 0, 1, 3, 1, 1, 0, 1,\n",
       "        0, 2, 3, 3, 0, 3, 1, 0, 1, 3, 0, 0, 3, 1, 2, 1, 2, 3, 2, 0, 2, 2,\n",
       "        3, 3, 0, 1, 2, 2, 2, 1, 0, 1, 3, 0, 3, 3, 2, 0, 2, 1, 2, 2, 1, 1,\n",
       "        0, 2, 2, 2, 1, 0, 0, 3, 0, 2, 3, 1]))"
      ]
     },
     "execution_count": 2,
     "metadata": {},
     "output_type": "execute_result"
    }
   ],
   "source": [
    "data"
   ]
  },
  {
   "cell_type": "markdown",
   "id": "5b218780-07e2-4839-8042-0584d007b1f3",
   "metadata": {},
   "source": [
    "# Using k-means"
   ]
  },
  {
   "cell_type": "markdown",
   "id": "eb72e9c3-6066-4fa1-8bf0-2f81278db413",
   "metadata": {},
   "source": [
    "Clustering them is straightforward with scikit-learn:"
   ]
  },
  {
   "cell_type": "code",
   "execution_count": 6,
   "id": "39c9390f-fe48-497f-9088-c5bd61c20f27",
   "metadata": {},
   "outputs": [
    {
     "name": "stdout",
     "output_type": "stream",
     "text": [
      "[1 0 0 0 1 0 0 3 3 1 1 4 1 1 3 4 4 2 0 3 2 0 4 1 4 3 0 1 3 0 2 3 0 0 4 1 3\n",
      " 4 1 0 1 1 2 1 4 3 0 0 2 0 1 4 1 0 4 2 0 1 3 1 3 0 3 2 3 3 0 0 4 1 3 3 3 1\n",
      " 4 1 0 4 0 0 3 4 3 1 3 3 1 1 2 3 3 3 1 2 4 0 4 3 0 1]\n",
      "[[ 4.89304848  5.03066823]\n",
      " [-4.89499814  4.97538489]\n",
      " [-4.14665233 -5.42689086]\n",
      " [ 4.84004257 -5.02599692]\n",
      " [-5.35862153 -4.81059846]]\n"
     ]
    }
   ],
   "source": [
    "from sklearn.cluster import KMeans\n",
    "\n",
    "k_m = KMeans(n_clusters = 5, init='random')\n",
    "\n",
    "k_m.fit_predict(X)\n",
    "\n",
    "print(k_m.labels_)\n",
    "print(k_m.cluster_centers_)"
   ]
  },
  {
   "cell_type": "markdown",
   "id": "cce4a744-3e33-4b3c-9169-5a32d77c4c90",
   "metadata": {},
   "source": [
    "Let's now visualise the clusters along the dimensions of these two variables:"
   ]
  },
  {
   "cell_type": "code",
   "execution_count": 13,
   "id": "554c2246-839e-444b-ae26-39352396776b",
   "metadata": {},
   "outputs": [
    {
     "data": {
      "image/png": "[encoded data removed]",
      "text/plain": [
       "<Figure size 432x288 with 1 Axes>"
      ]
     },
     "metadata": {
      "needs_background": "light"
     },
     "output_type": "display_data"
    }
   ],
   "source": [
    "colours = {0:'black',1:'red',2:'green',3:'blue',4:'yellow'}\n",
    "\n",
    "for (index,obs), label in zip(X.iterrows(), k_m.labels_):\n",
    "    plt.scatter(obs['var1'], obs['var2'], color = colours[label])\n",
    "plt.show()    "
   ]
  },
  {
   "cell_type": "code",
   "execution_count": 14,
   "id": "b5bf100d-b958-4279-907c-f8ce5be0a363",
   "metadata": {},
   "outputs": [
    {
     "data": {
      "image/png": "[encoded data removed]",
      "text/plain": [
       "<Figure size 432x288 with 1 Axes>"
      ]
     },
     "metadata": {
      "needs_background": "light"
     },
     "output_type": "display_data"
    }
   ],
   "source": [
    "k_m = KMeans(n_clusters = 2, init='random')\n",
    "k_m.fit_predict(X)\n",
    "for (index, obs), label in zip(X.iterrows(), k_m.labels_):\n",
    "    plt.scatter(obs['var1'], obs['var2'], color = colours[label])\n",
    "plt.show()"
   ]
  },
  {
   "cell_type": "markdown",
   "id": "9a89138c-fc4f-4283-8381-b5a90e8d1b87",
   "metadata": {},
   "source": [
    "# A different dataset"
   ]
  },
  {
   "cell_type": "code",
   "execution_count": 15,
   "id": "3eed8ba1-1ef7-43a5-a388-c34d47db16de",
   "metadata": {},
   "outputs": [
    {
     "data": {
      "image/png": "[encoded data removed]",
      "text/plain": [
       "<Figure size 432x288 with 2 Axes>"
      ]
     },
     "metadata": {
      "needs_background": "light"
     },
     "output_type": "display_data"
    }
   ],
   "source": [
    "data = make_classification(n_samples=100, n_features=2, n_informative=2, n_redundant=0, n_repeated=0, n_classes=4,\n",
    "                          n_clusters_per_class=1, class_sep=0.4, shuffle=True, random_state=6)\n",
    "\n",
    "X = pd.DataFrame(data = data[0], columns = ['var1','var2'])\n",
    "\n",
    "plt.subplot(1, 2, 1)\n",
    "k_m = KMeans(n_clusters = 2, init='random')\n",
    "k_m.fit_predict(X)\n",
    "for (index, obs), label in zip(X.iterrows(), k_m.labels_):\n",
    "    plt.scatter(obs['var1'], obs['var2'], color = colours[label])\n",
    "plt.title('2 clusters')\n",
    "\n",
    "plt.subplot(1, 2, 2)\n",
    "k_m = KMeans(n_clusters = 5, init='random')\n",
    "k_m.fit_predict(X)\n",
    "for (index, obs), label in zip(X.iterrows(), k_m.labels_):\n",
    "    plt.scatter(obs['var1'], obs['var2'], color = colours[label])\n",
    "plt.title('5 clusters')\n",
    "plt.show()"
   ]
  },
  {
   "cell_type": "markdown",
   "id": "30a96b1a-6e38-440f-a439-3fc5fdbbc950",
   "metadata": {},
   "source": [
    "# Determining the number of clusters"
   ]
  },
  {
   "cell_type": "markdown",
   "id": "f67cf93e-bd76-4e0e-9fea-84d471f3dbe7",
   "metadata": {},
   "source": [
    "sum of squared errors (SSE) can be used to plot the decrease over the number of clusters to see whether there is still extra error reduction by introducing more clusters:"
   ]
  },
  {
   "cell_type": "code",
   "execution_count": 20,
   "id": "e4420c88-e042-4279-a6c6-03949ce26f10",
   "metadata": {},
   "outputs": [
    {
     "data": {
      "image/png": "[encoded data removed]",
      "text/plain": [
       "<Figure size 432x288 with 1 Axes>"
      ]
     },
     "metadata": {
      "needs_background": "light"
     },
     "output_type": "display_data"
    }
   ],
   "source": [
    "data = make_classification(n_samples=100, n_features=2, n_informative=2, n_redundant=0,n_repeated=0, n_classes=4,\n",
    "                          n_clusters_per_class=1, class_sep=4, shuffle=True, random_state=6)\n",
    "X = pd.DataFrame(data = data[0], columns = ['var1','var2'])\n",
    "\n",
    "sse = {}\n",
    "for k in range(1,10):\n",
    "    kmeans = KMeans(n_clusters=k, max_iter=20).fit(X)\n",
    "    \n",
    "    sse[k] = kmeans.inertia_\n",
    "plt.figure()\n",
    "plt.plot(list(sse.keys()), list(sse.values()))\n",
    "plt.xlabel('Number of clusters')\n",
    "plt.ylabel('SSE')\n",
    "plt.show()"
   ]
  },
  {
   "cell_type": "markdown",
   "id": "09d4e392-02f0-4ef9-9c40-f8ad41a5110e",
   "metadata": {},
   "source": [
    "There is a clear point in the curve where it starts to flatten. Finding this point is called the elbow method."
   ]
  },
  {
   "cell_type": "code",
   "execution_count": 21,
   "id": "763b9a44-5bfa-4881-b1c9-6581d64f9714",
   "metadata": {},
   "outputs": [
    {
     "data": {
      "image/png": "[encoded data removed]",
      "text/plain": [
       "<Figure size 432x288 with 1 Axes>"
      ]
     },
     "metadata": {
      "needs_background": "light"
     },
     "output_type": "display_data"
    }
   ],
   "source": [
    "data = make_classification(n_samples=100, n_features=2, \n",
    "                              n_informative=2, n_redundant=0, n_repeated=0, n_classes=2, \n",
    "                              n_clusters_per_class=1, \n",
    "                              class_sep=0.4, shuffle=True, random_state=6)\n",
    "X = pd.DataFrame(data = data[0], columns = ['var1','var2'])\n",
    "\n",
    "sse = {}\n",
    "for k in range(1, 10):\n",
    "    kmeans = KMeans(n_clusters=k, max_iter=20).fit(X)\n",
    "    sse[k] = kmeans.inertia_ \n",
    "plt.figure()\n",
    "plt.plot(list(sse.keys()), list(sse.values()))\n",
    "plt.xlabel(\"Number of clusters\")\n",
    "plt.ylabel(\"SSE\")\n",
    "plt.show()"
   ]
  },
  {
   "cell_type": "markdown",
   "id": "802097d6-a46e-4774-9bc4-733170093a9c",
   "metadata": {},
   "source": [
    "In this case, with only two generated clusters (```n_classes = 2```), there is a less pronounced elbow point, as the separation (```class_sep```) is low."
   ]
  },
  {
   "cell_type": "markdown",
   "id": "5f2f2342-52b7-4616-b3a5-be200f6f4197",
   "metadata": {},
   "source": [
    "# Visualisation"
   ]
  },
  {
   "cell_type": "code",
   "execution_count": 35,
   "id": "68d06998-e8cb-463a-9468-1588a191182b",
   "metadata": {},
   "outputs": [
    {
     "data": {
      "image/png": "[encoded data removed]",
      "text/plain": [
       "<Figure size 432x288 with 1 Axes>"
      ]
     },
     "metadata": {
      "needs_background": "light"
     },
     "output_type": "display_data"
    }
   ],
   "source": [
    "import matplotlib as mpl\n",
    "import matplotlib.cm as cm\n",
    "\n",
    "data = make_classification(n_samples=100, n_features=2,\n",
    "                          n_informative=2, n_redundant=0, n_repeated=0, n_classes=4,n_clusters_per_class=1,class_sep=4, shuffle=True, random_state=6)\n",
    "\n",
    "X = pd.DataFrame(data = data[0], columns = ['var1','var2'])\n",
    "\n",
    "# 4-means clustering\n",
    "no_clusters = 4\n",
    "k_m = KMeans(n_clusters = no_clusters, init='random')\n",
    "k_m.fit_predict(X)\n",
    "\n",
    "# We normalize the range of our labels so they are mapped to colour codes\n",
    "norm = mpl.colors.Normalize(vmin=0, vmax= no_clusters)\n",
    "\n",
    "# We import a colour map, in this case with 'hot'/reddish colours\n",
    "cmap = cm.hot\n",
    "\n",
    "# This object allows us to map our normalised values along the colour map\n",
    "m = cm.ScalarMappable(norm=norm, cmap=cmap)\n",
    "\n",
    "# Now, we can apply the same loop, but using the ScalarMappable object:\n",
    "for (index, obs), label in zip(X.iterrows(), k_m.labels_):\n",
    "    plt.scatter(obs['var1'], obs['var2'], color = m.to_rgba(label))\n",
    "plt.show()"
   ]
  },
  {
   "cell_type": "code",
   "execution_count": 32,
   "id": "dd4df378-af02-45d1-b914-550574c3207e",
   "metadata": {},
   "outputs": [
    {
     "data": {
      "image/png": "[encoded data removed]",
      "text/html": [
       "<div style=\"vertical-align: middle;\"><strong>hot</strong> </div><div class=\"cmap\"><img alt=\"hot colormap\" title=\"hot\" style=\"border: 1px solid #555;\" src=\"data:image/png;base64,iVBORw0KGgoAAAANSUhEUgAAAgAAAABACAYAAABsv8+/AAAAEnRFWHRUaXRsZQBob3QgY29sb3JtYXBMLchKAAAAGHRFWHREZXNjcmlwdGlvbgBob3QgY29sb3JtYXBABboQAAAAMHRFWHRBdXRob3IATWF0cGxvdGxpYiB2My40LjIsIGh0dHBzOi8vbWF0cGxvdGxpYi5vcmes1mPdAAAAMnRFWHRTb2Z0d2FyZQBNYXRwbG90bGliIHYzLjQuMiwgaHR0cHM6Ly9tYXRwbG90bGliLm9yZ4Jw/PoAAAFaSURBVHic7da5DoIAEADRRaz8///VwqOgUQsjZN5rNiEsRwLJLJeZ68zMOnenx1w3c3v80/Ps29/T/vLuQkd9sdr+UZ5zr/uvH+H8p7l+eb77/2I+vwIAIEQAAECQAACAIAEAAEECAACCBAAABAkAAAgSAAAQJAAAIEgAAECQAACAIAEAAEECAACCBAAABAkAAAgSAAAQJAAAIEgAAECQAACAIAEAAEECAACCBAAABAkAAAgSAAAQJAAAIEgAAECQAACAIAEAAEECAACCBAAABAkAAAgSAAAQJAAAIEgAAECQAACAIAEAAEECAACCBAAABAkAAAgSAAAQJAAAIEgAAECQAACAIAEAAEECAACCBAAABAkAAAgSAAAQJAAAIEgAAECQAACAIAEAAEECAACCBAAABAkAAAgSAAAQJAAAIEgAAECQAACAIAEAAEECAACCBAAABAkAAAi6AblkBHyWiDNaAAAAAElFTkSuQmCC\"></div><div style=\"vertical-align: middle; max-width: 514px; display: flex; justify-content: space-between;\"><div style=\"float: left;\"><div title=\"#0b0000ff\" style=\"display: inline-block; width: 1em; height: 1em; margin: 0; vertical-align: middle; border: 1px solid #555; background-color: #0b0000ff;\"></div> under</div><div style=\"margin: 0 auto; display: inline-block;\">bad <div title=\"#00000000\" style=\"display: inline-block; width: 1em; height: 1em; margin: 0; vertical-align: middle; border: 1px solid #555; background-color: #00000000;\"></div></div><div style=\"float: right;\">over <div title=\"#ffffffff\" style=\"display: inline-block; width: 1em; height: 1em; margin: 0; vertical-align: middle; border: 1px solid #555; background-color: #ffffffff;\"></div></div>"
      ],
      "text/plain": [
       "<matplotlib.colors.LinearSegmentedColormap at 0x145b74d1cd0>"
      ]
     },
     "execution_count": 32,
     "metadata": {},
     "output_type": "execute_result"
    }
   ],
   "source": [
    "cmap"
   ]
  }
 ],
 "metadata": {
  "kernelspec": {
   "display_name": "Python 3",
   "language": "python",
   "name": "python3"
  },
  "language_info": {
   "codemirror_mode": {
    "name": "ipython",
    "version": 3
   },
   "file_extension": ".py",
   "mimetype": "text/x-python",
   "name": "python",
   "nbconvert_exporter": "python",
   "pygments_lexer": "ipython3",
   "version": "3.8.5"
  }
 },
 "nbformat": 4,
 "nbformat_minor": 5
}
